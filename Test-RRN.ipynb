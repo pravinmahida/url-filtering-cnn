{
 "cells": [
  {
   "cell_type": "code",
   "execution_count": 1,
   "id": "305e7b97",
   "metadata": {},
   "outputs": [],
   "source": [
    "import pandas as pd\n",
    "import matplotlib.pyplot as plt\n",
    "import numpy as np\n",
    "from sklearn.model_selection import train_test_split\n",
    "from sklearn.preprocessing  import LabelEncoder\n",
    "\n",
    "import tensorflow_datasets as tfds\n",
    "import tensorflow as tf\n",
    "\n",
    "from tensorflow.python.keras.layers import Dense\n",
    "from tensorflow.python.keras.layers import Dropout\n",
    "from tensorflow.python.keras.layers import Embedding\n",
    "from tensorflow.python.keras.layers import Conv1D\n",
    "from tensorflow.python.keras.layers import MaxPooling1D\n",
    "from tensorflow.python.keras.layers import Lambda\n",
    "from tensorflow.python.keras.layers import GlobalAveragePooling1D\n",
    "from keras.layers import Input, Embedding, LSTM, Dense, merge\n",
    "from keras import backend as K\n",
    "\n",
    "tfds.disable_progress_bar()"
   ]
  },
  {
   "cell_type": "code",
   "execution_count": 2,
   "id": "29da76eb",
   "metadata": {},
   "outputs": [],
   "source": [
    "import matplotlib.pyplot as plt\n",
    "\n",
    "\n",
    "def plot_graphs(history, metric):\n",
    "  plt.plot(history.history[metric])\n",
    "  plt.plot(history.history['val_'+metric], '')\n",
    "  plt.xlabel(\"Epochs\")\n",
    "  plt.ylabel(metric)\n",
    "  plt.legend([metric, 'val_'+metric])"
   ]
  },
  {
   "cell_type": "code",
   "execution_count": 3,
   "id": "77574d44",
   "metadata": {},
   "outputs": [
    {
     "name": "stdout",
     "output_type": "stream",
     "text": [
      "<class 'pandas.core.frame.DataFrame'>\n",
      "RangeIndex: 450176 entries, 0 to 450175\n",
      "Data columns (total 4 columns):\n",
      " #   Column      Non-Null Count   Dtype \n",
      "---  ------      --------------   ----- \n",
      " 0   Unnamed: 0  450176 non-null  int64 \n",
      " 1   url         450176 non-null  object\n",
      " 2   label       450176 non-null  object\n",
      " 3   result      450176 non-null  int64 \n",
      "dtypes: int64(2), object(2)\n",
      "memory usage: 13.7+ MB\n"
     ]
    }
   ],
   "source": [
    "# load Dataset1.\n",
    "url_data = pd.read_csv('urldata.csv')\n",
    "url_data.info()"
   ]
  },
  {
   "cell_type": "code",
   "execution_count": 4,
   "id": "a59ee565",
   "metadata": {},
   "outputs": [
    {
     "data": {
      "text/html": [
       "<div>\n",
       "<style scoped>\n",
       "    .dataframe tbody tr th:only-of-type {\n",
       "        vertical-align: middle;\n",
       "    }\n",
       "\n",
       "    .dataframe tbody tr th {\n",
       "        vertical-align: top;\n",
       "    }\n",
       "\n",
       "    .dataframe thead th {\n",
       "        text-align: right;\n",
       "    }\n",
       "</style>\n",
       "<table border=\"1\" class=\"dataframe\">\n",
       "  <thead>\n",
       "    <tr style=\"text-align: right;\">\n",
       "      <th></th>\n",
       "      <th>Unnamed: 0</th>\n",
       "      <th>url</th>\n",
       "      <th>label</th>\n",
       "      <th>result</th>\n",
       "    </tr>\n",
       "  </thead>\n",
       "  <tbody>\n",
       "    <tr>\n",
       "      <th>0</th>\n",
       "      <td>0</td>\n",
       "      <td>https://www.google.com</td>\n",
       "      <td>benign</td>\n",
       "      <td>0</td>\n",
       "    </tr>\n",
       "    <tr>\n",
       "      <th>1</th>\n",
       "      <td>1</td>\n",
       "      <td>https://www.youtube.com</td>\n",
       "      <td>benign</td>\n",
       "      <td>0</td>\n",
       "    </tr>\n",
       "    <tr>\n",
       "      <th>2</th>\n",
       "      <td>2</td>\n",
       "      <td>https://www.facebook.com</td>\n",
       "      <td>benign</td>\n",
       "      <td>0</td>\n",
       "    </tr>\n",
       "    <tr>\n",
       "      <th>3</th>\n",
       "      <td>3</td>\n",
       "      <td>https://www.baidu.com</td>\n",
       "      <td>benign</td>\n",
       "      <td>0</td>\n",
       "    </tr>\n",
       "    <tr>\n",
       "      <th>4</th>\n",
       "      <td>4</td>\n",
       "      <td>https://www.wikipedia.org</td>\n",
       "      <td>benign</td>\n",
       "      <td>0</td>\n",
       "    </tr>\n",
       "  </tbody>\n",
       "</table>\n",
       "</div>"
      ],
      "text/plain": [
       "   Unnamed: 0                        url   label  result\n",
       "0           0     https://www.google.com  benign       0\n",
       "1           1    https://www.youtube.com  benign       0\n",
       "2           2   https://www.facebook.com  benign       0\n",
       "3           3      https://www.baidu.com  benign       0\n",
       "4           4  https://www.wikipedia.org  benign       0"
      ]
     },
     "execution_count": 4,
     "metadata": {},
     "output_type": "execute_result"
    }
   ],
   "source": [
    "url_data.head()"
   ]
  },
  {
   "cell_type": "code",
   "execution_count": 5,
   "id": "526b3e55",
   "metadata": {},
   "outputs": [
    {
     "name": "stdout",
     "output_type": "stream",
     "text": [
      "<class 'pandas.core.frame.DataFrame'>\n",
      "RangeIndex: 450176 entries, 0 to 450175\n",
      "Data columns (total 4 columns):\n",
      " #   Column      Non-Null Count   Dtype \n",
      "---  ------      --------------   ----- \n",
      " 0   Unnamed: 0  450176 non-null  int64 \n",
      " 1   url         450176 non-null  object\n",
      " 2   label       450176 non-null  int64 \n",
      " 3   result      450176 non-null  int64 \n",
      "dtypes: int64(3), object(1)\n",
      "memory usage: 13.7+ MB\n"
     ]
    }
   ],
   "source": [
    "number = LabelEncoder()\n",
    "url_data['label'] = number.fit_transform(url_data['label'].astype(str))\n",
    "url_data.info()"
   ]
  },
  {
   "cell_type": "code",
   "execution_count": 6,
   "id": "70618d9e",
   "metadata": {},
   "outputs": [],
   "source": [
    "train, test = train_test_split(url_data, test_size=0.2)\n",
    "train, val = train_test_split(train, test_size=0.2)\n",
    "\n",
    "train.to_csv('train.csv', header=False)\n",
    "test.to_csv('test.csv', header=False)"
   ]
  },
  {
   "cell_type": "code",
   "execution_count": 7,
   "id": "7fe9f969",
   "metadata": {},
   "outputs": [],
   "source": [
    "BUFFER_SIZE = 10000\n",
    "BATCH_SIZE = 64\n",
    "types  = [tf.string, tf.int64]\n",
    "record_defaults = ['XXXX', 999] # Only provide defaults for the selected columns"
   ]
  },
  {
   "cell_type": "code",
   "execution_count": 8,
   "id": "b84d9991",
   "metadata": {},
   "outputs": [
    {
     "data": {
      "text/plain": [
       "<CsvDatasetV2 shapes: ((), ()), types: (tf.string, tf.int32)>"
      ]
     },
     "execution_count": 8,
     "metadata": {},
     "output_type": "execute_result"
    }
   ],
   "source": [
    "train_dataset = tf.data.experimental.CsvDataset(\"train.csv\", record_defaults, select_cols=[2, 3])\n",
    "train_dataset.element_spec\n",
    "train_dataset"
   ]
  },
  {
   "cell_type": "code",
   "execution_count": 9,
   "id": "1cc553f5",
   "metadata": {},
   "outputs": [
    {
     "data": {
      "text/plain": [
       "(TensorSpec(shape=(), dtype=tf.string, name=None),\n",
       " TensorSpec(shape=(), dtype=tf.int32, name=None))"
      ]
     },
     "execution_count": 9,
     "metadata": {},
     "output_type": "execute_result"
    }
   ],
   "source": [
    "test_dataset = tf.data.experimental.CsvDataset(\"test.csv\", record_defaults, select_cols=[2, 3])\n",
    "test_dataset.element_spec"
   ]
  },
  {
   "cell_type": "code",
   "execution_count": null,
   "id": "29258b1c",
   "metadata": {},
   "outputs": [],
   "source": []
  },
  {
   "cell_type": "code",
   "execution_count": 10,
   "id": "3bfde4b1",
   "metadata": {},
   "outputs": [],
   "source": [
    "train_dataset = train_dataset.shuffle(BUFFER_SIZE).batch(BATCH_SIZE).prefetch(tf.data.AUTOTUNE)\n",
    "test_dataset = test_dataset.batch(BATCH_SIZE).prefetch(tf.data.AUTOTUNE)\n"
   ]
  },
  {
   "cell_type": "code",
   "execution_count": null,
   "id": "c93c9a16",
   "metadata": {},
   "outputs": [],
   "source": []
  },
  {
   "cell_type": "code",
   "execution_count": 11,
   "id": "5d4ebed4",
   "metadata": {},
   "outputs": [
    {
     "data": {
      "text/plain": [
       "(TensorSpec(shape=(None,), dtype=tf.string, name=None),\n",
       " TensorSpec(shape=(None,), dtype=tf.int32, name=None))"
      ]
     },
     "execution_count": 11,
     "metadata": {},
     "output_type": "execute_result"
    }
   ],
   "source": [
    "train_dataset.element_spec"
   ]
  },
  {
   "cell_type": "code",
   "execution_count": 12,
   "id": "5fc1226c",
   "metadata": {},
   "outputs": [
    {
     "name": "stdout",
     "output_type": "stream",
     "text": [
      "ursl:  [b'https://www.en.goldenmap.com/Ahuntsic-Cartierville'\n",
      " b'https://www.drivingschoolmontreal.com/DrivingSchoolMontreal_Car_Rental_For_SAAQ_Langelier.html'\n",
      " b'https://www.brr.com.au/event/82765/grant-anderson-partner']\n",
      "\n",
      "labels:  [0 0 0]\n"
     ]
    }
   ],
   "source": [
    "for url, label in train_dataset.take(1):\n",
    "    print('ursl: ', url.numpy()[:3])\n",
    "    print()\n",
    "    print('labels: ', label.numpy()[:3])"
   ]
  },
  {
   "cell_type": "code",
   "execution_count": 13,
   "id": "96d5f218",
   "metadata": {},
   "outputs": [],
   "source": [
    "VOCAB_SIZE = 1000\n",
    "encoder = tf.keras.layers.experimental.preprocessing.TextVectorization(\n",
    "    max_tokens=VOCAB_SIZE)\n",
    "encoder.adapt(train_dataset.map(lambda url, label: url))"
   ]
  },
  {
   "cell_type": "code",
   "execution_count": 14,
   "id": "d83d81ed",
   "metadata": {},
   "outputs": [
    {
     "data": {
      "text/plain": [
       "array(['', '[UNK]', 'httpmobilapps',\n",
       "       'httpwwwkf25zxcomimageshttpusbattlenetlogin',\n",
       "       'httpwwwkf25zxcomimageshttpusbattlenetloginen', 'httpsmstrust',\n",
       "       'httpsecurityapps', 'httpomnitrust',\n",
       "       'httpkf25zxcomimagesusbattlenet',\n",
       "       'httpwwwkf25zxcomimagesusbattlenet', 'httpsmstrust2fh',\n",
       "       'httpkf25zxcomimagesusbattlenetlogin', 'httphyhpzxcnjshttp',\n",
       "       'httphanhaicleancnjshttpusbattlenetloginenrefhttpyfvgqexusbattlenetd3enindexampappcomd3',\n",
       "       'httpappsmobile2fh', 'httpysgrpcomcnjsusbattlenetloginenrefhttp',\n",
       "       'httpxjbctckycomimagesappcomd3ampusbattlenetloginenrefhttpusbattlenet',\n",
       "       'httpstuffatwebcomsigninsurveysiiphpemail',\n",
       "       'httpmihesfitonsruslivagatephp',\n",
       "       'httpkf25zxcomimageshttpusbattlenetloginenrefhttpalvtdlkusbattlenetd3enindexampamp'],\n",
       "      dtype='<U641')"
      ]
     },
     "execution_count": 14,
     "metadata": {},
     "output_type": "execute_result"
    }
   ],
   "source": [
    "vocab = np.array(encoder.get_vocabulary())\n",
    "vocab[:20]"
   ]
  },
  {
   "cell_type": "code",
   "execution_count": 15,
   "id": "3b146b02",
   "metadata": {},
   "outputs": [
    {
     "data": {
      "text/plain": [
       "array([[1, 0],\n",
       "       [1, 0],\n",
       "       [1, 0]])"
      ]
     },
     "execution_count": 15,
     "metadata": {},
     "output_type": "execute_result"
    }
   ],
   "source": [
    "encoded_url = encoder(url)[:3].numpy()\n",
    "encoded_url"
   ]
  },
  {
   "cell_type": "code",
   "execution_count": 16,
   "id": "77a78787",
   "metadata": {},
   "outputs": [
    {
     "name": "stdout",
     "output_type": "stream",
     "text": [
      "Original:  b'https://www.en.goldenmap.com/Ahuntsic-Cartierville'\n",
      "Round-trip:  [UNK] \n",
      "\n",
      "Original:  b'https://www.drivingschoolmontreal.com/DrivingSchoolMontreal_Car_Rental_For_SAAQ_Langelier.html'\n",
      "Round-trip:  [UNK] \n",
      "\n",
      "Original:  b'https://www.brr.com.au/event/82765/grant-anderson-partner'\n",
      "Round-trip:  [UNK] \n",
      "\n"
     ]
    }
   ],
   "source": [
    "for n in range(3):\n",
    "    print(\"Original: \", url[n].numpy())\n",
    "    print(\"Round-trip: \", \" \".join(vocab[encoded_url[n]]))\n",
    "    print()"
   ]
  },
  {
   "cell_type": "code",
   "execution_count": 17,
   "id": "0a7077d0",
   "metadata": {},
   "outputs": [],
   "source": [
    "def sum_1d(X):\n",
    "    return K.sum(X, axis=1)\n"
   ]
  },
  {
   "cell_type": "code",
   "execution_count": null,
   "id": "2f48617b",
   "metadata": {},
   "outputs": [],
   "source": []
  },
  {
   "cell_type": "code",
   "execution_count": 18,
   "id": "ec1a76c9",
   "metadata": {},
   "outputs": [],
   "source": [
    "main_input = Input(shape=(200,), dtype='int32', name='main_input')\n",
    "input_shape=(1000,1)\n",
    "\n",
    "model = tf.keras.Sequential([\n",
    "    encoder,\n",
    "    tf.keras.layers.Embedding(\n",
    "                    output_dim=200,\n",
    "                    input_dim=1000,\n",
    "                    mask_zero=True),\n",
    "    tf.keras.layers.Dropout(0.5),\n",
    "    tf.keras.layers.Conv1D(filters=256,\n",
    "                          kernel_size=2,\n",
    "                          activation='relu',\n",
    "                          bias_initializer='random_uniform',\n",
    "                          padding='same'),\n",
    "    tf.keras.layers.Lambda(sum_1d),\n",
    "    tf.keras.layers.Dropout(0.5),\n",
    "    tf.keras.layers.Dense(32, activation='relu'),\n",
    "    tf.keras.layers.Dense(1)\n",
    "])"
   ]
  },
  {
   "cell_type": "code",
   "execution_count": 19,
   "id": "00f9f9b3",
   "metadata": {},
   "outputs": [],
   "source": [
    "#   tf.keras.layers.Conv1D(filters=256,\n",
    "#                           kernel_size=4,\n",
    "#                           activation='relu',\n",
    "#                           bias_initializer='random_uniform',\n",
    "#                           padding='same'),\n",
    "#     tf.keras.layers.Lambda(sum_1d),\n",
    "#     tf.keras.layers.Dropout(0.5),\n",
    "#     tf.keras.layers.Conv1D(filters=256,\n",
    "#                           kernel_size=5,\n",
    "#                           activation='relu',\n",
    "#                           bias_initializer='random_uniform',\n",
    "#                           padding='same'),\n",
    "#     tf.keras.layers.Lambda(sum_1d),\n",
    "#     tf.keras.layers.Dropout(0.5,\n",
    "#                           input_shape=input_shape),"
   ]
  },
  {
   "cell_type": "code",
   "execution_count": 20,
   "id": "460a7273",
   "metadata": {},
   "outputs": [
    {
     "name": "stdout",
     "output_type": "stream",
     "text": [
      "[False, True, True, False, True, True, True, True]\n"
     ]
    }
   ],
   "source": [
    "print([layer.supports_masking for layer in model.layers])"
   ]
  },
  {
   "cell_type": "code",
   "execution_count": 21,
   "id": "1b750929",
   "metadata": {},
   "outputs": [
    {
     "name": "stdout",
     "output_type": "stream",
     "text": [
      "[-0.01207657]\n"
     ]
    }
   ],
   "source": [
    "sample_url = ('https://www.jumbovideo.com/')\n",
    "predictions = model.predict(np.array([sample_url]))\n",
    "print(predictions[0])"
   ]
  },
  {
   "cell_type": "code",
   "execution_count": 22,
   "id": "f482805c",
   "metadata": {},
   "outputs": [],
   "source": [
    "model.compile(loss=tf.keras.losses.BinaryCrossentropy(from_logits=True),\n",
    "              optimizer=tf.keras.optimizers.Adam(1e-4),\n",
    "              metrics=['accuracy'])"
   ]
  },
  {
   "cell_type": "code",
   "execution_count": 23,
   "id": "7a6f600d",
   "metadata": {},
   "outputs": [
    {
     "name": "stdout",
     "output_type": "stream",
     "text": [
      "Epoch 1/3\n",
      "4502/4502 [==============================] - 54s 11ms/step - loss: 0.5477 - accuracy: 0.7688 - val_loss: 0.5433 - val_accuracy: 0.7667\n",
      "Epoch 2/3\n",
      "4502/4502 [==============================] - 35s 8ms/step - loss: 0.5358 - accuracy: 0.7743 - val_loss: 0.5437 - val_accuracy: 0.7671\n",
      "Epoch 3/3\n",
      "4502/4502 [==============================] - 35s 8ms/step - loss: 0.5335 - accuracy: 0.7750 - val_loss: 0.5426 - val_accuracy: 0.7671\n"
     ]
    }
   ],
   "source": [
    "history = model.fit(train_dataset, epochs=3, validation_data=test_dataset)"
   ]
  },
  {
   "cell_type": "code",
   "execution_count": 24,
   "id": "efe6f93b",
   "metadata": {},
   "outputs": [
    {
     "data": {
      "text/plain": [
       "(0.0, 0.5442453354597092)"
      ]
     },
     "execution_count": 24,
     "metadata": {},
     "output_type": "execute_result"
    },
    {
     "data": {
      "image/png": "[encoded data removed]",
      "text/plain": [
       "<Figure size 1152x576 with 2 Axes>"
      ]
     },
     "metadata": {
      "needs_background": "light"
     },
     "output_type": "display_data"
    }
   ],
   "source": [
    "plt.figure(figsize=(16, 8))\n",
    "plt.subplot(1, 2, 1)\n",
    "plot_graphs(history, 'accuracy')\n",
    "plt.ylim(None, 1)\n",
    "plt.subplot(1, 2, 2)\n",
    "plot_graphs(history, 'loss')\n",
    "plt.ylim(0, None)"
   ]
  },
  {
   "cell_type": "code",
   "execution_count": null,
   "id": "b76b497d",
   "metadata": {},
   "outputs": [],
   "source": []
  }
 ],
 "metadata": {
  "kernelspec": {
   "display_name": "ML and DL with CUDA 10.2",
   "language": "python",
   "name": "cuda101"
  },
  "language_info": {
   "codemirror_mode": {
    "name": "ipython",
    "version": 3
   },
   "file_extension": ".py",
   "mimetype": "text/x-python",
   "name": "python",
   "nbconvert_exporter": "python",
   "pygments_lexer": "ipython3",
   "version": "3.8.8"
  }
 },
 "nbformat": 4,
 "nbformat_minor": 5
}
