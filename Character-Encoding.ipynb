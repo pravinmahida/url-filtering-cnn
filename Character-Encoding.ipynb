{
 "cells": [
  {
   "cell_type": "code",
   "execution_count": 2,
   "id": "305e7b97",
   "metadata": {},
   "outputs": [],
   "source": [
    "import pandas as pd\n",
    "import matplotlib as mpl\n",
    "import matplotlib.pyplot as plt\n",
    "import numpy as np\n",
    "from sklearn.model_selection import train_test_split\n",
    "from sklearn.preprocessing  import LabelEncoder\n",
    "\n",
    "import tensorflow_datasets as tfds\n",
    "import tensorflow as tf\n",
    "from tensorflow.python.keras.layers import Dense\n",
    "from tensorflow.python.keras.layers import Dropout\n",
    "from tensorflow.python.keras.layers import Embedding\n",
    "from tensorflow.python.keras.layers import Conv1D\n",
    "from tensorflow.python.keras.layers import MaxPooling1D\n",
    "from tensorflow.python.keras.layers import Lambda\n",
    "from tensorflow.python.keras.layers import GlobalAveragePooling1D\n",
    "from keras.layers import Input, Embedding, LSTM, Dense, Bidirectional\n",
    "from keras.models import Model\n",
    "from keras import backend as K\n",
    "from keras.models import Sequential\n",
    "import sqlite3\n",
    "# metrics import for model evaluation.\n",
    "from sklearn.metrics import confusion_matrix\n",
    "from sklearn.metrics import classification_report\n",
    "from sklearn.metrics import roc_curve\n",
    "from sklearn.metrics import roc_auc_score\n",
    "from sklearn.metrics import precision_recall_curve\n",
    "from sklearn.metrics import auc\n",
    "\n",
    "from flask import Flask, jsonify\n",
    "\n",
    "tfds.disable_progress_bar()"
   ]
  },
  {
   "cell_type": "code",
   "execution_count": 3,
   "id": "a2d8de0f",
   "metadata": {},
   "outputs": [],
   "source": [
    "tf.__version__\n",
    "BUFFER_SIZE = 10000\n",
    "BATCH_SIZE = 64\n",
    "NO_EPOCHS = 20"
   ]
  },
  {
   "cell_type": "code",
   "execution_count": 3,
   "id": "ffd99cb0",
   "metadata": {},
   "outputs": [],
   "source": [
    "# connect to urlDB.db sqlLite database.\n",
    "def pushCsvToDB():\n",
    "    con = sqlite3.connect(\"./sqllite/urlDB.db\")\n",
    "    # load Dataset1.\n",
    "    url_data = pd.read_csv('combined_data.csv')\n",
    "    cur = con.cursor()\n",
    "    # Drop URLS Table if already exist.\n",
    "    cur.execute(\"DROP TABLE URLS;\")\n",
    "    # CREATE new URLS Table.\n",
    "    cur.execute(\"CREATE TABLE urls ( url TEXT NOT NULL, label TEXT NOT NULL, confidence_score REAL);\")\n",
    "    # Loop thru url_data row and generate insert values.\n",
    "    to_db = [(i+1, url_data.loc[i, \"url\"], url_data.loc[i, \"label\"]) for i in range(len(url_data))]\n",
    "    # insert current csv data into database.\n",
    "    cur.executemany(\"INSERT INTO URLS (URL_ID, URL, LABEL) VALUES (?, ?, ?);\", to_db)\n",
    "    # Commit changes.\n",
    "    con.commit()\n",
    "    # Close connection\n",
    "    con.close()"
   ]
  },
  {
   "cell_type": "code",
   "execution_count": 4,
   "id": "29da76eb",
   "metadata": {},
   "outputs": [],
   "source": [
    "# create an Empty DataFrame url_data\n",
    "url_data = pd.DataFrame()\n"
   ]
  },
  {
   "cell_type": "code",
   "execution_count": 5,
   "id": "b97f2f9d",
   "metadata": {},
   "outputs": [],
   "source": [
    "\n",
    "# Create a SQL connection to our SQLite database\n",
    "con = sqlite3.connect(\"./sqllite/urlDB.db\")\n",
    "\n",
    "# read data from database.\n",
    "url_data = pd.read_sql_query(\"SELECT * from urls\", con)\n",
    "\n",
    "# if there is no data in database, feed databasse with csv file.\n",
    "if (len(url_data) == 0):\n",
    "    pushCsvToDB()\n",
    "\n",
    "# close the connection\n",
    "con.close()\n"
   ]
  },
  {
   "cell_type": "code",
   "execution_count": 6,
   "id": "77574d44",
   "metadata": {},
   "outputs": [
    {
     "name": "stdout",
     "output_type": "stream",
     "text": [
      "<class 'pandas.core.frame.DataFrame'>\n",
      "RangeIndex: 922412 entries, 0 to 922411\n",
      "Data columns (total 3 columns):\n",
      " #   Column            Non-Null Count   Dtype \n",
      "---  ------            --------------   ----- \n",
      " 0   url               922412 non-null  object\n",
      " 1   label             922412 non-null  object\n",
      " 2   confidence_score  0 non-null       object\n",
      "dtypes: object(3)\n",
      "memory usage: 21.1+ MB\n"
     ]
    }
   ],
   "source": [
    "# Dataset information.\n",
    "url_data.info()"
   ]
  },
  {
   "cell_type": "code",
   "execution_count": 7,
   "id": "a59ee565",
   "metadata": {},
   "outputs": [
    {
     "data": {
      "text/html": [
       "<div>\n",
       "<style scoped>\n",
       "    .dataframe tbody tr th:only-of-type {\n",
       "        vertical-align: middle;\n",
       "    }\n",
       "\n",
       "    .dataframe tbody tr th {\n",
       "        vertical-align: top;\n",
       "    }\n",
       "\n",
       "    .dataframe thead th {\n",
       "        text-align: right;\n",
       "    }\n",
       "</style>\n",
       "<table border=\"1\" class=\"dataframe\">\n",
       "  <thead>\n",
       "    <tr style=\"text-align: right;\">\n",
       "      <th></th>\n",
       "      <th>url</th>\n",
       "      <th>label</th>\n",
       "      <th>confidence_score</th>\n",
       "    </tr>\n",
       "  </thead>\n",
       "  <tbody>\n",
       "    <tr>\n",
       "      <th>0</th>\n",
       "      <td>https://www.google.com</td>\n",
       "      <td>benign</td>\n",
       "      <td>None</td>\n",
       "    </tr>\n",
       "    <tr>\n",
       "      <th>1</th>\n",
       "      <td>https://www.youtube.com</td>\n",
       "      <td>benign</td>\n",
       "      <td>None</td>\n",
       "    </tr>\n",
       "    <tr>\n",
       "      <th>2</th>\n",
       "      <td>https://www.facebook.com</td>\n",
       "      <td>benign</td>\n",
       "      <td>None</td>\n",
       "    </tr>\n",
       "    <tr>\n",
       "      <th>3</th>\n",
       "      <td>https://www.baidu.com</td>\n",
       "      <td>benign</td>\n",
       "      <td>None</td>\n",
       "    </tr>\n",
       "    <tr>\n",
       "      <th>4</th>\n",
       "      <td>https://www.wikipedia.org</td>\n",
       "      <td>benign</td>\n",
       "      <td>None</td>\n",
       "    </tr>\n",
       "  </tbody>\n",
       "</table>\n",
       "</div>"
      ],
      "text/plain": [
       "                         url   label confidence_score\n",
       "0     https://www.google.com  benign             None\n",
       "1    https://www.youtube.com  benign             None\n",
       "2   https://www.facebook.com  benign             None\n",
       "3      https://www.baidu.com  benign             None\n",
       "4  https://www.wikipedia.org  benign             None"
      ]
     },
     "execution_count": 7,
     "metadata": {},
     "output_type": "execute_result"
    }
   ],
   "source": [
    "url_data.head()"
   ]
  },
  {
   "cell_type": "code",
   "execution_count": 8,
   "id": "526b3e55",
   "metadata": {},
   "outputs": [
    {
     "name": "stdout",
     "output_type": "stream",
     "text": [
      "<class 'pandas.core.frame.DataFrame'>\n",
      "RangeIndex: 922412 entries, 0 to 922411\n",
      "Data columns (total 3 columns):\n",
      " #   Column            Non-Null Count   Dtype \n",
      "---  ------            --------------   ----- \n",
      " 0   url               922412 non-null  object\n",
      " 1   label             922412 non-null  int64 \n",
      " 2   confidence_score  0 non-null       object\n",
      "dtypes: int64(1), object(2)\n",
      "memory usage: 21.1+ MB\n"
     ]
    }
   ],
   "source": [
    "number = LabelEncoder()\n",
    "url_data['label'] = number.fit_transform(url_data['label'].astype(str))\n",
    "url_data.info()"
   ]
  },
  {
   "cell_type": "code",
   "execution_count": 9,
   "id": "70618d9e",
   "metadata": {},
   "outputs": [
    {
     "name": "stdout",
     "output_type": "stream",
     "text": [
      "Shape of x_train:  (737929, 3)\n",
      "Shape of x_valid:  (184483, 3)\n"
     ]
    },
    {
     "data": {
      "text/html": [
       "<div>\n",
       "<style scoped>\n",
       "    .dataframe tbody tr th:only-of-type {\n",
       "        vertical-align: middle;\n",
       "    }\n",
       "\n",
       "    .dataframe tbody tr th {\n",
       "        vertical-align: top;\n",
       "    }\n",
       "\n",
       "    .dataframe thead th {\n",
       "        text-align: right;\n",
       "    }\n",
       "</style>\n",
       "<table border=\"1\" class=\"dataframe\">\n",
       "  <thead>\n",
       "    <tr style=\"text-align: right;\">\n",
       "      <th></th>\n",
       "      <th>url</th>\n",
       "      <th>label</th>\n",
       "      <th>confidence_score</th>\n",
       "    </tr>\n",
       "  </thead>\n",
       "  <tbody>\n",
       "    <tr>\n",
       "      <th>602639</th>\n",
       "      <td>dbpedia.org/resource/Alexandre_Coste</td>\n",
       "      <td>0</td>\n",
       "      <td>None</td>\n",
       "    </tr>\n",
       "    <tr>\n",
       "      <th>670132</th>\n",
       "      <td>presidentialdollarguide.com/james-garfield-pre...</td>\n",
       "      <td>0</td>\n",
       "      <td>None</td>\n",
       "    </tr>\n",
       "    <tr>\n",
       "      <th>848168</th>\n",
       "      <td>omahacitylife.com/ocl/</td>\n",
       "      <td>0</td>\n",
       "      <td>None</td>\n",
       "    </tr>\n",
       "    <tr>\n",
       "      <th>124654</th>\n",
       "      <td>https://www.506infantry.org/hisvietnam/his2ndb...</td>\n",
       "      <td>0</td>\n",
       "      <td>None</td>\n",
       "    </tr>\n",
       "    <tr>\n",
       "      <th>127169</th>\n",
       "      <td>https://www.absoluteastronomy.com/topics/SLNS_...</td>\n",
       "      <td>0</td>\n",
       "      <td>None</td>\n",
       "    </tr>\n",
       "    <tr>\n",
       "      <th>374359</th>\n",
       "      <td>http://avn.life/CIBCOnline%20olbtxn%20Authenti...</td>\n",
       "      <td>1</td>\n",
       "      <td>None</td>\n",
       "    </tr>\n",
       "    <tr>\n",
       "      <th>703089</th>\n",
       "      <td>123people.com/s/hector+leblanc</td>\n",
       "      <td>0</td>\n",
       "      <td>None</td>\n",
       "    </tr>\n",
       "    <tr>\n",
       "      <th>379373</th>\n",
       "      <td>http://70885.info/libraries/joomla/client/wrap...</td>\n",
       "      <td>1</td>\n",
       "      <td>None</td>\n",
       "    </tr>\n",
       "    <tr>\n",
       "      <th>88232</th>\n",
       "      <td>https://www.pipl.com/directory/people/Jean/Des...</td>\n",
       "      <td>0</td>\n",
       "      <td>None</td>\n",
       "    </tr>\n",
       "    <tr>\n",
       "      <th>26875</th>\n",
       "      <td>https://www.edwardssofasbydesign.street-direct...</td>\n",
       "      <td>0</td>\n",
       "      <td>None</td>\n",
       "    </tr>\n",
       "  </tbody>\n",
       "</table>\n",
       "</div>"
      ],
      "text/plain": [
       "                                                      url  label  \\\n",
       "602639               dbpedia.org/resource/Alexandre_Coste      0   \n",
       "670132  presidentialdollarguide.com/james-garfield-pre...      0   \n",
       "848168                             omahacitylife.com/ocl/      0   \n",
       "124654  https://www.506infantry.org/hisvietnam/his2ndb...      0   \n",
       "127169  https://www.absoluteastronomy.com/topics/SLNS_...      0   \n",
       "374359  http://avn.life/CIBCOnline%20olbtxn%20Authenti...      1   \n",
       "703089                     123people.com/s/hector+leblanc      0   \n",
       "379373  http://70885.info/libraries/joomla/client/wrap...      1   \n",
       "88232   https://www.pipl.com/directory/people/Jean/Des...      0   \n",
       "26875   https://www.edwardssofasbydesign.street-direct...      0   \n",
       "\n",
       "       confidence_score  \n",
       "602639             None  \n",
       "670132             None  \n",
       "848168             None  \n",
       "124654             None  \n",
       "127169             None  \n",
       "374359             None  \n",
       "703089             None  \n",
       "379373             None  \n",
       "88232              None  \n",
       "26875              None  "
      ]
     },
     "execution_count": 9,
     "metadata": {},
     "output_type": "execute_result"
    }
   ],
   "source": [
    "# Data Partioning \n",
    "\n",
    "train, test = train_test_split(url_data, test_size=0.2)\n",
    "x_train, x_test = train_test_split(url_data['url'], test_size=0.2)\n",
    "y_train, y_test = train_test_split(url_data['label'], test_size=0.2)\n",
    "\n",
    "train.to_csv('train.csv', header=False)\n",
    "test.to_csv('test.csv', header=False)\n",
    "\n",
    "print(\"Shape of x_train: \", train.shape)\n",
    "print(\"Shape of x_valid: \", test.shape)\n",
    "\n",
    "train.head(10)"
   ]
  },
  {
   "cell_type": "code",
   "execution_count": 10,
   "id": "7fe9f969",
   "metadata": {},
   "outputs": [
    {
     "data": {
      "text/plain": [
       "True"
      ]
     },
     "execution_count": 10,
     "metadata": {},
     "output_type": "execute_result"
    }
   ],
   "source": [
    "\n",
    "types  = [tf.string, tf.int64]\n",
    "record_defaults = ['XXXX', 999] # Only provide defaults for the selected columns\n",
    "tf.executing_eagerly()\n"
   ]
  },
  {
   "cell_type": "code",
   "execution_count": 11,
   "id": "b84d9991",
   "metadata": {},
   "outputs": [
    {
     "data": {
      "text/plain": [
       "(TensorSpec(shape=(), dtype=tf.string, name=None),\n",
       " TensorSpec(shape=(), dtype=tf.int32, name=None))"
      ]
     },
     "execution_count": 11,
     "metadata": {},
     "output_type": "execute_result"
    }
   ],
   "source": [
    "train_dataset = tf.data.experimental.CsvDataset(\"train.csv\", record_defaults, select_cols=[1, 2])\n",
    "train_dataset.element_spec"
   ]
  },
  {
   "cell_type": "code",
   "execution_count": 12,
   "id": "1cc553f5",
   "metadata": {},
   "outputs": [
    {
     "data": {
      "text/plain": [
       "(TensorSpec(shape=(), dtype=tf.string, name=None),\n",
       " TensorSpec(shape=(), dtype=tf.int32, name=None))"
      ]
     },
     "execution_count": 12,
     "metadata": {},
     "output_type": "execute_result"
    }
   ],
   "source": [
    "test_dataset = tf.data.experimental.CsvDataset(\"test.csv\", record_defaults, select_cols=[1, 2])\n",
    "test_dataset.element_spec\n"
   ]
  },
  {
   "cell_type": "code",
   "execution_count": 13,
   "id": "3bfde4b1",
   "metadata": {},
   "outputs": [
    {
     "data": {
      "text/plain": [
       "<PrefetchDataset shapes: ((None,), (None,)), types: (tf.string, tf.int32)>"
      ]
     },
     "execution_count": 13,
     "metadata": {},
     "output_type": "execute_result"
    }
   ],
   "source": [
    "train_dataset = train_dataset.shuffle(BUFFER_SIZE).batch(BATCH_SIZE).prefetch(tf.data.AUTOTUNE)\n",
    "test_dataset = test_dataset.batch(BATCH_SIZE).prefetch(tf.data.AUTOTUNE)\n",
    "train_dataset"
   ]
  },
  {
   "cell_type": "code",
   "execution_count": 14,
   "id": "c93c9a16",
   "metadata": {},
   "outputs": [],
   "source": [
    "@tf.keras.utils.register_keras_serializable()\n",
    "def char_split(input_data):\n",
    "    return tf.strings.unicode_split(input_data, 'UTF-8')\n",
    "\n",
    "# URL will always be single word so we need to split with '/' to get word from url.\n",
    "def word_split(input_data):\n",
    "    return tf.strings.split(input_data, sep='/')"
   ]
  },
  {
   "cell_type": "code",
   "execution_count": 15,
   "id": "c7f5d906",
   "metadata": {},
   "outputs": [
    {
     "name": "stdout",
     "output_type": "stream",
     "text": [
      "urls:  [b'https://www.cityhall.lima.oh.us/dept/community/housing.asp'\n",
      " b'guardian.co.uk/football/blog/2011/jul/21/copa-america-paraguay-uruguay'\n",
      " b'https://www.facebook.com/tabitha.syde']\n",
      "\n",
      "labels:  [0 0 0]\n"
     ]
    }
   ],
   "source": [
    "for url, label in train_dataset.take(1):\n",
    "  print('urls: ', url.numpy()[:3])\n",
    "  print()\n",
    "  print('labels: ', label.numpy()[:3])"
   ]
  },
  {
   "cell_type": "code",
   "execution_count": 16,
   "id": "5d4ebed4",
   "metadata": {},
   "outputs": [
    {
     "data": {
      "text/plain": [
       "(TensorSpec(shape=(None,), dtype=tf.string, name=None),\n",
       " TensorSpec(shape=(None,), dtype=tf.int32, name=None))"
      ]
     },
     "execution_count": 16,
     "metadata": {},
     "output_type": "execute_result"
    }
   ],
   "source": [
    "train_dataset.element_spec"
   ]
  },
  {
   "cell_type": "code",
   "execution_count": 17,
   "id": "96d5f218",
   "metadata": {},
   "outputs": [],
   "source": [
    "VOCAB_SIZE = 1000\n",
    "sequence_length = 200\n",
    "\n",
    "encoder = tf.keras.layers.experimental.preprocessing.TextVectorization(\n",
    "    max_tokens=VOCAB_SIZE,\n",
    "    split=char_split, # word_split or char_split\n",
    "    output_mode=\"int\",\n",
    "    pad_to_max_tokens=True,\n",
    "    output_sequence_length=sequence_length,\n",
    ")\n",
    "\n",
    "encoder.adapt(train_dataset.map(lambda url, label: url))\n"
   ]
  },
  {
   "cell_type": "code",
   "execution_count": 18,
   "id": "d83d81ed",
   "metadata": {},
   "outputs": [
    {
     "data": {
      "text/plain": [
       "233"
      ]
     },
     "execution_count": 18,
     "metadata": {},
     "output_type": "execute_result"
    }
   ],
   "source": [
    "vocab = np.array(encoder.get_vocabulary())\n",
    "len(vocab)"
   ]
  },
  {
   "cell_type": "code",
   "execution_count": 19,
   "id": "3b146b02",
   "metadata": {},
   "outputs": [],
   "source": [
    "def vectorize_text(text):\n",
    "    text = tf.expand_dims(text, -1)\n",
    "    return tf.squeeze(encoder(text))"
   ]
  },
  {
   "cell_type": "code",
   "execution_count": 20,
   "id": "e562a5d1",
   "metadata": {},
   "outputs": [
    {
     "data": {
      "text/plain": [
       "<tf.Tensor: shape=(200,), dtype=int64, numpy=\n",
       "array([15,  3,  3, 14,  6, 12, 12, 12,  2, 34,  5, 11, 14, 13,  2,  8,  4,\n",
       "       11,  0,  0,  0,  0,  0,  0,  0,  0,  0,  0,  0,  0,  0,  0,  0,  0,\n",
       "        0,  0,  0,  0,  0,  0,  0,  0,  0,  0,  0,  0,  0,  0,  0,  0,  0,\n",
       "        0,  0,  0,  0,  0,  0,  0,  0,  0,  0,  0,  0,  0,  0,  0,  0,  0,\n",
       "        0,  0,  0,  0,  0,  0,  0,  0,  0,  0,  0,  0,  0,  0,  0,  0,  0,\n",
       "        0,  0,  0,  0,  0,  0,  0,  0,  0,  0,  0,  0,  0,  0,  0,  0,  0,\n",
       "        0,  0,  0,  0,  0,  0,  0,  0,  0,  0,  0,  0,  0,  0,  0,  0,  0,\n",
       "        0,  0,  0,  0,  0,  0,  0,  0,  0,  0,  0,  0,  0,  0,  0,  0,  0,\n",
       "        0,  0,  0,  0,  0,  0,  0,  0,  0,  0,  0,  0,  0,  0,  0,  0,  0,\n",
       "        0,  0,  0,  0,  0,  0,  0,  0,  0,  0,  0,  0,  0,  0,  0,  0,  0,\n",
       "        0,  0,  0,  0,  0,  0,  0,  0,  0,  0,  0,  0,  0,  0,  0,  0,  0,\n",
       "        0,  0,  0,  0,  0,  0,  0,  0,  0,  0,  0,  0,  0])>"
      ]
     },
     "execution_count": 20,
     "metadata": {},
     "output_type": "execute_result"
    }
   ],
   "source": [
    "vectorize_text(\"https://www.example.com\")"
   ]
  },
  {
   "cell_type": "code",
   "execution_count": 21,
   "id": "77a78787",
   "metadata": {},
   "outputs": [],
   "source": [
    "def getconvmodel(filter_length,nb_filter):\n",
    "    model = Sequential()\n",
    "    model.add(Conv1D(filters=nb_filter,\n",
    "                        input_shape=(200, 64),\n",
    "                        kernel_size=filter_length,\n",
    "                        padding='same',\n",
    "                        activation='relu'))\n",
    "    model.add(Lambda(sum_1d, output_shape=(nb_filter,)))\n",
    "    model.add(Dropout(0.5))\n",
    "    return model"
   ]
  },
  {
   "cell_type": "code",
   "execution_count": 22,
   "id": "0a7077d0",
   "metadata": {},
   "outputs": [],
   "source": [
    "def sum_1d(X):\n",
    "    return K.sum(X, axis=1)\n"
   ]
  },
  {
   "cell_type": "code",
   "execution_count": 23,
   "id": "e401e736",
   "metadata": {},
   "outputs": [],
   "source": [
    "# set different metrics on model.\n",
    "metrics = [\n",
    "      tf.keras.metrics.TruePositives(name='tp'),\n",
    "      tf.keras.metrics.FalsePositives(name='fp'),\n",
    "      tf.keras.metrics.TrueNegatives(name='tn'),\n",
    "      tf.keras.metrics.FalseNegatives(name='fn'), \n",
    "      tf.keras.metrics.BinaryAccuracy(name='accuracy'),\n",
    "      tf.keras.metrics.Precision(name='precision'),\n",
    "      tf.keras.metrics.Recall(name='recall'),\n",
    "      tf.keras.metrics.AUC(name='auc'),\n",
    "      tf.keras.metrics.AUC(name='prc', curve='PR'), # precision-recall curve\n",
    "]"
   ]
  },
  {
   "cell_type": "code",
   "execution_count": 24,
   "id": "b3e23903",
   "metadata": {},
   "outputs": [],
   "source": [
    "input_shape=(len(vocab),)"
   ]
  },
  {
   "cell_type": "code",
   "execution_count": 25,
   "id": "c4cc790d",
   "metadata": {},
   "outputs": [],
   "source": [
    "# LSTM Model with 1 Layer.\n",
    "\n",
    "# main_input = Input(shape=(1,), dtype='string', name='main_input')\n",
    "# x = encoder(main_input)\n",
    "# embedding_layer =  tf.keras.layers.Embedding(\n",
    "#                     output_dim=64,\n",
    "#                     input_dim=len(vocab),\n",
    "#                     mask_zero=True);\n",
    "# x = embedding_layer(x)\n",
    "\n",
    "# x = tf.keras.layers.Bidirectional(tf.keras.layers.CuDNNLSTM(64, return_sequences=True, return_state=True)) (x)\n",
    "\n",
    "# x = tf.keras.layers.Dense(64, activation='relu') (x)\n",
    "\n",
    "# output = Dense(1,activation='sigmoid')(x)\n",
    "\n",
    "# lstm1_model = Model(inputs=main_input,outputs=output)\n",
    "# lstm1_model.summary()\n",
    "\n",
    "# lstm1_model.compile(loss=tf.keras.losses.BinaryCrossentropy(from_logits=True),\n",
    "#               optimizer=tf.keras.optimizers.Adam(1e-4),\n",
    "#               metrics=metrics)\n",
    "\n",
    "\n",
    "# history = lstm1_model.fit(train_dataset, epochs=1, validation_data=test_dataset)"
   ]
  },
  {
   "cell_type": "code",
   "execution_count": 26,
   "id": "0afe18ea",
   "metadata": {},
   "outputs": [],
   "source": [
    "# LSTM Model with 2 Layers.\n",
    "\n",
    "# lstm2_model = tf.keras.Sequential([\n",
    "#     encoder,\n",
    "#     tf.keras.layers.Embedding(len(encoder.get_vocabulary()), 64, mask_zero=True),\n",
    "#     tf.keras.layers.Bidirectional(tf.keras.layers.LSTM(64,  return_sequences=True)),\n",
    "#     tf.keras.layers.Bidirectional(tf.keras.layers.LSTM(32)),\n",
    "#     tf.keras.layers.Dense(64, activation='relu'),\n",
    "#     tf.keras.layers.Dropout(0.5),\n",
    "#     tf.keras.layers.Dense(1)\n",
    "# ])\n",
    "\n",
    "# lstm2_model.compile(loss=tf.keras.losses.BinaryCrossentropy(from_logits=True),\n",
    "#               optimizer=tf.keras.optimizers.Adam(1e-4),\n",
    "#               metrics=metrics)\n",
    "\n",
    "\n",
    "# history = lstm2_model.fit(train_dataset, epochs=1, validation_data=test_dataset)\n"
   ]
  },
  {
   "cell_type": "code",
   "execution_count": 27,
   "id": "cf61b8ee",
   "metadata": {},
   "outputs": [],
   "source": [
    "# RNN Model.\n",
    "\n",
    "# model = tf.keras.Sequential()\n",
    "# model.add(tf.keras.layers.Embedding(input_dim=1000, output_dim=64))\n",
    "\n",
    "# # The output of GRU will be a 3D tensor of shape (batch_size, timesteps, 256)\n",
    "# model.add(tf.keras.layers.GRU(256, return_sequences=True))\n",
    "\n",
    "# # The output of SimpleRNN will be a 2D tensor of shape (batch_size, 128)\n",
    "# model.add(tf.keras.layers.SimpleRNN(128))\n",
    "\n",
    "# model.add(tf.keras.layers.Dense(10))\n",
    "\n",
    "# model.summary()"
   ]
  },
  {
   "cell_type": "code",
   "execution_count": 28,
   "id": "2f48617b",
   "metadata": {},
   "outputs": [],
   "source": [
    "# CNN Model.\n",
    "main_input = Input(shape=(1,), dtype='string', name='main_input')\n",
    "x = encoder(main_input)\n",
    "embedding_layer =  tf.keras.layers.Embedding(\n",
    "                    output_dim=64,\n",
    "                    input_dim=len(vocab),\n",
    "                    mask_zero=True);\n",
    "embedded = embedding_layer(x)\n",
    "conv1 = getconvmodel(2,128) (embedded)\n",
    "conv2 = getconvmodel(3,128) (embedded)\n",
    "conv3 = getconvmodel(4,128) (embedded)\n",
    "conv4 = getconvmodel(5,128) (embedded)\n",
    "\n",
    "concatted = tf.keras.layers.Concatenate()([conv1, conv2, conv3, conv4])\n",
    "\n",
    "middle = Dense(512,activation='relu')(concatted)\n",
    "middle = Dropout(0.5)(middle)\n",
    "\n",
    "middle = Dense(512,activation='relu')(middle)\n",
    "middle = Dropout(0.5)(middle)\n",
    "\n",
    "# middle = tf.keras.layers.GRU(1024)(embedded) # Not working fine.\n",
    "# normalize = tf.keras.layers.BatchNormalization()(middle)\n",
    "\n",
    "output = Dense(1,activation='sigmoid')(middle)\n",
    "\n",
    "cnn_model = Model(inputs=main_input,outputs=output)"
   ]
  },
  {
   "cell_type": "code",
   "execution_count": 29,
   "id": "e62ea6fe",
   "metadata": {},
   "outputs": [
    {
     "name": "stdout",
     "output_type": "stream",
     "text": [
      "Model: \"model\"\n",
      "__________________________________________________________________________________________________\n",
      "Layer (type)                    Output Shape         Param #     Connected to                     \n",
      "==================================================================================================\n",
      "main_input (InputLayer)         [(None, 1)]          0                                            \n",
      "__________________________________________________________________________________________________\n",
      "text_vectorization (TextVectori (None, 200)          0           main_input[0][0]                 \n",
      "__________________________________________________________________________________________________\n",
      "embedding (Embedding)           (None, 200, 64)      14912       text_vectorization[0][0]         \n",
      "__________________________________________________________________________________________________\n",
      "sequential (Sequential)         (None, 128)          16512       embedding[0][0]                  \n",
      "__________________________________________________________________________________________________\n",
      "sequential_1 (Sequential)       (None, 128)          24704       embedding[0][0]                  \n",
      "__________________________________________________________________________________________________\n",
      "sequential_2 (Sequential)       (None, 128)          32896       embedding[0][0]                  \n",
      "__________________________________________________________________________________________________\n",
      "sequential_3 (Sequential)       (None, 128)          41088       embedding[0][0]                  \n",
      "__________________________________________________________________________________________________\n",
      "concatenate (Concatenate)       (None, 512)          0           sequential[0][0]                 \n",
      "                                                                 sequential_1[0][0]               \n",
      "                                                                 sequential_2[0][0]               \n",
      "                                                                 sequential_3[0][0]               \n",
      "__________________________________________________________________________________________________\n",
      "dense (Dense)                   (None, 512)          262656      concatenate[0][0]                \n",
      "__________________________________________________________________________________________________\n",
      "dropout_4 (Dropout)             (None, 512)          0           dense[0][0]                      \n",
      "__________________________________________________________________________________________________\n",
      "dense_1 (Dense)                 (None, 512)          262656      dropout_4[0][0]                  \n",
      "__________________________________________________________________________________________________\n",
      "dropout_5 (Dropout)             (None, 512)          0           dense_1[0][0]                    \n",
      "__________________________________________________________________________________________________\n",
      "dense_2 (Dense)                 (None, 1)            513         dropout_5[0][0]                  \n",
      "==================================================================================================\n",
      "Total params: 655,937\n",
      "Trainable params: 655,937\n",
      "Non-trainable params: 0\n",
      "__________________________________________________________________________________________________\n"
     ]
    }
   ],
   "source": [
    "model = cnn_model\n",
    "\n",
    "model.compile(loss=tf.keras.losses.BinaryCrossentropy(from_logits=True),\n",
    "              optimizer=tf.keras.optimizers.Adam(learning_rate=0.001),\n",
    "              metrics=metrics)\n",
    "model.summary()"
   ]
  },
  {
   "cell_type": "code",
   "execution_count": 30,
   "id": "ec1a76c9",
   "metadata": {},
   "outputs": [],
   "source": [
    "# Working model.\n",
    "\n",
    "# main_input = Input(shape=(200,), dtype='int32', name='main_input')\n",
    "# input_shape=(1000,1)\n",
    "\n",
    "# model = tf.keras.Sequential([\n",
    "#     encoder,\n",
    "#     tf.keras.layers.Embedding(\n",
    "#                     output_dim=200,\n",
    "#                     input_dim=1000,\n",
    "#                     mask_zero=True),\n",
    "#     tf.keras.layers.Conv1D(filters=256,\n",
    "#                           kernel_size=4,\n",
    "#                           input_shape=(1000,),\n",
    "#                           activation='relu',\n",
    "#                           bias_initializer='random_uniform',\n",
    "#                           padding='same'),\n",
    "#     tf.keras.layers.Lambda(sum_1d, output_shape=(nb_filter,)),\n",
    "#     tf.keras.layers.Dropout(0.5),\n",
    "#     tf.keras.layers.Dense(32, activation='relu'),\n",
    "#     tf.keras.layers.Dense(1)\n",
    "# ])\n",
    "\n",
    "# Working model -2\n",
    "\n",
    "# input_shape=(len(vocab),)\n",
    "\n",
    "# main_input = Input(shape=(1,), dtype='string', name='main_input')\n",
    "# x = encoder(main_input)\n",
    "# embedding_layer =  tf.keras.layers.Embedding(\n",
    "#                     output_dim=200,\n",
    "#                     input_dim=1000,\n",
    "#                     mask_zero=True);\n",
    "# x = embedding_layer(x)\n",
    "# conv1 = getconvmodel(2,256) (x)\n",
    "# conv2 = getconvmodel(3,256) (x)\n",
    "# conv3 = getconvmodel(4,256) (x)\n",
    "# conv4 = getconvmodel(5,256) (x)\n",
    "\n",
    "# concatted = tf.keras.layers.Concatenate()([conv1, conv2, conv3, conv4])\n",
    "\n",
    "# middle = Dense(1024,activation='relu')(concatted)\n",
    "# middle = Dropout(0.5)(middle)\n",
    "\n",
    "# middle = Dense(1024,activation='relu')(middle)\n",
    "# middle = Dropout(0.5)(middle)\n",
    "\n",
    "# output = Dense(1,activation='sigmoid')(middle)\n",
    "\n",
    "# model = Model(inputs=main_input,outputs=output)\n",
    "# model.summary()"
   ]
  },
  {
   "cell_type": "code",
   "execution_count": null,
   "id": "00f9f9b3",
   "metadata": {},
   "outputs": [],
   "source": []
  },
  {
   "cell_type": "code",
   "execution_count": 31,
   "id": "e75253e5",
   "metadata": {},
   "outputs": [
    {
     "name": "stdout",
     "output_type": "stream",
     "text": [
      "('Failed to import pydot. You must `pip install pydot` and install graphviz (https://graphviz.gitlab.io/download/), ', 'for `pydotprint` to work.')\n"
     ]
    }
   ],
   "source": [
    "tf.keras.utils.plot_model(model, rankdir=\"LR\", show_shapes=True)"
   ]
  },
  {
   "cell_type": "code",
   "execution_count": 32,
   "id": "460a7273",
   "metadata": {},
   "outputs": [
    {
     "name": "stdout",
     "output_type": "stream",
     "text": [
      "['main_input', 'text_vectorization', 'embedding', 'sequential', 'sequential_1', 'sequential_2', 'sequential_3', 'concatenate', 'dense', 'dropout_4', 'dense_1', 'dropout_5', 'dense_2']\n"
     ]
    }
   ],
   "source": [
    "print([layer.name for layer in model.layers])"
   ]
  },
  {
   "cell_type": "code",
   "execution_count": 33,
   "id": "1b750929",
   "metadata": {},
   "outputs": [
    {
     "name": "stdout",
     "output_type": "stream",
     "text": [
      "[0.81748223]\n"
     ]
    }
   ],
   "source": [
    "sample_url = ('app.cfe.gob.mx.aplicaciones.pagos.findhere.org/app/miperfil.html?_default.asp?id=nuevo_usuario&amp;prod=2012_pagoenlinea.aspx')\n",
    "predictions = model.predict(np.array([sample_url]))\n",
    "print(predictions[0])"
   ]
  },
  {
   "cell_type": "code",
   "execution_count": 34,
   "id": "f482805c",
   "metadata": {},
   "outputs": [],
   "source": [
    "# model.compile(loss=tf.keras.losses.BinaryCrossentropy(from_logits=True),\n",
    "#               optimizer=tf.keras.optimizers.Adam(1e-4),\n",
    "#               metrics=['accuracy'])"
   ]
  },
  {
   "cell_type": "code",
   "execution_count": 35,
   "id": "7a6f600d",
   "metadata": {},
   "outputs": [
    {
     "name": "stdout",
     "output_type": "stream",
     "text": [
      "11531/11531 [==============================] - 356s 30ms/step - loss: 0.1799 - tp: 60399.7479 - fp: 4239.8461 - tn: 291489.8598 - fn: 12926.5311 - accuracy: 0.9401 - precision: 0.9052 - recall: 0.7726 - auc: 0.9530 - prc: 0.8997 - val_loss: 0.0662 - val_tp: 33696.0000 - val_fp: 988.0000 - val_tn: 146640.0000 - val_fn: 3159.0000 - val_accuracy: 0.9775 - val_precision: 0.9715 - val_recall: 0.9143 - val_auc: 0.9934 - val_prc: 0.9837\n"
     ]
    }
   ],
   "source": [
    "history = model.fit(train_dataset, epochs=NO_EPOCHS, validation_data=test_dataset)"
   ]
  },
  {
   "cell_type": "code",
   "execution_count": 36,
   "id": "3158d2f4",
   "metadata": {},
   "outputs": [
    {
     "name": "stdout",
     "output_type": "stream",
     "text": [
      "Predicting probability\n"
     ]
    }
   ],
   "source": [
    "print (\"Predicting probability\")\n",
    "y_pred = model.predict(test['url'])\n"
   ]
  },
  {
   "cell_type": "code",
   "execution_count": 37,
   "id": "efe6f93b",
   "metadata": {},
   "outputs": [
    {
     "name": "stdout",
     "output_type": "stream",
     "text": [
      "Precision Avg 0.9434552192687988\n",
      "Recall Avg 0.8538472652435303\n",
      "Accuracy Avg 0.9607048630714417\n",
      "Auc Avg 0.981250524520874\n"
     ]
    }
   ],
   "source": [
    "metrics = ['precision', 'recall', 'accuracy', 'auc']\n",
    "for n, metric in enumerate(metrics):\n",
    "    name = metric.replace(\"_\",\" \").capitalize()\n",
    "    print(name + \" Avg \" + str(np.mean(history.history[metric])))\n",
    "\n",
    "# print(classification_report(test['label'], y_pred))\n"
   ]
  },
  {
   "cell_type": "code",
   "execution_count": 38,
   "id": "fec010ac",
   "metadata": {},
   "outputs": [],
   "source": [
    "mpl.rcParams['figure.figsize'] = (18, 12)\n",
    "colors = plt.rcParams['axes.prop_cycle'].by_key()['color']\n",
    "\n",
    "def plot_metrics(history):\n",
    "    metrics = ['loss', 'prc', 'precision', 'recall', 'accuracy', 'auc']\n",
    "    for n, metric in enumerate(metrics):\n",
    "        name = metric.replace(\"_\",\" \").capitalize()\n",
    "        plt.subplot(2,3,n+1)\n",
    "        plt.plot(history.epoch, history.history[metric], color=colors[0], label='Train')\n",
    "        plt.plot(history.epoch, history.history['val_'+metric],\n",
    "                 color=colors[1], linestyle=\"--\", label='Val')\n",
    "        plt.xlabel('Interation')\n",
    "        plt.ylabel(name)\n",
    "        if metric == 'loss':\n",
    "             plt.ylim([0, plt.ylim()[1]])\n",
    "        else:\n",
    "              plt.ylim([0.8,1])\n",
    "\n",
    "        plt.legend()"
   ]
  },
  {
   "cell_type": "code",
   "execution_count": 39,
   "id": "f5014ac1",
   "metadata": {},
   "outputs": [
    {
     "data": {
      "image/png": "[encoded data removed]",
      "text/plain": [
       "<Figure size 1296x864 with 6 Axes>"
      ]
     },
     "metadata": {
      "needs_background": "light"
     },
     "output_type": "display_data"
    }
   ],
   "source": [
    "plot_metrics(history)"
   ]
  },
  {
   "cell_type": "code",
   "execution_count": 40,
   "id": "d63e3191",
   "metadata": {},
   "outputs": [],
   "source": [
    "def plot_roc(name, labels, predictions, **kwargs):\n",
    "    fp, tp, _ = sklearn.metrics.roc_curve(labels, predictions)\n",
    "\n",
    "    plt.plot(100*fp, 100*tp, label=name, linewidth=2, **kwargs)\n",
    "    plt.xlabel('False positives [%]')\n",
    "    plt.ylabel('True positives [%]')\n",
    "    plt.xlim([-0.5,20])\n",
    "    plt.ylim([80,100.5])\n",
    "    plt.grid(True)\n",
    "    ax = plt.gca()\n",
    "    ax.set_aspect('equal')"
   ]
  },
  {
   "cell_type": "code",
   "execution_count": 41,
   "id": "aa02f166",
   "metadata": {},
   "outputs": [],
   "source": [
    "# plot_roc(\"Train Baseline\", y_train, train_predictions_baseline, color=colors[0])\n",
    "# plot_roc(\"Test Baseline\", y_test, test_predictions_baseline, color=colors[0], linestyle='--')\n",
    "# plt.legend(loc='lower right')"
   ]
  },
  {
   "cell_type": "code",
   "execution_count": 42,
   "id": "4304578f",
   "metadata": {},
   "outputs": [],
   "source": [
    "def convertPredToData(predictions, inputs):\n",
    "    predicted_rows = []\n",
    "    for idx, x in np.ndenumerate(inputs):\n",
    "        label = 'Benign'\n",
    "        if (predictions[idx] > 0.6):\n",
    "            label = 'Malicious'\n",
    "        else:\n",
    "            label = 'Benign'\n",
    "        predicted_rows.append([x, label])\n",
    "\n",
    "    data = pd.DataFrame(predicted_rows, columns=[\"url\", \"label\"])\n",
    "    return data"
   ]
  },
  {
   "cell_type": "code",
   "execution_count": 43,
   "id": "039c7604",
   "metadata": {},
   "outputs": [
    {
     "name": "stdout",
     "output_type": "stream",
     "text": [
      "                                                   url      label\n",
      "0    https://www.linkedin.com/pub/stephen-hunter/14...     Benign\n",
      "1                            https://www.wn.com/Honore     Benign\n",
      "2      https://www.en.wikipedia.org/wiki/Jesse_Murdock     Benign\n",
      "3    https://www.tonyskansascity.com/2011/07/kansas...     Benign\n",
      "4    https://www.motortrend.com/roadtests/trucks/11...     Benign\n",
      "..                                                 ...        ...\n",
      "253                      terryjenkinsexhibition.co.uk/     Benign\n",
      "254  http://www.hellooyun.com/php/ww2usaa/www32ew/u...  Malicious\n",
      "255        https://www.med.umkc.edu/news/default.shtml     Benign\n",
      "256           https://www.en.wikipedia.org/wiki/Dublin     Benign\n",
      "257                                   redtube.com/1558     Benign\n",
      "\n",
      "[258 rows x 2 columns]\n"
     ]
    }
   ],
   "source": [
    "# sample testing with 200 Random Records.\n",
    "# get 200 sample records from 1M records.\n",
    "x_test_sample = x_test.sample(frac=0.0014)\n",
    "\n",
    "predictions = model.predict(x_test_sample)\n",
    "df = convertPredToData(predictions, x_test_sample)\n",
    "\n",
    "print(df)"
   ]
  },
  {
   "cell_type": "code",
   "execution_count": null,
   "id": "d7769eed",
   "metadata": {},
   "outputs": [],
   "source": []
  },
  {
   "cell_type": "code",
   "execution_count": 44,
   "id": "c220da97",
   "metadata": {},
   "outputs": [],
   "source": [
    "# df_list = df.values.tolist()\n",
    "# JSONP_data = jsonpify(df_list)\n",
    "# return JSONP_data"
   ]
  },
  {
   "cell_type": "code",
   "execution_count": 45,
   "id": "b76b497d",
   "metadata": {},
   "outputs": [],
   "source": [
    "# Change this to True if you want to test the flow rapidly.\n",
    "# Train with a small dataset and only 1 epoch. The model will work poorly\n",
    "# but this provides a fast way to test if the conversion works end to end.\n",
    "\n",
    "# _FAST_TRAINING = False\n",
    "# _EPOCHS = 5\n",
    "\n",
    "# x_train_ds = tf.convert_to_tensor(pd.DataFrame(x_train))\n",
    "# y_train_ds = tf.convert_to_tensor(pd.DataFrame(y_train))\n",
    "# x_test_ds = tf.convert_to_tensor(pd.DataFrame(x_test))\n",
    "# y_test_ds = tf.convert_to_tensor(pd.DataFrame(y_test))\n",
    "    \n",
    "# if _FAST_TRAINING:\n",
    "#     _EPOCHS = 1\n",
    "#     _TRAINING_DATA_COUNT = 1000\n",
    "#     # Get split to small Dataset.\n",
    "#     x_train_ds = x_train[:_TRAINING_DATA_COUNT]\n",
    "#     y_train_ds = y_train[:_TRAINING_DATA_COUNT]\n",
    "#     x_test_ds = x_test[:_TRAINING_DATA_COUNT]\n",
    "#     y_test_ds = y_test[:_TRAINING_DATA_COUNT]\n",
    "#     # Convert to Tensors.\n",
    "#     x_train_ds = tf.convert_to_tensor(pd.DataFrame(x_train_ds))\n",
    "#     y_train_ds = tf.convert_to_tensor(pd.DataFrame(y_train_ds))\n",
    "#     x_test_ds = tf.convert_to_tensor(pd.DataFrame(x_test_ds))\n",
    "#     y_test_ds = tf.convert_to_tensor(pd.DataFrame(y_test_ds))\n",
    "\n",
    "# model.fit(x_train_ds, y_train_ds, epochs=_EPOCHS)\n",
    "# model.evaluate(x_test_ds, y_test_ds, verbose=0)"
   ]
  },
  {
   "cell_type": "code",
   "execution_count": 46,
   "id": "7599f1ac",
   "metadata": {},
   "outputs": [],
   "source": [
    "# run_model = tf.function(lambda x: model(x))\n",
    "# # This is important, let's fix the input size.\n",
    "# INPUT_SIZE = 200\n",
    "# concrete_func = run_model.get_concrete_function(\n",
    "#     tf.TensorSpec([INPUT_SIZE]))"
   ]
  },
  {
   "cell_type": "code",
   "execution_count": null,
   "id": "7c1cfbeb",
   "metadata": {},
   "outputs": [],
   "source": []
  },
  {
   "cell_type": "code",
   "execution_count": 47,
   "id": "f46ca82d",
   "metadata": {},
   "outputs": [
    {
     "name": "stdout",
     "output_type": "stream",
     "text": [
      "WARNING:tensorflow:AutoGraph could not transform <function _trace_save_and_restore_function.<locals>.save_fn at 0x7fd48011f430> and will run it as-is.\n",
      "Please report this to the TensorFlow team. When filing the bug, set the verbosity to 10 (on Linux, `export AUTOGRAPH_VERBOSITY=10`) and attach the full output.\n",
      "Cause: module 'gast' has no attribute 'Index'\n",
      "To silence this warning, decorate the function with @tf.autograph.experimental.do_not_convert\n",
      "WARNING: AutoGraph could not transform <function _trace_save_and_restore_function.<locals>.save_fn at 0x7fd48011f430> and will run it as-is.\n",
      "Please report this to the TensorFlow team. When filing the bug, set the verbosity to 10 (on Linux, `export AUTOGRAPH_VERBOSITY=10`) and attach the full output.\n",
      "Cause: module 'gast' has no attribute 'Index'\n",
      "To silence this warning, decorate the function with @tf.autograph.experimental.do_not_convert\n",
      "WARNING:tensorflow:AutoGraph could not transform <function _trace_save_and_restore_function.<locals>.save_fn at 0x7fd42c4d09d0> and will run it as-is.\n",
      "Please report this to the TensorFlow team. When filing the bug, set the verbosity to 10 (on Linux, `export AUTOGRAPH_VERBOSITY=10`) and attach the full output.\n",
      "Cause: module 'gast' has no attribute 'Index'\n",
      "To silence this warning, decorate the function with @tf.autograph.experimental.do_not_convert\n",
      "WARNING: AutoGraph could not transform <function _trace_save_and_restore_function.<locals>.save_fn at 0x7fd42c4d09d0> and will run it as-is.\n",
      "Please report this to the TensorFlow team. When filing the bug, set the verbosity to 10 (on Linux, `export AUTOGRAPH_VERBOSITY=10`) and attach the full output.\n",
      "Cause: module 'gast' has no attribute 'Index'\n",
      "To silence this warning, decorate the function with @tf.autograph.experimental.do_not_convert\n",
      "INFO:tensorflow:Assets written to: keras_cnn_model/assets\n",
      "INFO:tensorflow:Using default config.\n",
      "INFO:tensorflow:Using the Keras model provided.\n",
      "INFO:tensorflow:Using config: {'_model_dir': 'keras_cnn_model', '_tf_random_seed': None, '_save_summary_steps': 100, '_save_checkpoints_steps': None, '_save_checkpoints_secs': 600, '_session_config': allow_soft_placement: true\n",
      "graph_options {\n",
      "  rewrite_options {\n",
      "    meta_optimizer_iterations: ONE\n",
      "  }\n",
      "}\n",
      ", '_keep_checkpoint_max': 5, '_keep_checkpoint_every_n_hours': 10000, '_log_step_count_steps': 100, '_train_distribute': None, '_device_fn': None, '_protocol': None, '_eval_distribute': None, '_experimental_distribute': None, '_experimental_max_worker_delay_secs': None, '_session_creation_timeout_secs': 7200, '_checkpoint_save_graph_def': True, '_service': None, '_cluster_spec': ClusterSpec({}), '_task_type': 'worker', '_task_id': 0, '_global_id_in_cluster': 0, '_master': '', '_evaluation_master': '', '_is_chief': True, '_num_ps_replicas': 0, '_num_worker_replicas': 1}\n"
     ]
    }
   ],
   "source": [
    "#model directory.\n",
    "MODEL_DIR = \"keras_cnn_model\"\n",
    "model.save(MODEL_DIR)\n",
    "estimator = tf.keras.estimator.model_to_estimator(keras_model=model, model_dir=MODEL_DIR)"
   ]
  },
  {
   "cell_type": "code",
   "execution_count": 48,
   "id": "1b80dc33",
   "metadata": {},
   "outputs": [
    {
     "name": "stdout",
     "output_type": "stream",
     "text": [
      "Model: \"model\"\n",
      "__________________________________________________________________________________________________\n",
      "Layer (type)                    Output Shape         Param #     Connected to                     \n",
      "==================================================================================================\n",
      "main_input (InputLayer)         [(None, 1)]          0                                            \n",
      "__________________________________________________________________________________________________\n",
      "text_vectorization (TextVectori (None, 200)          0           main_input[0][0]                 \n",
      "__________________________________________________________________________________________________\n",
      "embedding (Embedding)           (None, 200, 64)      14912       text_vectorization[0][0]         \n",
      "__________________________________________________________________________________________________\n",
      "sequential (Sequential)         (None, 128)          16512       embedding[0][0]                  \n",
      "__________________________________________________________________________________________________\n",
      "sequential_1 (Sequential)       (None, 128)          24704       embedding[0][0]                  \n",
      "__________________________________________________________________________________________________\n",
      "sequential_2 (Sequential)       (None, 128)          32896       embedding[0][0]                  \n",
      "__________________________________________________________________________________________________\n",
      "sequential_3 (Sequential)       (None, 128)          41088       embedding[0][0]                  \n",
      "__________________________________________________________________________________________________\n",
      "concatenate (Concatenate)       (None, 512)          0           sequential[0][0]                 \n",
      "                                                                 sequential_1[0][0]               \n",
      "                                                                 sequential_2[0][0]               \n",
      "                                                                 sequential_3[0][0]               \n",
      "__________________________________________________________________________________________________\n",
      "dense (Dense)                   (None, 512)          262656      concatenate[0][0]                \n",
      "__________________________________________________________________________________________________\n",
      "dropout_4 (Dropout)             (None, 512)          0           dense[0][0]                      \n",
      "__________________________________________________________________________________________________\n",
      "dense_1 (Dense)                 (None, 512)          262656      dropout_4[0][0]                  \n",
      "__________________________________________________________________________________________________\n",
      "dropout_5 (Dropout)             (None, 512)          0           dense_1[0][0]                    \n",
      "__________________________________________________________________________________________________\n",
      "dense_2 (Dense)                 (None, 1)            513         dropout_5[0][0]                  \n",
      "==================================================================================================\n",
      "Total params: 655,937\n",
      "Trainable params: 655,937\n",
      "Non-trainable params: 0\n",
      "__________________________________________________________________________________________________\n",
      "11531/11531 [==============================] - 347s 30ms/step - loss: 0.0825 - tp: 132146.0000 - fp: 5400.0000 - tn: 585580.0000 - fn: 14803.0000 - accuracy: 0.9726 - precision: 0.9607 - recall: 0.8993 - auc: 0.9895 - prc: 0.9751 - val_loss: 0.0612 - val_tp: 34263.0000 - val_fp: 1256.0000 - val_tn: 146372.0000 - val_fn: 2592.0000 - val_accuracy: 0.9791 - val_precision: 0.9646 - val_recall: 0.9297 - val_auc: 0.9940 - val_prc: 0.9853\n"
     ]
    }
   ],
   "source": [
    "saved_model = tf.keras.models.load_model(MODEL_DIR)\n",
    "\n",
    "# Check its architecture\n",
    "saved_model.summary()\n",
    "\n",
    "# fit loaded model\n",
    "history_loaded = saved_model.fit(train_dataset, epochs=NO_EPOCHS, validation_data=test_dataset)"
   ]
  },
  {
   "cell_type": "code",
   "execution_count": 49,
   "id": "4584c69f",
   "metadata": {},
   "outputs": [
    {
     "ename": "NameError",
     "evalue": "name 'flask' is not defined",
     "output_type": "error",
     "traceback": [
      "\u001b[0;31m---------------------------------------------------------------------------\u001b[0m",
      "\u001b[0;31mNameError\u001b[0m                                 Traceback (most recent call last)",
      "\u001b[0;32m<ipython-input-49-afe9941cda83>\u001b[0m in \u001b[0;36m<module>\u001b[0;34m\u001b[0m\n\u001b[1;32m      2\u001b[0m \u001b[0;34m\u001b[0m\u001b[0m\n\u001b[1;32m      3\u001b[0m \u001b[0;31m# initialize our Flask application and the Keras model\u001b[0m\u001b[0;34m\u001b[0m\u001b[0;34m\u001b[0m\u001b[0;34m\u001b[0m\u001b[0m\n\u001b[0;32m----> 4\u001b[0;31m \u001b[0mapp\u001b[0m \u001b[0;34m=\u001b[0m \u001b[0mflask\u001b[0m\u001b[0;34m.\u001b[0m\u001b[0mFlask\u001b[0m\u001b[0;34m(\u001b[0m\u001b[0m__name__\u001b[0m\u001b[0;34m)\u001b[0m\u001b[0;34m\u001b[0m\u001b[0;34m\u001b[0m\u001b[0m\n\u001b[0m\u001b[1;32m      5\u001b[0m \u001b[0;34m\u001b[0m\u001b[0m\n\u001b[1;32m      6\u001b[0m \u001b[0;34m@\u001b[0m\u001b[0mapp\u001b[0m\u001b[0;34m.\u001b[0m\u001b[0mroute\u001b[0m\u001b[0;34m(\u001b[0m\u001b[0;34m'/predict'\u001b[0m\u001b[0;34m,\u001b[0m \u001b[0mmethods\u001b[0m\u001b[0;34m=\u001b[0m\u001b[0;34m[\u001b[0m\u001b[0;34m'POST'\u001b[0m\u001b[0;34m]\u001b[0m\u001b[0;34m)\u001b[0m\u001b[0;34m\u001b[0m\u001b[0;34m\u001b[0m\u001b[0m\n",
      "\u001b[0;31mNameError\u001b[0m: name 'flask' is not defined"
     ]
    }
   ],
   "source": [
    "from flask import Flask, jsonify\n",
    "\n",
    "# initialize our Flask application and the Keras model\n",
    "app = flask.Flask(__name__)\n",
    "\n",
    "@app.route('/predict', methods=['POST'])\n",
    "def predict():\n",
    "    inputs = np.array(request.json)\n",
    "    prediction = saved_model.predict(inputs)\n",
    "    data_df = convertPredToData(predictions, inputs)\n",
    "    return Response(data_df.to_json(orient=\"records\"), mimetype='application/json')"
   ]
  },
  {
   "cell_type": "code",
   "execution_count": null,
   "id": "d24a1162",
   "metadata": {},
   "outputs": [],
   "source": [
    "if __name__ == '__main__':\n",
    "    try:\n",
    "        port = int(sys.argv[1]) # This is for a command-line argument\n",
    "    except:\n",
    "        port = 2222\n",
    "    app.run(port=port, debug=True)"
   ]
  },
  {
   "cell_type": "code",
   "execution_count": null,
   "id": "57a52794",
   "metadata": {},
   "outputs": [],
   "source": []
  },
  {
   "cell_type": "code",
   "execution_count": null,
   "id": "35b70aba",
   "metadata": {},
   "outputs": [],
   "source": []
  }
 ],
 "metadata": {
  "kernelspec": {
   "display_name": "ML and DL with CUDA 10.2",
   "language": "python",
   "name": "cuda101"
  },
  "language_info": {
   "codemirror_mode": {
    "name": "ipython",
    "version": 3
   },
   "file_extension": ".py",
   "mimetype": "text/x-python",
   "name": "python",
   "nbconvert_exporter": "python",
   "pygments_lexer": "ipython3",
   "version": "3.8.8"
  }
 },
 "nbformat": 4,
 "nbformat_minor": 5
}
