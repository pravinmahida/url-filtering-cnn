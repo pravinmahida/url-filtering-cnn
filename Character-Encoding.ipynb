{
 "cells": [
  {
   "cell_type": "code",
   "execution_count": 2,
   "id": "305e7b97",
   "metadata": {},
   "outputs": [],
   "source": [
    "import pandas as pd\n",
    "import matplotlib as mpl\n",
    "import matplotlib.pyplot as plt\n",
    "import numpy as np\n",
    "from sklearn.model_selection import train_test_split\n",
    "from sklearn.preprocessing  import LabelEncoder\n",
    "\n",
    "import tensorflow_datasets as tfds\n",
    "import numpy as np\n",
    "import tensorflow as tf\n",
    "from tensorflow import keras\n",
    "from tensorflow.keras import layers\n",
    "from tensorflow.keras.layers import Dense\n",
    "from tensorflow.keras.layers import Dropout\n",
    "from tensorflow.keras.layers import Embedding\n",
    "from tensorflow.keras.layers import Conv1D\n",
    "from tensorflow.keras.layers import MaxPooling1D\n",
    "from tensorflow.keras.layers import Lambda\n",
    "from tensorflow.keras.layers import BatchNormalization\n",
    "from tensorflow.keras.layers import GlobalAveragePooling1D\n",
    "from tensorflow.keras.layers import Input, Embedding, LSTM, Dense, Bidirectional\n",
    "from tensorflow.keras.layers import LSTM, LSTMCell, RNN\n",
    "from tensorflow.keras.models import Model\n",
    "from tensorflow.keras import backend as K\n",
    "from tensorflow.keras.models import Sequential\n",
    "import sqlite3\n",
    "# metrics import for model evaluation.\n",
    "from sklearn.metrics import confusion_matrix\n",
    "from sklearn.metrics import classification_report\n",
    "from sklearn.metrics import roc_curve\n",
    "from sklearn.metrics import roc_auc_score\n",
    "from sklearn.metrics import precision_recall_curve\n",
    "from sklearn.metrics import auc\n",
    "\n",
    "from flask import Flask, jsonify\n",
    "\n",
    "tfds.disable_progress_bar()"
   ]
  },
  {
   "cell_type": "code",
   "execution_count": 3,
   "id": "a2d8de0f",
   "metadata": {},
   "outputs": [
    {
     "name": "stdout",
     "output_type": "stream",
     "text": [
      "2.4.1\n"
     ]
    }
   ],
   "source": [
    "print(tf.__version__)\n",
    "BUFFER_SIZE = 10000\n",
    "BATCH_SIZE = 64\n",
    "NO_EPOCHS = 30"
   ]
  },
  {
   "cell_type": "code",
   "execution_count": 4,
   "id": "ffd99cb0",
   "metadata": {},
   "outputs": [],
   "source": [
    "# connect to urlDB.db sqlLite database.\n",
    "def pushCsvToDB():\n",
    "    con = sqlite3.connect(\"./sqllite/urlDB.db\")\n",
    "    # load Dataset1.\n",
    "    url_data = pd.read_csv('combined-urls.csv')\n",
    "    cur = con.cursor()\n",
    "    # Drop URLS Table if already exist.\n",
    "    cur.execute(\"DROP TABLE URLS;\")\n",
    "    # CREATE new URLS Table.\n",
    "    cur.execute(\"CREATE TABLE urls (url TEXT NOT NULL, label TEXT NOT NULL, confidence_score REAL);\")\n",
    "    # Loop thru url_data row and generate insert values.\n",
    "    to_db = [( url_data.loc[i, \"url\"], url_data.loc[i, \"label\"]) for i in range(len(url_data))]\n",
    "    # insert current csv data into database.\n",
    "    cur.executemany(\"INSERT INTO URLS (URL, LABEL) VALUES (?, ?);\", to_db)\n",
    "    # Commit changes.\n",
    "    con.commit()\n",
    "    # Close connection\n",
    "    con.close()"
   ]
  },
  {
   "cell_type": "code",
   "execution_count": 5,
   "id": "29da76eb",
   "metadata": {},
   "outputs": [],
   "source": [
    "# create an Empty DataFrame url_data\n",
    "url_data = pd.DataFrame()\n",
    "# feed databasse with csv file.\n",
    "pushCsvToDB()"
   ]
  },
  {
   "cell_type": "code",
   "execution_count": 6,
   "id": "b97f2f9d",
   "metadata": {},
   "outputs": [],
   "source": [
    "\n",
    "# Create a SQL connection to our SQLite database\n",
    "con = sqlite3.connect(\"./sqllite/urlDB.db\")\n",
    "\n",
    "# read data from database.\n",
    "url_data = pd.read_sql_query(\"SELECT * from urls\", con)\n",
    "\n",
    "# close the connection\n",
    "con.close()\n"
   ]
  },
  {
   "cell_type": "code",
   "execution_count": 7,
   "id": "77574d44",
   "metadata": {},
   "outputs": [
    {
     "name": "stdout",
     "output_type": "stream",
     "text": [
      "<class 'pandas.core.frame.DataFrame'>\n",
      "RangeIndex: 922412 entries, 0 to 922411\n",
      "Data columns (total 3 columns):\n",
      " #   Column            Non-Null Count   Dtype \n",
      "---  ------            --------------   ----- \n",
      " 0   url               922412 non-null  object\n",
      " 1   label             922412 non-null  object\n",
      " 2   confidence_score  0 non-null       object\n",
      "dtypes: object(3)\n",
      "memory usage: 21.1+ MB\n"
     ]
    }
   ],
   "source": [
    "# Dataset information.\n",
    "url_data.info()"
   ]
  },
  {
   "cell_type": "code",
   "execution_count": 8,
   "id": "a59ee565",
   "metadata": {},
   "outputs": [
    {
     "data": {
      "text/html": [
       "<div>\n",
       "<style scoped>\n",
       "    .dataframe tbody tr th:only-of-type {\n",
       "        vertical-align: middle;\n",
       "    }\n",
       "\n",
       "    .dataframe tbody tr th {\n",
       "        vertical-align: top;\n",
       "    }\n",
       "\n",
       "    .dataframe thead th {\n",
       "        text-align: right;\n",
       "    }\n",
       "</style>\n",
       "<table border=\"1\" class=\"dataframe\">\n",
       "  <thead>\n",
       "    <tr style=\"text-align: right;\">\n",
       "      <th></th>\n",
       "      <th>url</th>\n",
       "      <th>label</th>\n",
       "      <th>confidence_score</th>\n",
       "    </tr>\n",
       "  </thead>\n",
       "  <tbody>\n",
       "    <tr>\n",
       "      <th>0</th>\n",
       "      <td>https://www.google.com</td>\n",
       "      <td>benign</td>\n",
       "      <td>None</td>\n",
       "    </tr>\n",
       "    <tr>\n",
       "      <th>1</th>\n",
       "      <td>https://www.youtube.com</td>\n",
       "      <td>benign</td>\n",
       "      <td>None</td>\n",
       "    </tr>\n",
       "    <tr>\n",
       "      <th>2</th>\n",
       "      <td>https://www.facebook.com</td>\n",
       "      <td>benign</td>\n",
       "      <td>None</td>\n",
       "    </tr>\n",
       "    <tr>\n",
       "      <th>3</th>\n",
       "      <td>https://www.baidu.com</td>\n",
       "      <td>benign</td>\n",
       "      <td>None</td>\n",
       "    </tr>\n",
       "    <tr>\n",
       "      <th>4</th>\n",
       "      <td>https://www.wikipedia.org</td>\n",
       "      <td>benign</td>\n",
       "      <td>None</td>\n",
       "    </tr>\n",
       "  </tbody>\n",
       "</table>\n",
       "</div>"
      ],
      "text/plain": [
       "                         url   label confidence_score\n",
       "0     https://www.google.com  benign             None\n",
       "1    https://www.youtube.com  benign             None\n",
       "2   https://www.facebook.com  benign             None\n",
       "3      https://www.baidu.com  benign             None\n",
       "4  https://www.wikipedia.org  benign             None"
      ]
     },
     "execution_count": 8,
     "metadata": {},
     "output_type": "execute_result"
    }
   ],
   "source": [
    "url_data.head()"
   ]
  },
  {
   "cell_type": "code",
   "execution_count": 9,
   "id": "526b3e55",
   "metadata": {},
   "outputs": [
    {
     "name": "stdout",
     "output_type": "stream",
     "text": [
      "<class 'pandas.core.frame.DataFrame'>\n",
      "RangeIndex: 922412 entries, 0 to 922411\n",
      "Data columns (total 3 columns):\n",
      " #   Column            Non-Null Count   Dtype \n",
      "---  ------            --------------   ----- \n",
      " 0   url               922412 non-null  object\n",
      " 1   label             922412 non-null  int64 \n",
      " 2   confidence_score  0 non-null       object\n",
      "dtypes: int64(1), object(2)\n",
      "memory usage: 21.1+ MB\n"
     ]
    }
   ],
   "source": [
    "number = LabelEncoder()\n",
    "url_data['label'] = number.fit_transform(url_data['label'].astype(str))\n",
    "url_data.info()"
   ]
  },
  {
   "cell_type": "code",
   "execution_count": 10,
   "id": "70618d9e",
   "metadata": {},
   "outputs": [
    {
     "name": "stdout",
     "output_type": "stream",
     "text": [
      "Shape of x_train:  (737929, 3)\n",
      "Shape of x_valid:  (184483, 3)\n"
     ]
    },
    {
     "data": {
      "text/html": [
       "<div>\n",
       "<style scoped>\n",
       "    .dataframe tbody tr th:only-of-type {\n",
       "        vertical-align: middle;\n",
       "    }\n",
       "\n",
       "    .dataframe tbody tr th {\n",
       "        vertical-align: top;\n",
       "    }\n",
       "\n",
       "    .dataframe thead th {\n",
       "        text-align: right;\n",
       "    }\n",
       "</style>\n",
       "<table border=\"1\" class=\"dataframe\">\n",
       "  <thead>\n",
       "    <tr style=\"text-align: right;\">\n",
       "      <th></th>\n",
       "      <th>url</th>\n",
       "      <th>label</th>\n",
       "      <th>confidence_score</th>\n",
       "    </tr>\n",
       "  </thead>\n",
       "  <tbody>\n",
       "    <tr>\n",
       "      <th>128261</th>\n",
       "      <td>https://www.actualindia.com/</td>\n",
       "      <td>0</td>\n",
       "      <td>None</td>\n",
       "    </tr>\n",
       "    <tr>\n",
       "      <th>469182</th>\n",
       "      <td>viciouscycleguild.com/8558793619/3853935958353/</td>\n",
       "      <td>1</td>\n",
       "      <td>None</td>\n",
       "    </tr>\n",
       "    <tr>\n",
       "      <th>565622</th>\n",
       "      <td>benefitauctionevents.net/includes/lol</td>\n",
       "      <td>1</td>\n",
       "      <td>None</td>\n",
       "    </tr>\n",
       "    <tr>\n",
       "      <th>417265</th>\n",
       "      <td>http://91.239.24.181:6892</td>\n",
       "      <td>1</td>\n",
       "      <td>None</td>\n",
       "    </tr>\n",
       "    <tr>\n",
       "      <th>237965</th>\n",
       "      <td>https://www.lonelyplanet.com/maps/europe/germa...</td>\n",
       "      <td>0</td>\n",
       "      <td>None</td>\n",
       "    </tr>\n",
       "    <tr>\n",
       "      <th>198728</th>\n",
       "      <td>https://www.flixster.com/actor/tony-moran</td>\n",
       "      <td>0</td>\n",
       "      <td>None</td>\n",
       "    </tr>\n",
       "    <tr>\n",
       "      <th>419976</th>\n",
       "      <td>http://imobiliariaclaudio.com/biz/ok/do/</td>\n",
       "      <td>1</td>\n",
       "      <td>None</td>\n",
       "    </tr>\n",
       "    <tr>\n",
       "      <th>921817</th>\n",
       "      <td>samuelmerritt.campuspack.net/</td>\n",
       "      <td>0</td>\n",
       "      <td>None</td>\n",
       "    </tr>\n",
       "    <tr>\n",
       "      <th>345105</th>\n",
       "      <td>https://www.admissionnews.com/</td>\n",
       "      <td>0</td>\n",
       "      <td>None</td>\n",
       "    </tr>\n",
       "    <tr>\n",
       "      <th>892324</th>\n",
       "      <td>tvguide.com/celebrities/daniel-pilon/146022</td>\n",
       "      <td>0</td>\n",
       "      <td>None</td>\n",
       "    </tr>\n",
       "  </tbody>\n",
       "</table>\n",
       "</div>"
      ],
      "text/plain": [
       "                                                      url  label  \\\n",
       "128261                       https://www.actualindia.com/      0   \n",
       "469182    viciouscycleguild.com/8558793619/3853935958353/      1   \n",
       "565622              benefitauctionevents.net/includes/lol      1   \n",
       "417265                          http://91.239.24.181:6892      1   \n",
       "237965  https://www.lonelyplanet.com/maps/europe/germa...      0   \n",
       "198728          https://www.flixster.com/actor/tony-moran      0   \n",
       "419976           http://imobiliariaclaudio.com/biz/ok/do/      1   \n",
       "921817                      samuelmerritt.campuspack.net/      0   \n",
       "345105                     https://www.admissionnews.com/      0   \n",
       "892324        tvguide.com/celebrities/daniel-pilon/146022      0   \n",
       "\n",
       "       confidence_score  \n",
       "128261             None  \n",
       "469182             None  \n",
       "565622             None  \n",
       "417265             None  \n",
       "237965             None  \n",
       "198728             None  \n",
       "419976             None  \n",
       "921817             None  \n",
       "345105             None  \n",
       "892324             None  "
      ]
     },
     "execution_count": 10,
     "metadata": {},
     "output_type": "execute_result"
    }
   ],
   "source": [
    "# Data Partioning \n",
    "\n",
    "train, test = train_test_split(url_data, test_size=0.2)\n",
    "x_train, x_test = train_test_split(url_data['url'], test_size=0.2)\n",
    "y_train, y_test = train_test_split(url_data['label'], test_size=0.2)\n",
    "\n",
    "train.to_csv('train.csv', header=False)\n",
    "test.to_csv('test.csv', header=False)\n",
    "\n",
    "print(\"Shape of x_train: \", train.shape)\n",
    "print(\"Shape of x_valid: \", test.shape)\n",
    "\n",
    "train.head(10)"
   ]
  },
  {
   "cell_type": "code",
   "execution_count": 11,
   "id": "7fe9f969",
   "metadata": {},
   "outputs": [
    {
     "data": {
      "text/plain": [
       "True"
      ]
     },
     "execution_count": 11,
     "metadata": {},
     "output_type": "execute_result"
    }
   ],
   "source": [
    "\n",
    "types  = [tf.string, tf.int64]\n",
    "record_defaults = ['XXXX', 999] # Only provide defaults for the selected columns\n",
    "tf.executing_eagerly()\n"
   ]
  },
  {
   "cell_type": "code",
   "execution_count": 12,
   "id": "b84d9991",
   "metadata": {},
   "outputs": [
    {
     "data": {
      "text/plain": [
       "(TensorSpec(shape=(), dtype=tf.string, name=None),\n",
       " TensorSpec(shape=(), dtype=tf.int32, name=None))"
      ]
     },
     "execution_count": 12,
     "metadata": {},
     "output_type": "execute_result"
    }
   ],
   "source": [
    "train_dataset = tf.data.experimental.CsvDataset(\"train.csv\", record_defaults, select_cols=[1, 2])\n",
    "train_dataset.element_spec"
   ]
  },
  {
   "cell_type": "code",
   "execution_count": 13,
   "id": "1cc553f5",
   "metadata": {},
   "outputs": [
    {
     "data": {
      "text/plain": [
       "(TensorSpec(shape=(), dtype=tf.string, name=None),\n",
       " TensorSpec(shape=(), dtype=tf.int32, name=None))"
      ]
     },
     "execution_count": 13,
     "metadata": {},
     "output_type": "execute_result"
    }
   ],
   "source": [
    "test_dataset = tf.data.experimental.CsvDataset(\"test.csv\", record_defaults, select_cols=[1, 2])\n",
    "test_dataset.element_spec\n"
   ]
  },
  {
   "cell_type": "code",
   "execution_count": 14,
   "id": "3bfde4b1",
   "metadata": {},
   "outputs": [
    {
     "data": {
      "text/plain": [
       "<PrefetchDataset shapes: ((None,), (None,)), types: (tf.string, tf.int32)>"
      ]
     },
     "execution_count": 14,
     "metadata": {},
     "output_type": "execute_result"
    }
   ],
   "source": [
    "train_dataset = train_dataset.shuffle(BUFFER_SIZE).batch(BATCH_SIZE).prefetch(tf.data.AUTOTUNE)\n",
    "test_dataset = test_dataset.batch(BATCH_SIZE).prefetch(tf.data.AUTOTUNE)\n",
    "train_dataset"
   ]
  },
  {
   "cell_type": "code",
   "execution_count": 15,
   "id": "c93c9a16",
   "metadata": {},
   "outputs": [],
   "source": [
    "@tf.keras.utils.register_keras_serializable()\n",
    "def char_split(input_data):\n",
    "    return tf.strings.unicode_split(input_data, 'UTF-8')\n",
    "\n",
    "# URL will always be single word so we need to split with '/' to get word from url.\n",
    "def word_split(input_data):\n",
    "    return tf.strings.split(input_data, sep='/')"
   ]
  },
  {
   "cell_type": "code",
   "execution_count": 16,
   "id": "c7f5d906",
   "metadata": {},
   "outputs": [
    {
     "name": "stdout",
     "output_type": "stream",
     "text": [
      "urls:  [b'https://www.wikidomo.com/places/with-types/like/marina/in/chelsea_quebec_canada'\n",
      " b'http://cissi.brinomedia.se/mailtwentyfifteen/ced540f2f0231174cf6e62463b477310'\n",
      " b'https://www.amazon.com/MC2-Mariah-Carey/dp/B000UMKCYC']\n",
      "\n",
      "labels:  [0 1 0]\n"
     ]
    }
   ],
   "source": [
    "for url, label in train_dataset.take(1):\n",
    "  print('urls: ', url.numpy()[:3])\n",
    "  print()\n",
    "  print('labels: ', label.numpy()[:3])"
   ]
  },
  {
   "cell_type": "code",
   "execution_count": 17,
   "id": "5d4ebed4",
   "metadata": {},
   "outputs": [
    {
     "data": {
      "text/plain": [
       "(TensorSpec(shape=(None,), dtype=tf.string, name=None),\n",
       " TensorSpec(shape=(None,), dtype=tf.int32, name=None))"
      ]
     },
     "execution_count": 17,
     "metadata": {},
     "output_type": "execute_result"
    }
   ],
   "source": [
    "train_dataset.element_spec"
   ]
  },
  {
   "cell_type": "code",
   "execution_count": 18,
   "id": "96d5f218",
   "metadata": {},
   "outputs": [],
   "source": [
    "VOCAB_SIZE = 1000\n",
    "sequence_length = 200\n",
    "\n",
    "encoder = tf.keras.layers.experimental.preprocessing.TextVectorization(\n",
    "    max_tokens=VOCAB_SIZE,\n",
    "    split=char_split,\n",
    "    output_mode=\"int\",\n",
    "    pad_to_max_tokens=True,\n",
    "    output_sequence_length=sequence_length,\n",
    ")\n",
    "\n",
    "encoder.adapt(train_dataset.map(lambda url, label: url))\n"
   ]
  },
  {
   "cell_type": "code",
   "execution_count": 19,
   "id": "d83d81ed",
   "metadata": {},
   "outputs": [
    {
     "data": {
      "text/plain": [
       "232"
      ]
     },
     "execution_count": 19,
     "metadata": {},
     "output_type": "execute_result"
    }
   ],
   "source": [
    "vocab = np.array(encoder.get_vocabulary())\n",
    "len(vocab)"
   ]
  },
  {
   "cell_type": "code",
   "execution_count": 20,
   "id": "3b146b02",
   "metadata": {},
   "outputs": [],
   "source": [
    "def vectorize_text(text):\n",
    "    text = tf.expand_dims(text, -1)\n",
    "    return tf.squeeze(encoder(text))"
   ]
  },
  {
   "cell_type": "code",
   "execution_count": 21,
   "id": "e562a5d1",
   "metadata": {},
   "outputs": [
    {
     "data": {
      "text/plain": [
       "<tf.Tensor: shape=(200,), dtype=int64, numpy=\n",
       "array([15,  3,  3, 14,  6, 12, 12, 12,  2, 34,  5, 11, 14, 13,  2,  8,  4,\n",
       "       11,  0,  0,  0,  0,  0,  0,  0,  0,  0,  0,  0,  0,  0,  0,  0,  0,\n",
       "        0,  0,  0,  0,  0,  0,  0,  0,  0,  0,  0,  0,  0,  0,  0,  0,  0,\n",
       "        0,  0,  0,  0,  0,  0,  0,  0,  0,  0,  0,  0,  0,  0,  0,  0,  0,\n",
       "        0,  0,  0,  0,  0,  0,  0,  0,  0,  0,  0,  0,  0,  0,  0,  0,  0,\n",
       "        0,  0,  0,  0,  0,  0,  0,  0,  0,  0,  0,  0,  0,  0,  0,  0,  0,\n",
       "        0,  0,  0,  0,  0,  0,  0,  0,  0,  0,  0,  0,  0,  0,  0,  0,  0,\n",
       "        0,  0,  0,  0,  0,  0,  0,  0,  0,  0,  0,  0,  0,  0,  0,  0,  0,\n",
       "        0,  0,  0,  0,  0,  0,  0,  0,  0,  0,  0,  0,  0,  0,  0,  0,  0,\n",
       "        0,  0,  0,  0,  0,  0,  0,  0,  0,  0,  0,  0,  0,  0,  0,  0,  0,\n",
       "        0,  0,  0,  0,  0,  0,  0,  0,  0,  0,  0,  0,  0,  0,  0,  0,  0,\n",
       "        0,  0,  0,  0,  0,  0,  0,  0,  0,  0,  0,  0,  0])>"
      ]
     },
     "execution_count": 21,
     "metadata": {},
     "output_type": "execute_result"
    }
   ],
   "source": [
    "vectorize_text(\"https://www.example.com\")"
   ]
  },
  {
   "cell_type": "code",
   "execution_count": 22,
   "id": "77a78787",
   "metadata": {},
   "outputs": [],
   "source": [
    "def getconvmodel(filter_length,nb_filter):\n",
    "    model = Sequential()\n",
    "    model.add(Conv1D(filters=nb_filter,\n",
    "                        input_shape=(200, 64),\n",
    "                        kernel_size=filter_length,\n",
    "                        padding='same',\n",
    "                        activation='relu'))\n",
    "    model.add(BatchNormalization())\n",
    "    model.add(Lambda(sum_1d, output_shape=(nb_filter,)))\n",
    "    model.add(Dropout(0.5))\n",
    "    return model"
   ]
  },
  {
   "cell_type": "code",
   "execution_count": 23,
   "id": "0a7077d0",
   "metadata": {},
   "outputs": [],
   "source": [
    "def sum_1d(X):\n",
    "    return K.sum(X, axis=1)\n"
   ]
  },
  {
   "cell_type": "code",
   "execution_count": 24,
   "id": "e401e736",
   "metadata": {},
   "outputs": [],
   "source": [
    "# set different metrics on model.\n",
    "metrics = [\n",
    "      tf.keras.metrics.TruePositives(name='tp'),\n",
    "      tf.keras.metrics.FalsePositives(name='fp'),\n",
    "      tf.keras.metrics.TrueNegatives(name='tn'),\n",
    "      tf.keras.metrics.FalseNegatives(name='fn'), \n",
    "      tf.keras.metrics.BinaryAccuracy(name='accuracy'),\n",
    "      tf.keras.metrics.Precision(name='precision'),\n",
    "      tf.keras.metrics.Recall(name='recall'),\n",
    "      tf.keras.metrics.AUC(name='auc'),\n",
    "      tf.keras.metrics.AUC(name='prc', curve='PR'), # precision-recall curve\n",
    "]"
   ]
  },
  {
   "cell_type": "code",
   "execution_count": 25,
   "id": "b3e23903",
   "metadata": {},
   "outputs": [],
   "source": [
    "input_shape=(len(vocab),)"
   ]
  },
  {
   "cell_type": "code",
   "execution_count": 33,
   "id": "5498c7e9",
   "metadata": {},
   "outputs": [
    {
     "ename": "NotImplementedError",
     "evalue": "Cannot convert a symbolic Tensor (lstm_5/strided_slice:0) to a numpy array. This error may indicate that you're trying to pass a Tensor to a NumPy call, which is not supported",
     "output_type": "error",
     "traceback": [
      "\u001b[0;31m---------------------------------------------------------------------------\u001b[0m",
      "\u001b[0;31mNotImplementedError\u001b[0m                       Traceback (most recent call last)",
      "\u001b[0;32m<ipython-input-33-26cc2c270381>\u001b[0m in \u001b[0;36m<module>\u001b[0;34m\u001b[0m\n\u001b[1;32m      1\u001b[0m \u001b[0mmain_input\u001b[0m \u001b[0;34m=\u001b[0m \u001b[0mInput\u001b[0m\u001b[0;34m(\u001b[0m\u001b[0mshape\u001b[0m\u001b[0;34m=\u001b[0m\u001b[0;34m(\u001b[0m\u001b[0;36m1\u001b[0m\u001b[0;34m,\u001b[0m\u001b[0;34m)\u001b[0m\u001b[0;34m,\u001b[0m \u001b[0mdtype\u001b[0m\u001b[0;34m=\u001b[0m\u001b[0;34m'string'\u001b[0m\u001b[0;34m,\u001b[0m \u001b[0mname\u001b[0m\u001b[0;34m=\u001b[0m\u001b[0;34m'main_input'\u001b[0m\u001b[0;34m)\u001b[0m\u001b[0;34m\u001b[0m\u001b[0;34m\u001b[0m\u001b[0m\n\u001b[0;32m----> 2\u001b[0;31m lstm = Sequential([\n\u001b[0m\u001b[1;32m      3\u001b[0m     \u001b[0mInput\u001b[0m\u001b[0;34m(\u001b[0m\u001b[0mshape\u001b[0m\u001b[0;34m=\u001b[0m\u001b[0;34m(\u001b[0m\u001b[0;36m1\u001b[0m\u001b[0;34m,\u001b[0m\u001b[0;34m)\u001b[0m\u001b[0;34m,\u001b[0m \u001b[0mdtype\u001b[0m\u001b[0;34m=\u001b[0m\u001b[0;34m'string'\u001b[0m\u001b[0;34m,\u001b[0m \u001b[0mname\u001b[0m\u001b[0;34m=\u001b[0m\u001b[0;34m'main_input'\u001b[0m\u001b[0;34m)\u001b[0m\u001b[0;34m,\u001b[0m\u001b[0;34m\u001b[0m\u001b[0;34m\u001b[0m\u001b[0m\n\u001b[1;32m      4\u001b[0m     \u001b[0mencoder\u001b[0m\u001b[0;34m,\u001b[0m\u001b[0;34m\u001b[0m\u001b[0;34m\u001b[0m\u001b[0m\n\u001b[1;32m      5\u001b[0m     tf.keras.layers.Embedding(\n",
      "\u001b[0;32m/mnt/disks/user/anaconda3/envs/cuda101/lib/python3.8/site-packages/tensorflow/python/training/tracking/base.py\u001b[0m in \u001b[0;36m_method_wrapper\u001b[0;34m(self, *args, **kwargs)\u001b[0m\n\u001b[1;32m    515\u001b[0m     \u001b[0mself\u001b[0m\u001b[0;34m.\u001b[0m\u001b[0m_self_setattr_tracking\u001b[0m \u001b[0;34m=\u001b[0m \u001b[0;32mFalse\u001b[0m  \u001b[0;31m# pylint: disable=protected-access\u001b[0m\u001b[0;34m\u001b[0m\u001b[0;34m\u001b[0m\u001b[0m\n\u001b[1;32m    516\u001b[0m     \u001b[0;32mtry\u001b[0m\u001b[0;34m:\u001b[0m\u001b[0;34m\u001b[0m\u001b[0;34m\u001b[0m\u001b[0m\n\u001b[0;32m--> 517\u001b[0;31m       \u001b[0mresult\u001b[0m \u001b[0;34m=\u001b[0m \u001b[0mmethod\u001b[0m\u001b[0;34m(\u001b[0m\u001b[0mself\u001b[0m\u001b[0;34m,\u001b[0m \u001b[0;34m*\u001b[0m\u001b[0margs\u001b[0m\u001b[0;34m,\u001b[0m \u001b[0;34m**\u001b[0m\u001b[0mkwargs\u001b[0m\u001b[0;34m)\u001b[0m\u001b[0;34m\u001b[0m\u001b[0;34m\u001b[0m\u001b[0m\n\u001b[0m\u001b[1;32m    518\u001b[0m     \u001b[0;32mfinally\u001b[0m\u001b[0;34m:\u001b[0m\u001b[0;34m\u001b[0m\u001b[0;34m\u001b[0m\u001b[0m\n\u001b[1;32m    519\u001b[0m       \u001b[0mself\u001b[0m\u001b[0;34m.\u001b[0m\u001b[0m_self_setattr_tracking\u001b[0m \u001b[0;34m=\u001b[0m \u001b[0mprevious_value\u001b[0m  \u001b[0;31m# pylint: disable=protected-access\u001b[0m\u001b[0;34m\u001b[0m\u001b[0;34m\u001b[0m\u001b[0m\n",
      "\u001b[0;32m/mnt/disks/user/anaconda3/envs/cuda101/lib/python3.8/site-packages/tensorflow/python/keras/engine/sequential.py\u001b[0m in \u001b[0;36m__init__\u001b[0;34m(self, layers, name)\u001b[0m\n\u001b[1;32m    142\u001b[0m         \u001b[0mlayers\u001b[0m \u001b[0;34m=\u001b[0m \u001b[0;34m[\u001b[0m\u001b[0mlayers\u001b[0m\u001b[0;34m]\u001b[0m\u001b[0;34m\u001b[0m\u001b[0;34m\u001b[0m\u001b[0m\n\u001b[1;32m    143\u001b[0m       \u001b[0;32mfor\u001b[0m \u001b[0mlayer\u001b[0m \u001b[0;32min\u001b[0m \u001b[0mlayers\u001b[0m\u001b[0;34m:\u001b[0m\u001b[0;34m\u001b[0m\u001b[0;34m\u001b[0m\u001b[0m\n\u001b[0;32m--> 144\u001b[0;31m         \u001b[0mself\u001b[0m\u001b[0;34m.\u001b[0m\u001b[0madd\u001b[0m\u001b[0;34m(\u001b[0m\u001b[0mlayer\u001b[0m\u001b[0;34m)\u001b[0m\u001b[0;34m\u001b[0m\u001b[0;34m\u001b[0m\u001b[0m\n\u001b[0m\u001b[1;32m    145\u001b[0m \u001b[0;34m\u001b[0m\u001b[0m\n\u001b[1;32m    146\u001b[0m   \u001b[0;34m@\u001b[0m\u001b[0mproperty\u001b[0m\u001b[0;34m\u001b[0m\u001b[0;34m\u001b[0m\u001b[0m\n",
      "\u001b[0;32m/mnt/disks/user/anaconda3/envs/cuda101/lib/python3.8/site-packages/tensorflow/python/training/tracking/base.py\u001b[0m in \u001b[0;36m_method_wrapper\u001b[0;34m(self, *args, **kwargs)\u001b[0m\n\u001b[1;32m    515\u001b[0m     \u001b[0mself\u001b[0m\u001b[0;34m.\u001b[0m\u001b[0m_self_setattr_tracking\u001b[0m \u001b[0;34m=\u001b[0m \u001b[0;32mFalse\u001b[0m  \u001b[0;31m# pylint: disable=protected-access\u001b[0m\u001b[0;34m\u001b[0m\u001b[0;34m\u001b[0m\u001b[0m\n\u001b[1;32m    516\u001b[0m     \u001b[0;32mtry\u001b[0m\u001b[0;34m:\u001b[0m\u001b[0;34m\u001b[0m\u001b[0;34m\u001b[0m\u001b[0m\n\u001b[0;32m--> 517\u001b[0;31m       \u001b[0mresult\u001b[0m \u001b[0;34m=\u001b[0m \u001b[0mmethod\u001b[0m\u001b[0;34m(\u001b[0m\u001b[0mself\u001b[0m\u001b[0;34m,\u001b[0m \u001b[0;34m*\u001b[0m\u001b[0margs\u001b[0m\u001b[0;34m,\u001b[0m \u001b[0;34m**\u001b[0m\u001b[0mkwargs\u001b[0m\u001b[0;34m)\u001b[0m\u001b[0;34m\u001b[0m\u001b[0;34m\u001b[0m\u001b[0m\n\u001b[0m\u001b[1;32m    518\u001b[0m     \u001b[0;32mfinally\u001b[0m\u001b[0;34m:\u001b[0m\u001b[0;34m\u001b[0m\u001b[0;34m\u001b[0m\u001b[0m\n\u001b[1;32m    519\u001b[0m       \u001b[0mself\u001b[0m\u001b[0;34m.\u001b[0m\u001b[0m_self_setattr_tracking\u001b[0m \u001b[0;34m=\u001b[0m \u001b[0mprevious_value\u001b[0m  \u001b[0;31m# pylint: disable=protected-access\u001b[0m\u001b[0;34m\u001b[0m\u001b[0;34m\u001b[0m\u001b[0m\n",
      "\u001b[0;32m/mnt/disks/user/anaconda3/envs/cuda101/lib/python3.8/site-packages/tensorflow/python/keras/engine/sequential.py\u001b[0m in \u001b[0;36madd\u001b[0;34m(self, layer)\u001b[0m\n\u001b[1;32m    221\u001b[0m       \u001b[0;31m# If the model is being built continuously on top of an input layer:\u001b[0m\u001b[0;34m\u001b[0m\u001b[0;34m\u001b[0m\u001b[0;34m\u001b[0m\u001b[0m\n\u001b[1;32m    222\u001b[0m       \u001b[0;31m# refresh its output.\u001b[0m\u001b[0;34m\u001b[0m\u001b[0;34m\u001b[0m\u001b[0;34m\u001b[0m\u001b[0m\n\u001b[0;32m--> 223\u001b[0;31m       \u001b[0moutput_tensor\u001b[0m \u001b[0;34m=\u001b[0m \u001b[0mlayer\u001b[0m\u001b[0;34m(\u001b[0m\u001b[0mself\u001b[0m\u001b[0;34m.\u001b[0m\u001b[0moutputs\u001b[0m\u001b[0;34m[\u001b[0m\u001b[0;36m0\u001b[0m\u001b[0;34m]\u001b[0m\u001b[0;34m)\u001b[0m\u001b[0;34m\u001b[0m\u001b[0;34m\u001b[0m\u001b[0m\n\u001b[0m\u001b[1;32m    224\u001b[0m       \u001b[0;32mif\u001b[0m \u001b[0mlen\u001b[0m\u001b[0;34m(\u001b[0m\u001b[0mnest\u001b[0m\u001b[0;34m.\u001b[0m\u001b[0mflatten\u001b[0m\u001b[0;34m(\u001b[0m\u001b[0moutput_tensor\u001b[0m\u001b[0;34m)\u001b[0m\u001b[0;34m)\u001b[0m \u001b[0;34m!=\u001b[0m \u001b[0;36m1\u001b[0m\u001b[0;34m:\u001b[0m\u001b[0;34m\u001b[0m\u001b[0;34m\u001b[0m\u001b[0m\n\u001b[1;32m    225\u001b[0m         \u001b[0;32mraise\u001b[0m \u001b[0mValueError\u001b[0m\u001b[0;34m(\u001b[0m\u001b[0mSINGLE_LAYER_OUTPUT_ERROR_MSG\u001b[0m\u001b[0;34m)\u001b[0m\u001b[0;34m\u001b[0m\u001b[0;34m\u001b[0m\u001b[0m\n",
      "\u001b[0;32m/mnt/disks/user/anaconda3/envs/cuda101/lib/python3.8/site-packages/tensorflow/python/keras/layers/recurrent.py\u001b[0m in \u001b[0;36m__call__\u001b[0;34m(self, inputs, initial_state, constants, **kwargs)\u001b[0m\n\u001b[1;32m    658\u001b[0m \u001b[0;34m\u001b[0m\u001b[0m\n\u001b[1;32m    659\u001b[0m     \u001b[0;32mif\u001b[0m \u001b[0minitial_state\u001b[0m \u001b[0;32mis\u001b[0m \u001b[0;32mNone\u001b[0m \u001b[0;32mand\u001b[0m \u001b[0mconstants\u001b[0m \u001b[0;32mis\u001b[0m \u001b[0;32mNone\u001b[0m\u001b[0;34m:\u001b[0m\u001b[0;34m\u001b[0m\u001b[0;34m\u001b[0m\u001b[0m\n\u001b[0;32m--> 660\u001b[0;31m       \u001b[0;32mreturn\u001b[0m \u001b[0msuper\u001b[0m\u001b[0;34m(\u001b[0m\u001b[0mRNN\u001b[0m\u001b[0;34m,\u001b[0m \u001b[0mself\u001b[0m\u001b[0;34m)\u001b[0m\u001b[0;34m.\u001b[0m\u001b[0m__call__\u001b[0m\u001b[0;34m(\u001b[0m\u001b[0minputs\u001b[0m\u001b[0;34m,\u001b[0m \u001b[0;34m**\u001b[0m\u001b[0mkwargs\u001b[0m\u001b[0;34m)\u001b[0m\u001b[0;34m\u001b[0m\u001b[0;34m\u001b[0m\u001b[0m\n\u001b[0m\u001b[1;32m    661\u001b[0m \u001b[0;34m\u001b[0m\u001b[0m\n\u001b[1;32m    662\u001b[0m     \u001b[0;31m# If any of `initial_state` or `constants` are specified and are Keras\u001b[0m\u001b[0;34m\u001b[0m\u001b[0;34m\u001b[0m\u001b[0;34m\u001b[0m\u001b[0m\n",
      "\u001b[0;32m/mnt/disks/user/anaconda3/envs/cuda101/lib/python3.8/site-packages/tensorflow/python/keras/engine/base_layer.py\u001b[0m in \u001b[0;36m__call__\u001b[0;34m(self, *args, **kwargs)\u001b[0m\n\u001b[1;32m    949\u001b[0m     \u001b[0;31m# >> model = tf.keras.Model(inputs, outputs)\u001b[0m\u001b[0;34m\u001b[0m\u001b[0;34m\u001b[0m\u001b[0;34m\u001b[0m\u001b[0m\n\u001b[1;32m    950\u001b[0m     \u001b[0;32mif\u001b[0m \u001b[0m_in_functional_construction_mode\u001b[0m\u001b[0;34m(\u001b[0m\u001b[0mself\u001b[0m\u001b[0;34m,\u001b[0m \u001b[0minputs\u001b[0m\u001b[0;34m,\u001b[0m \u001b[0margs\u001b[0m\u001b[0;34m,\u001b[0m \u001b[0mkwargs\u001b[0m\u001b[0;34m,\u001b[0m \u001b[0minput_list\u001b[0m\u001b[0;34m)\u001b[0m\u001b[0;34m:\u001b[0m\u001b[0;34m\u001b[0m\u001b[0;34m\u001b[0m\u001b[0m\n\u001b[0;32m--> 951\u001b[0;31m       return self._functional_construction_call(inputs, args, kwargs,\n\u001b[0m\u001b[1;32m    952\u001b[0m                                                 input_list)\n\u001b[1;32m    953\u001b[0m \u001b[0;34m\u001b[0m\u001b[0m\n",
      "\u001b[0;32m/mnt/disks/user/anaconda3/envs/cuda101/lib/python3.8/site-packages/tensorflow/python/keras/engine/base_layer.py\u001b[0m in \u001b[0;36m_functional_construction_call\u001b[0;34m(self, inputs, args, kwargs, input_list)\u001b[0m\n\u001b[1;32m   1088\u001b[0m           layer=self, inputs=inputs, build_graph=True, training=training_value):\n\u001b[1;32m   1089\u001b[0m         \u001b[0;31m# Check input assumptions set after layer building, e.g. input shape.\u001b[0m\u001b[0;34m\u001b[0m\u001b[0;34m\u001b[0m\u001b[0;34m\u001b[0m\u001b[0m\n\u001b[0;32m-> 1090\u001b[0;31m         outputs = self._keras_tensor_symbolic_call(\n\u001b[0m\u001b[1;32m   1091\u001b[0m             inputs, input_masks, args, kwargs)\n\u001b[1;32m   1092\u001b[0m \u001b[0;34m\u001b[0m\u001b[0m\n",
      "\u001b[0;32m/mnt/disks/user/anaconda3/envs/cuda101/lib/python3.8/site-packages/tensorflow/python/keras/engine/base_layer.py\u001b[0m in \u001b[0;36m_keras_tensor_symbolic_call\u001b[0;34m(self, inputs, input_masks, args, kwargs)\u001b[0m\n\u001b[1;32m    820\u001b[0m       \u001b[0;32mreturn\u001b[0m \u001b[0mnest\u001b[0m\u001b[0;34m.\u001b[0m\u001b[0mmap_structure\u001b[0m\u001b[0;34m(\u001b[0m\u001b[0mkeras_tensor\u001b[0m\u001b[0;34m.\u001b[0m\u001b[0mKerasTensor\u001b[0m\u001b[0;34m,\u001b[0m \u001b[0moutput_signature\u001b[0m\u001b[0;34m)\u001b[0m\u001b[0;34m\u001b[0m\u001b[0;34m\u001b[0m\u001b[0m\n\u001b[1;32m    821\u001b[0m     \u001b[0;32melse\u001b[0m\u001b[0;34m:\u001b[0m\u001b[0;34m\u001b[0m\u001b[0;34m\u001b[0m\u001b[0m\n\u001b[0;32m--> 822\u001b[0;31m       \u001b[0;32mreturn\u001b[0m \u001b[0mself\u001b[0m\u001b[0;34m.\u001b[0m\u001b[0m_infer_output_signature\u001b[0m\u001b[0;34m(\u001b[0m\u001b[0minputs\u001b[0m\u001b[0;34m,\u001b[0m \u001b[0margs\u001b[0m\u001b[0;34m,\u001b[0m \u001b[0mkwargs\u001b[0m\u001b[0;34m,\u001b[0m \u001b[0minput_masks\u001b[0m\u001b[0;34m)\u001b[0m\u001b[0;34m\u001b[0m\u001b[0;34m\u001b[0m\u001b[0m\n\u001b[0m\u001b[1;32m    823\u001b[0m \u001b[0;34m\u001b[0m\u001b[0m\n\u001b[1;32m    824\u001b[0m   \u001b[0;32mdef\u001b[0m \u001b[0m_infer_output_signature\u001b[0m\u001b[0;34m(\u001b[0m\u001b[0mself\u001b[0m\u001b[0;34m,\u001b[0m \u001b[0minputs\u001b[0m\u001b[0;34m,\u001b[0m \u001b[0margs\u001b[0m\u001b[0;34m,\u001b[0m \u001b[0mkwargs\u001b[0m\u001b[0;34m,\u001b[0m \u001b[0minput_masks\u001b[0m\u001b[0;34m)\u001b[0m\u001b[0;34m:\u001b[0m\u001b[0;34m\u001b[0m\u001b[0;34m\u001b[0m\u001b[0m\n",
      "\u001b[0;32m/mnt/disks/user/anaconda3/envs/cuda101/lib/python3.8/site-packages/tensorflow/python/keras/engine/base_layer.py\u001b[0m in \u001b[0;36m_infer_output_signature\u001b[0;34m(self, inputs, args, kwargs, input_masks)\u001b[0m\n\u001b[1;32m    861\u001b[0m           \u001b[0;31m# TODO(kaftan): do we maybe_build here, or have we already done it?\u001b[0m\u001b[0;34m\u001b[0m\u001b[0;34m\u001b[0m\u001b[0;34m\u001b[0m\u001b[0m\n\u001b[1;32m    862\u001b[0m           \u001b[0mself\u001b[0m\u001b[0;34m.\u001b[0m\u001b[0m_maybe_build\u001b[0m\u001b[0;34m(\u001b[0m\u001b[0minputs\u001b[0m\u001b[0;34m)\u001b[0m\u001b[0;34m\u001b[0m\u001b[0;34m\u001b[0m\u001b[0m\n\u001b[0;32m--> 863\u001b[0;31m           \u001b[0moutputs\u001b[0m \u001b[0;34m=\u001b[0m \u001b[0mcall_fn\u001b[0m\u001b[0;34m(\u001b[0m\u001b[0minputs\u001b[0m\u001b[0;34m,\u001b[0m \u001b[0;34m*\u001b[0m\u001b[0margs\u001b[0m\u001b[0;34m,\u001b[0m \u001b[0;34m**\u001b[0m\u001b[0mkwargs\u001b[0m\u001b[0;34m)\u001b[0m\u001b[0;34m\u001b[0m\u001b[0;34m\u001b[0m\u001b[0m\n\u001b[0m\u001b[1;32m    864\u001b[0m \u001b[0;34m\u001b[0m\u001b[0m\n\u001b[1;32m    865\u001b[0m         \u001b[0mself\u001b[0m\u001b[0;34m.\u001b[0m\u001b[0m_handle_activity_regularization\u001b[0m\u001b[0;34m(\u001b[0m\u001b[0minputs\u001b[0m\u001b[0;34m,\u001b[0m \u001b[0moutputs\u001b[0m\u001b[0;34m)\u001b[0m\u001b[0;34m\u001b[0m\u001b[0;34m\u001b[0m\u001b[0m\n",
      "\u001b[0;32m/mnt/disks/user/anaconda3/envs/cuda101/lib/python3.8/site-packages/tensorflow/python/keras/layers/recurrent_v2.py\u001b[0m in \u001b[0;36mcall\u001b[0;34m(self, inputs, mask, training, initial_state)\u001b[0m\n\u001b[1;32m   1155\u001b[0m \u001b[0;34m\u001b[0m\u001b[0m\n\u001b[1;32m   1156\u001b[0m     \u001b[0;31m# LSTM does not support constants. Ignore it during process.\u001b[0m\u001b[0;34m\u001b[0m\u001b[0;34m\u001b[0m\u001b[0;34m\u001b[0m\u001b[0m\n\u001b[0;32m-> 1157\u001b[0;31m     \u001b[0minputs\u001b[0m\u001b[0;34m,\u001b[0m \u001b[0minitial_state\u001b[0m\u001b[0;34m,\u001b[0m \u001b[0m_\u001b[0m \u001b[0;34m=\u001b[0m \u001b[0mself\u001b[0m\u001b[0;34m.\u001b[0m\u001b[0m_process_inputs\u001b[0m\u001b[0;34m(\u001b[0m\u001b[0minputs\u001b[0m\u001b[0;34m,\u001b[0m \u001b[0minitial_state\u001b[0m\u001b[0;34m,\u001b[0m \u001b[0;32mNone\u001b[0m\u001b[0;34m)\u001b[0m\u001b[0;34m\u001b[0m\u001b[0;34m\u001b[0m\u001b[0m\n\u001b[0m\u001b[1;32m   1158\u001b[0m \u001b[0;34m\u001b[0m\u001b[0m\n\u001b[1;32m   1159\u001b[0m     \u001b[0;32mif\u001b[0m \u001b[0misinstance\u001b[0m\u001b[0;34m(\u001b[0m\u001b[0mmask\u001b[0m\u001b[0;34m,\u001b[0m \u001b[0mlist\u001b[0m\u001b[0;34m)\u001b[0m\u001b[0;34m:\u001b[0m\u001b[0;34m\u001b[0m\u001b[0;34m\u001b[0m\u001b[0m\n",
      "\u001b[0;32m/mnt/disks/user/anaconda3/envs/cuda101/lib/python3.8/site-packages/tensorflow/python/keras/layers/recurrent.py\u001b[0m in \u001b[0;36m_process_inputs\u001b[0;34m(self, inputs, initial_state, constants)\u001b[0m\n\u001b[1;32m    857\u001b[0m         \u001b[0minitial_state\u001b[0m \u001b[0;34m=\u001b[0m \u001b[0mself\u001b[0m\u001b[0;34m.\u001b[0m\u001b[0mstates\u001b[0m\u001b[0;34m\u001b[0m\u001b[0;34m\u001b[0m\u001b[0m\n\u001b[1;32m    858\u001b[0m     \u001b[0;32melif\u001b[0m \u001b[0minitial_state\u001b[0m \u001b[0;32mis\u001b[0m \u001b[0;32mNone\u001b[0m\u001b[0;34m:\u001b[0m\u001b[0;34m\u001b[0m\u001b[0;34m\u001b[0m\u001b[0m\n\u001b[0;32m--> 859\u001b[0;31m       \u001b[0minitial_state\u001b[0m \u001b[0;34m=\u001b[0m \u001b[0mself\u001b[0m\u001b[0;34m.\u001b[0m\u001b[0mget_initial_state\u001b[0m\u001b[0;34m(\u001b[0m\u001b[0minputs\u001b[0m\u001b[0;34m)\u001b[0m\u001b[0;34m\u001b[0m\u001b[0;34m\u001b[0m\u001b[0m\n\u001b[0m\u001b[1;32m    860\u001b[0m \u001b[0;34m\u001b[0m\u001b[0m\n\u001b[1;32m    861\u001b[0m     \u001b[0;32mif\u001b[0m \u001b[0mlen\u001b[0m\u001b[0;34m(\u001b[0m\u001b[0minitial_state\u001b[0m\u001b[0;34m)\u001b[0m \u001b[0;34m!=\u001b[0m \u001b[0mlen\u001b[0m\u001b[0;34m(\u001b[0m\u001b[0mself\u001b[0m\u001b[0;34m.\u001b[0m\u001b[0mstates\u001b[0m\u001b[0;34m)\u001b[0m\u001b[0;34m:\u001b[0m\u001b[0;34m\u001b[0m\u001b[0;34m\u001b[0m\u001b[0m\n",
      "\u001b[0;32m/mnt/disks/user/anaconda3/envs/cuda101/lib/python3.8/site-packages/tensorflow/python/keras/layers/recurrent.py\u001b[0m in \u001b[0;36mget_initial_state\u001b[0;34m(self, inputs)\u001b[0m\n\u001b[1;32m    640\u001b[0m     \u001b[0mdtype\u001b[0m \u001b[0;34m=\u001b[0m \u001b[0minputs\u001b[0m\u001b[0;34m.\u001b[0m\u001b[0mdtype\u001b[0m\u001b[0;34m\u001b[0m\u001b[0;34m\u001b[0m\u001b[0m\n\u001b[1;32m    641\u001b[0m     \u001b[0;32mif\u001b[0m \u001b[0mget_initial_state_fn\u001b[0m\u001b[0;34m:\u001b[0m\u001b[0;34m\u001b[0m\u001b[0;34m\u001b[0m\u001b[0m\n\u001b[0;32m--> 642\u001b[0;31m       init_state = get_initial_state_fn(\n\u001b[0m\u001b[1;32m    643\u001b[0m           inputs=None, batch_size=batch_size, dtype=dtype)\n\u001b[1;32m    644\u001b[0m     \u001b[0;32melse\u001b[0m\u001b[0;34m:\u001b[0m\u001b[0;34m\u001b[0m\u001b[0;34m\u001b[0m\u001b[0m\n",
      "\u001b[0;32m/mnt/disks/user/anaconda3/envs/cuda101/lib/python3.8/site-packages/tensorflow/python/keras/layers/recurrent.py\u001b[0m in \u001b[0;36mget_initial_state\u001b[0;34m(self, inputs, batch_size, dtype)\u001b[0m\n\u001b[1;32m   2504\u001b[0m \u001b[0;34m\u001b[0m\u001b[0m\n\u001b[1;32m   2505\u001b[0m   \u001b[0;32mdef\u001b[0m \u001b[0mget_initial_state\u001b[0m\u001b[0;34m(\u001b[0m\u001b[0mself\u001b[0m\u001b[0;34m,\u001b[0m \u001b[0minputs\u001b[0m\u001b[0;34m=\u001b[0m\u001b[0;32mNone\u001b[0m\u001b[0;34m,\u001b[0m \u001b[0mbatch_size\u001b[0m\u001b[0;34m=\u001b[0m\u001b[0;32mNone\u001b[0m\u001b[0;34m,\u001b[0m \u001b[0mdtype\u001b[0m\u001b[0;34m=\u001b[0m\u001b[0;32mNone\u001b[0m\u001b[0;34m)\u001b[0m\u001b[0;34m:\u001b[0m\u001b[0;34m\u001b[0m\u001b[0;34m\u001b[0m\u001b[0m\n\u001b[0;32m-> 2506\u001b[0;31m     return list(_generate_zero_filled_state_for_cell(\n\u001b[0m\u001b[1;32m   2507\u001b[0m         self, inputs, batch_size, dtype))\n\u001b[1;32m   2508\u001b[0m \u001b[0;34m\u001b[0m\u001b[0m\n",
      "\u001b[0;32m/mnt/disks/user/anaconda3/envs/cuda101/lib/python3.8/site-packages/tensorflow/python/keras/layers/recurrent.py\u001b[0m in \u001b[0;36m_generate_zero_filled_state_for_cell\u001b[0;34m(cell, inputs, batch_size, dtype)\u001b[0m\n\u001b[1;32m   2985\u001b[0m     \u001b[0mbatch_size\u001b[0m \u001b[0;34m=\u001b[0m \u001b[0marray_ops\u001b[0m\u001b[0;34m.\u001b[0m\u001b[0mshape\u001b[0m\u001b[0;34m(\u001b[0m\u001b[0minputs\u001b[0m\u001b[0;34m)\u001b[0m\u001b[0;34m[\u001b[0m\u001b[0;36m0\u001b[0m\u001b[0;34m]\u001b[0m\u001b[0;34m\u001b[0m\u001b[0;34m\u001b[0m\u001b[0m\n\u001b[1;32m   2986\u001b[0m     \u001b[0mdtype\u001b[0m \u001b[0;34m=\u001b[0m \u001b[0minputs\u001b[0m\u001b[0;34m.\u001b[0m\u001b[0mdtype\u001b[0m\u001b[0;34m\u001b[0m\u001b[0;34m\u001b[0m\u001b[0m\n\u001b[0;32m-> 2987\u001b[0;31m   \u001b[0;32mreturn\u001b[0m \u001b[0m_generate_zero_filled_state\u001b[0m\u001b[0;34m(\u001b[0m\u001b[0mbatch_size\u001b[0m\u001b[0;34m,\u001b[0m \u001b[0mcell\u001b[0m\u001b[0;34m.\u001b[0m\u001b[0mstate_size\u001b[0m\u001b[0;34m,\u001b[0m \u001b[0mdtype\u001b[0m\u001b[0;34m)\u001b[0m\u001b[0;34m\u001b[0m\u001b[0;34m\u001b[0m\u001b[0m\n\u001b[0m\u001b[1;32m   2988\u001b[0m \u001b[0;34m\u001b[0m\u001b[0m\n\u001b[1;32m   2989\u001b[0m \u001b[0;34m\u001b[0m\u001b[0m\n",
      "\u001b[0;32m/mnt/disks/user/anaconda3/envs/cuda101/lib/python3.8/site-packages/tensorflow/python/keras/layers/recurrent.py\u001b[0m in \u001b[0;36m_generate_zero_filled_state\u001b[0;34m(batch_size_tensor, state_size, dtype)\u001b[0m\n\u001b[1;32m   3001\u001b[0m \u001b[0;34m\u001b[0m\u001b[0m\n\u001b[1;32m   3002\u001b[0m   \u001b[0;32mif\u001b[0m \u001b[0mnest\u001b[0m\u001b[0;34m.\u001b[0m\u001b[0mis_nested\u001b[0m\u001b[0;34m(\u001b[0m\u001b[0mstate_size\u001b[0m\u001b[0;34m)\u001b[0m\u001b[0;34m:\u001b[0m\u001b[0;34m\u001b[0m\u001b[0;34m\u001b[0m\u001b[0m\n\u001b[0;32m-> 3003\u001b[0;31m     \u001b[0;32mreturn\u001b[0m \u001b[0mnest\u001b[0m\u001b[0;34m.\u001b[0m\u001b[0mmap_structure\u001b[0m\u001b[0;34m(\u001b[0m\u001b[0mcreate_zeros\u001b[0m\u001b[0;34m,\u001b[0m \u001b[0mstate_size\u001b[0m\u001b[0;34m)\u001b[0m\u001b[0;34m\u001b[0m\u001b[0;34m\u001b[0m\u001b[0m\n\u001b[0m\u001b[1;32m   3004\u001b[0m   \u001b[0;32melse\u001b[0m\u001b[0;34m:\u001b[0m\u001b[0;34m\u001b[0m\u001b[0;34m\u001b[0m\u001b[0m\n\u001b[1;32m   3005\u001b[0m     \u001b[0;32mreturn\u001b[0m \u001b[0mcreate_zeros\u001b[0m\u001b[0;34m(\u001b[0m\u001b[0mstate_size\u001b[0m\u001b[0;34m)\u001b[0m\u001b[0;34m\u001b[0m\u001b[0;34m\u001b[0m\u001b[0m\n",
      "\u001b[0;32m/mnt/disks/user/anaconda3/envs/cuda101/lib/python3.8/site-packages/tensorflow/python/util/nest.py\u001b[0m in \u001b[0;36mmap_structure\u001b[0;34m(func, *structure, **kwargs)\u001b[0m\n\u001b[1;32m    657\u001b[0m \u001b[0;34m\u001b[0m\u001b[0m\n\u001b[1;32m    658\u001b[0m   return pack_sequence_as(\n\u001b[0;32m--> 659\u001b[0;31m       \u001b[0mstructure\u001b[0m\u001b[0;34m[\u001b[0m\u001b[0;36m0\u001b[0m\u001b[0;34m]\u001b[0m\u001b[0;34m,\u001b[0m \u001b[0;34m[\u001b[0m\u001b[0mfunc\u001b[0m\u001b[0;34m(\u001b[0m\u001b[0;34m*\u001b[0m\u001b[0mx\u001b[0m\u001b[0;34m)\u001b[0m \u001b[0;32mfor\u001b[0m \u001b[0mx\u001b[0m \u001b[0;32min\u001b[0m \u001b[0mentries\u001b[0m\u001b[0;34m]\u001b[0m\u001b[0;34m,\u001b[0m\u001b[0;34m\u001b[0m\u001b[0;34m\u001b[0m\u001b[0m\n\u001b[0m\u001b[1;32m    660\u001b[0m       expand_composites=expand_composites)\n\u001b[1;32m    661\u001b[0m \u001b[0;34m\u001b[0m\u001b[0m\n",
      "\u001b[0;32m/mnt/disks/user/anaconda3/envs/cuda101/lib/python3.8/site-packages/tensorflow/python/util/nest.py\u001b[0m in \u001b[0;36m<listcomp>\u001b[0;34m(.0)\u001b[0m\n\u001b[1;32m    657\u001b[0m \u001b[0;34m\u001b[0m\u001b[0m\n\u001b[1;32m    658\u001b[0m   return pack_sequence_as(\n\u001b[0;32m--> 659\u001b[0;31m       \u001b[0mstructure\u001b[0m\u001b[0;34m[\u001b[0m\u001b[0;36m0\u001b[0m\u001b[0;34m]\u001b[0m\u001b[0;34m,\u001b[0m \u001b[0;34m[\u001b[0m\u001b[0mfunc\u001b[0m\u001b[0;34m(\u001b[0m\u001b[0;34m*\u001b[0m\u001b[0mx\u001b[0m\u001b[0;34m)\u001b[0m \u001b[0;32mfor\u001b[0m \u001b[0mx\u001b[0m \u001b[0;32min\u001b[0m \u001b[0mentries\u001b[0m\u001b[0;34m]\u001b[0m\u001b[0;34m,\u001b[0m\u001b[0;34m\u001b[0m\u001b[0;34m\u001b[0m\u001b[0m\n\u001b[0m\u001b[1;32m    660\u001b[0m       expand_composites=expand_composites)\n\u001b[1;32m    661\u001b[0m \u001b[0;34m\u001b[0m\u001b[0m\n",
      "\u001b[0;32m/mnt/disks/user/anaconda3/envs/cuda101/lib/python3.8/site-packages/tensorflow/python/keras/layers/recurrent.py\u001b[0m in \u001b[0;36mcreate_zeros\u001b[0;34m(unnested_state_size)\u001b[0m\n\u001b[1;32m   2998\u001b[0m     \u001b[0mflat_dims\u001b[0m \u001b[0;34m=\u001b[0m \u001b[0mtensor_shape\u001b[0m\u001b[0;34m.\u001b[0m\u001b[0mTensorShape\u001b[0m\u001b[0;34m(\u001b[0m\u001b[0munnested_state_size\u001b[0m\u001b[0;34m)\u001b[0m\u001b[0;34m.\u001b[0m\u001b[0mas_list\u001b[0m\u001b[0;34m(\u001b[0m\u001b[0;34m)\u001b[0m\u001b[0;34m\u001b[0m\u001b[0;34m\u001b[0m\u001b[0m\n\u001b[1;32m   2999\u001b[0m     \u001b[0minit_state_size\u001b[0m \u001b[0;34m=\u001b[0m \u001b[0;34m[\u001b[0m\u001b[0mbatch_size_tensor\u001b[0m\u001b[0;34m]\u001b[0m \u001b[0;34m+\u001b[0m \u001b[0mflat_dims\u001b[0m\u001b[0;34m\u001b[0m\u001b[0;34m\u001b[0m\u001b[0m\n\u001b[0;32m-> 3000\u001b[0;31m     \u001b[0;32mreturn\u001b[0m \u001b[0marray_ops\u001b[0m\u001b[0;34m.\u001b[0m\u001b[0mzeros\u001b[0m\u001b[0;34m(\u001b[0m\u001b[0minit_state_size\u001b[0m\u001b[0;34m,\u001b[0m \u001b[0mdtype\u001b[0m\u001b[0;34m=\u001b[0m\u001b[0mdtype\u001b[0m\u001b[0;34m)\u001b[0m\u001b[0;34m\u001b[0m\u001b[0;34m\u001b[0m\u001b[0m\n\u001b[0m\u001b[1;32m   3001\u001b[0m \u001b[0;34m\u001b[0m\u001b[0m\n\u001b[1;32m   3002\u001b[0m   \u001b[0;32mif\u001b[0m \u001b[0mnest\u001b[0m\u001b[0;34m.\u001b[0m\u001b[0mis_nested\u001b[0m\u001b[0;34m(\u001b[0m\u001b[0mstate_size\u001b[0m\u001b[0;34m)\u001b[0m\u001b[0;34m:\u001b[0m\u001b[0;34m\u001b[0m\u001b[0;34m\u001b[0m\u001b[0m\n",
      "\u001b[0;32m/mnt/disks/user/anaconda3/envs/cuda101/lib/python3.8/site-packages/tensorflow/python/util/dispatch.py\u001b[0m in \u001b[0;36mwrapper\u001b[0;34m(*args, **kwargs)\u001b[0m\n\u001b[1;32m    199\u001b[0m     \u001b[0;34m\"\"\"Call target, and fall back on dispatchers if there is a TypeError.\"\"\"\u001b[0m\u001b[0;34m\u001b[0m\u001b[0;34m\u001b[0m\u001b[0m\n\u001b[1;32m    200\u001b[0m     \u001b[0;32mtry\u001b[0m\u001b[0;34m:\u001b[0m\u001b[0;34m\u001b[0m\u001b[0;34m\u001b[0m\u001b[0m\n\u001b[0;32m--> 201\u001b[0;31m       \u001b[0;32mreturn\u001b[0m \u001b[0mtarget\u001b[0m\u001b[0;34m(\u001b[0m\u001b[0;34m*\u001b[0m\u001b[0margs\u001b[0m\u001b[0;34m,\u001b[0m \u001b[0;34m**\u001b[0m\u001b[0mkwargs\u001b[0m\u001b[0;34m)\u001b[0m\u001b[0;34m\u001b[0m\u001b[0;34m\u001b[0m\u001b[0m\n\u001b[0m\u001b[1;32m    202\u001b[0m     \u001b[0;32mexcept\u001b[0m \u001b[0;34m(\u001b[0m\u001b[0mTypeError\u001b[0m\u001b[0;34m,\u001b[0m \u001b[0mValueError\u001b[0m\u001b[0;34m)\u001b[0m\u001b[0;34m:\u001b[0m\u001b[0;34m\u001b[0m\u001b[0;34m\u001b[0m\u001b[0m\n\u001b[1;32m    203\u001b[0m       \u001b[0;31m# Note: convert_to_eager_tensor currently raises a ValueError, not a\u001b[0m\u001b[0;34m\u001b[0m\u001b[0;34m\u001b[0m\u001b[0;34m\u001b[0m\u001b[0m\n",
      "\u001b[0;32m/mnt/disks/user/anaconda3/envs/cuda101/lib/python3.8/site-packages/tensorflow/python/ops/array_ops.py\u001b[0m in \u001b[0;36mwrapped\u001b[0;34m(*args, **kwargs)\u001b[0m\n\u001b[1;32m   2817\u001b[0m \u001b[0;34m\u001b[0m\u001b[0m\n\u001b[1;32m   2818\u001b[0m   \u001b[0;32mdef\u001b[0m \u001b[0mwrapped\u001b[0m\u001b[0;34m(\u001b[0m\u001b[0;34m*\u001b[0m\u001b[0margs\u001b[0m\u001b[0;34m,\u001b[0m \u001b[0;34m**\u001b[0m\u001b[0mkwargs\u001b[0m\u001b[0;34m)\u001b[0m\u001b[0;34m:\u001b[0m\u001b[0;34m\u001b[0m\u001b[0;34m\u001b[0m\u001b[0m\n\u001b[0;32m-> 2819\u001b[0;31m     \u001b[0mtensor\u001b[0m \u001b[0;34m=\u001b[0m \u001b[0mfun\u001b[0m\u001b[0;34m(\u001b[0m\u001b[0;34m*\u001b[0m\u001b[0margs\u001b[0m\u001b[0;34m,\u001b[0m \u001b[0;34m**\u001b[0m\u001b[0mkwargs\u001b[0m\u001b[0;34m)\u001b[0m\u001b[0;34m\u001b[0m\u001b[0;34m\u001b[0m\u001b[0m\n\u001b[0m\u001b[1;32m   2820\u001b[0m     \u001b[0mtensor\u001b[0m\u001b[0;34m.\u001b[0m\u001b[0m_is_zeros_tensor\u001b[0m \u001b[0;34m=\u001b[0m \u001b[0;32mTrue\u001b[0m\u001b[0;34m\u001b[0m\u001b[0;34m\u001b[0m\u001b[0m\n\u001b[1;32m   2821\u001b[0m     \u001b[0;32mreturn\u001b[0m \u001b[0mtensor\u001b[0m\u001b[0;34m\u001b[0m\u001b[0;34m\u001b[0m\u001b[0m\n",
      "\u001b[0;32m/mnt/disks/user/anaconda3/envs/cuda101/lib/python3.8/site-packages/tensorflow/python/ops/array_ops.py\u001b[0m in \u001b[0;36mzeros\u001b[0;34m(shape, dtype, name)\u001b[0m\n\u001b[1;32m   2866\u001b[0m           \u001b[0;31m# Create a constant if it won't be very big. Otherwise create a fill\u001b[0m\u001b[0;34m\u001b[0m\u001b[0;34m\u001b[0m\u001b[0;34m\u001b[0m\u001b[0m\n\u001b[1;32m   2867\u001b[0m           \u001b[0;31m# op to prevent serialized GraphDefs from becoming too large.\u001b[0m\u001b[0;34m\u001b[0m\u001b[0;34m\u001b[0m\u001b[0;34m\u001b[0m\u001b[0m\n\u001b[0;32m-> 2868\u001b[0;31m           \u001b[0moutput\u001b[0m \u001b[0;34m=\u001b[0m \u001b[0m_constant_if_small\u001b[0m\u001b[0;34m(\u001b[0m\u001b[0mzero\u001b[0m\u001b[0;34m,\u001b[0m \u001b[0mshape\u001b[0m\u001b[0;34m,\u001b[0m \u001b[0mdtype\u001b[0m\u001b[0;34m,\u001b[0m \u001b[0mname\u001b[0m\u001b[0;34m)\u001b[0m\u001b[0;34m\u001b[0m\u001b[0;34m\u001b[0m\u001b[0m\n\u001b[0m\u001b[1;32m   2869\u001b[0m           \u001b[0;32mif\u001b[0m \u001b[0moutput\u001b[0m \u001b[0;32mis\u001b[0m \u001b[0;32mnot\u001b[0m \u001b[0;32mNone\u001b[0m\u001b[0;34m:\u001b[0m\u001b[0;34m\u001b[0m\u001b[0;34m\u001b[0m\u001b[0m\n\u001b[1;32m   2870\u001b[0m             \u001b[0;32mreturn\u001b[0m \u001b[0moutput\u001b[0m\u001b[0;34m\u001b[0m\u001b[0;34m\u001b[0m\u001b[0m\n",
      "\u001b[0;32m/mnt/disks/user/anaconda3/envs/cuda101/lib/python3.8/site-packages/tensorflow/python/ops/array_ops.py\u001b[0m in \u001b[0;36m_constant_if_small\u001b[0;34m(value, shape, dtype, name)\u001b[0m\n\u001b[1;32m   2802\u001b[0m \u001b[0;32mdef\u001b[0m \u001b[0m_constant_if_small\u001b[0m\u001b[0;34m(\u001b[0m\u001b[0mvalue\u001b[0m\u001b[0;34m,\u001b[0m \u001b[0mshape\u001b[0m\u001b[0;34m,\u001b[0m \u001b[0mdtype\u001b[0m\u001b[0;34m,\u001b[0m \u001b[0mname\u001b[0m\u001b[0;34m)\u001b[0m\u001b[0;34m:\u001b[0m\u001b[0;34m\u001b[0m\u001b[0;34m\u001b[0m\u001b[0m\n\u001b[1;32m   2803\u001b[0m   \u001b[0;32mtry\u001b[0m\u001b[0;34m:\u001b[0m\u001b[0;34m\u001b[0m\u001b[0;34m\u001b[0m\u001b[0m\n\u001b[0;32m-> 2804\u001b[0;31m     \u001b[0;32mif\u001b[0m \u001b[0mnp\u001b[0m\u001b[0;34m.\u001b[0m\u001b[0mprod\u001b[0m\u001b[0;34m(\u001b[0m\u001b[0mshape\u001b[0m\u001b[0;34m)\u001b[0m \u001b[0;34m<\u001b[0m \u001b[0;36m1000\u001b[0m\u001b[0;34m:\u001b[0m\u001b[0;34m\u001b[0m\u001b[0;34m\u001b[0m\u001b[0m\n\u001b[0m\u001b[1;32m   2805\u001b[0m       \u001b[0;32mreturn\u001b[0m \u001b[0mconstant\u001b[0m\u001b[0;34m(\u001b[0m\u001b[0mvalue\u001b[0m\u001b[0;34m,\u001b[0m \u001b[0mshape\u001b[0m\u001b[0;34m=\u001b[0m\u001b[0mshape\u001b[0m\u001b[0;34m,\u001b[0m \u001b[0mdtype\u001b[0m\u001b[0;34m=\u001b[0m\u001b[0mdtype\u001b[0m\u001b[0;34m,\u001b[0m \u001b[0mname\u001b[0m\u001b[0;34m=\u001b[0m\u001b[0mname\u001b[0m\u001b[0;34m)\u001b[0m\u001b[0;34m\u001b[0m\u001b[0;34m\u001b[0m\u001b[0m\n\u001b[1;32m   2806\u001b[0m   \u001b[0;32mexcept\u001b[0m \u001b[0mTypeError\u001b[0m\u001b[0;34m:\u001b[0m\u001b[0;34m\u001b[0m\u001b[0;34m\u001b[0m\u001b[0m\n",
      "\u001b[0;32m<__array_function__ internals>\u001b[0m in \u001b[0;36mprod\u001b[0;34m(*args, **kwargs)\u001b[0m\n",
      "\u001b[0;32m/mnt/disks/user/anaconda3/envs/cuda101/lib/python3.8/site-packages/numpy/core/fromnumeric.py\u001b[0m in \u001b[0;36mprod\u001b[0;34m(a, axis, dtype, out, keepdims, initial, where)\u001b[0m\n\u001b[1;32m   3028\u001b[0m     \u001b[0;36m10\u001b[0m\u001b[0;34m\u001b[0m\u001b[0;34m\u001b[0m\u001b[0m\n\u001b[1;32m   3029\u001b[0m     \"\"\"\n\u001b[0;32m-> 3030\u001b[0;31m     return _wrapreduction(a, np.multiply, 'prod', axis, dtype, out,\n\u001b[0m\u001b[1;32m   3031\u001b[0m                           keepdims=keepdims, initial=initial, where=where)\n\u001b[1;32m   3032\u001b[0m \u001b[0;34m\u001b[0m\u001b[0m\n",
      "\u001b[0;32m/mnt/disks/user/anaconda3/envs/cuda101/lib/python3.8/site-packages/numpy/core/fromnumeric.py\u001b[0m in \u001b[0;36m_wrapreduction\u001b[0;34m(obj, ufunc, method, axis, dtype, out, **kwargs)\u001b[0m\n\u001b[1;32m     85\u001b[0m                 \u001b[0;32mreturn\u001b[0m \u001b[0mreduction\u001b[0m\u001b[0;34m(\u001b[0m\u001b[0maxis\u001b[0m\u001b[0;34m=\u001b[0m\u001b[0maxis\u001b[0m\u001b[0;34m,\u001b[0m \u001b[0mout\u001b[0m\u001b[0;34m=\u001b[0m\u001b[0mout\u001b[0m\u001b[0;34m,\u001b[0m \u001b[0;34m**\u001b[0m\u001b[0mpasskwargs\u001b[0m\u001b[0;34m)\u001b[0m\u001b[0;34m\u001b[0m\u001b[0;34m\u001b[0m\u001b[0m\n\u001b[1;32m     86\u001b[0m \u001b[0;34m\u001b[0m\u001b[0m\n\u001b[0;32m---> 87\u001b[0;31m     \u001b[0;32mreturn\u001b[0m \u001b[0mufunc\u001b[0m\u001b[0;34m.\u001b[0m\u001b[0mreduce\u001b[0m\u001b[0;34m(\u001b[0m\u001b[0mobj\u001b[0m\u001b[0;34m,\u001b[0m \u001b[0maxis\u001b[0m\u001b[0;34m,\u001b[0m \u001b[0mdtype\u001b[0m\u001b[0;34m,\u001b[0m \u001b[0mout\u001b[0m\u001b[0;34m,\u001b[0m \u001b[0;34m**\u001b[0m\u001b[0mpasskwargs\u001b[0m\u001b[0;34m)\u001b[0m\u001b[0;34m\u001b[0m\u001b[0;34m\u001b[0m\u001b[0m\n\u001b[0m\u001b[1;32m     88\u001b[0m \u001b[0;34m\u001b[0m\u001b[0m\n\u001b[1;32m     89\u001b[0m \u001b[0;34m\u001b[0m\u001b[0m\n",
      "\u001b[0;32m/mnt/disks/user/anaconda3/envs/cuda101/lib/python3.8/site-packages/tensorflow/python/framework/ops.py\u001b[0m in \u001b[0;36m__array__\u001b[0;34m(self)\u001b[0m\n\u001b[1;32m    850\u001b[0m \u001b[0;34m\u001b[0m\u001b[0m\n\u001b[1;32m    851\u001b[0m   \u001b[0;32mdef\u001b[0m \u001b[0m__array__\u001b[0m\u001b[0;34m(\u001b[0m\u001b[0mself\u001b[0m\u001b[0;34m)\u001b[0m\u001b[0;34m:\u001b[0m\u001b[0;34m\u001b[0m\u001b[0;34m\u001b[0m\u001b[0m\n\u001b[0;32m--> 852\u001b[0;31m     raise NotImplementedError(\n\u001b[0m\u001b[1;32m    853\u001b[0m         \u001b[0;34m\"Cannot convert a symbolic Tensor ({}) to a numpy array.\"\u001b[0m\u001b[0;34m\u001b[0m\u001b[0;34m\u001b[0m\u001b[0m\n\u001b[1;32m    854\u001b[0m         \u001b[0;34m\" This error may indicate that you're trying to pass a Tensor to\"\u001b[0m\u001b[0;34m\u001b[0m\u001b[0;34m\u001b[0m\u001b[0m\n",
      "\u001b[0;31mNotImplementedError\u001b[0m: Cannot convert a symbolic Tensor (lstm_5/strided_slice:0) to a numpy array. This error may indicate that you're trying to pass a Tensor to a NumPy call, which is not supported"
     ]
    }
   ],
   "source": [
    "main_input = Input(shape=(1,), dtype='string', name='main_input')\n",
    "lstm = Sequential([\n",
    "    Input(shape=(1,), dtype='string', name='main_input'),\n",
    "    encoder,\n",
    "    tf.keras.layers.Embedding(\n",
    "        input_dim=len(vocab),\n",
    "        output_dim=64,\n",
    "        # Use masking to handle the variable sequence lengths\n",
    "        mask_zero=True),\n",
    "    LSTM(64),\n",
    "    Dense(64, activation='relu'),\n",
    "    Dense(1)\n",
    "])\n",
    "\n",
    "rnn_model = Model(inputs=main_input,outputs=output)\n"
   ]
  },
  {
   "cell_type": "code",
   "execution_count": 34,
   "id": "2f48617b",
   "metadata": {},
   "outputs": [],
   "source": [
    "# CNN Model.\n",
    "main_input = Input(shape=(1,), dtype='string', name='main_input')\n",
    "x = encoder(main_input)\n",
    "embedding_layer =  tf.keras.layers.Embedding(\n",
    "                    output_dim=64,\n",
    "                    input_dim=len(vocab),\n",
    "                    mask_zero=True);\n",
    "embedded = embedding_layer(x)\n",
    "conv1 = getconvmodel(2,128) (embedded)\n",
    "conv2 = getconvmodel(3,128) (embedded)\n",
    "conv3 = getconvmodel(4,128) (embedded)\n",
    "conv4 = getconvmodel(5,128) (embedded)\n",
    "\n",
    "concatted = tf.keras.layers.Concatenate()([conv1, conv2, conv3, conv4])\n",
    "\n",
    "middle = Dense(512,activation='relu')(concatted)\n",
    "middle = Dropout(0.5)(middle)\n",
    "\n",
    "middle = Dense(512,activation='relu')(middle)\n",
    "middle = Dropout(0.5)(middle)\n",
    "\n",
    "normalize = tf.keras.layers.BatchNormalization()(middle)\n",
    "\n",
    "output = Dense(1,activation='sigmoid')(normalize)\n",
    "\n",
    "cnn_model = Model(inputs=main_input,outputs=output)"
   ]
  },
  {
   "cell_type": "code",
   "execution_count": 35,
   "id": "e62ea6fe",
   "metadata": {},
   "outputs": [
    {
     "name": "stdout",
     "output_type": "stream",
     "text": [
      "Model: \"model_2\"\n",
      "__________________________________________________________________________________________________\n",
      "Layer (type)                    Output Shape         Param #     Connected to                     \n",
      "==================================================================================================\n",
      "main_input (InputLayer)         [(None, 1)]          0                                            \n",
      "__________________________________________________________________________________________________\n",
      "text_vectorization (TextVectori (None, 200)          0           main_input[0][0]                 \n",
      "__________________________________________________________________________________________________\n",
      "embedding_7 (Embedding)         (None, 200, 64)      14848       text_vectorization[5][0]         \n",
      "__________________________________________________________________________________________________\n",
      "sequential_10 (Sequential)      (None, 128)          17024       embedding_7[0][0]                \n",
      "__________________________________________________________________________________________________\n",
      "sequential_11 (Sequential)      (None, 128)          25216       embedding_7[0][0]                \n",
      "__________________________________________________________________________________________________\n",
      "sequential_12 (Sequential)      (None, 128)          33408       embedding_7[0][0]                \n",
      "__________________________________________________________________________________________________\n",
      "sequential_13 (Sequential)      (None, 128)          41600       embedding_7[0][0]                \n",
      "__________________________________________________________________________________________________\n",
      "concatenate_1 (Concatenate)     (None, 512)          0           sequential_10[0][0]              \n",
      "                                                                 sequential_11[0][0]              \n",
      "                                                                 sequential_12[0][0]              \n",
      "                                                                 sequential_13[0][0]              \n",
      "__________________________________________________________________________________________________\n",
      "dense_15 (Dense)                (None, 512)          262656      concatenate_1[0][0]              \n",
      "__________________________________________________________________________________________________\n",
      "dropout_10 (Dropout)            (None, 512)          0           dense_15[0][0]                   \n",
      "__________________________________________________________________________________________________\n",
      "dense_16 (Dense)                (None, 512)          262656      dropout_10[0][0]                 \n",
      "__________________________________________________________________________________________________\n",
      "dropout_11 (Dropout)            (None, 512)          0           dense_16[0][0]                   \n",
      "__________________________________________________________________________________________________\n",
      "batch_normalization_9 (BatchNor (None, 512)          2048        dropout_11[0][0]                 \n",
      "__________________________________________________________________________________________________\n",
      "dense_17 (Dense)                (None, 1)            513         batch_normalization_9[0][0]      \n",
      "==================================================================================================\n",
      "Total params: 659,969\n",
      "Trainable params: 657,921\n",
      "Non-trainable params: 2,048\n",
      "__________________________________________________________________________________________________\n"
     ]
    }
   ],
   "source": [
    "model = cnn_model\n",
    "\n",
    "model.compile(loss=tf.keras.losses.BinaryCrossentropy(from_logits=True),\n",
    "              optimizer=tf.keras.optimizers.Adam(learning_rate=0.001),\n",
    "              metrics=metrics)\n",
    "model.summary()"
   ]
  },
  {
   "cell_type": "code",
   "execution_count": null,
   "id": "f54d3924",
   "metadata": {},
   "outputs": [],
   "source": []
  },
  {
   "cell_type": "code",
   "execution_count": 36,
   "id": "00f9f9b3",
   "metadata": {},
   "outputs": [
    {
     "name": "stdout",
     "output_type": "stream",
     "text": [
      "('Failed to import pydot. You must `pip install pydot` and install graphviz (https://graphviz.gitlab.io/download/), ', 'for `pydotprint` to work.')\n"
     ]
    }
   ],
   "source": [
    "keras.utils.plot_model(model, \"my_first_model.png\")"
   ]
  },
  {
   "cell_type": "code",
   "execution_count": 37,
   "id": "e75253e5",
   "metadata": {
    "scrolled": true
   },
   "outputs": [
    {
     "name": "stdout",
     "output_type": "stream",
     "text": [
      "('Failed to import pydot. You must `pip install pydot` and install graphviz (https://graphviz.gitlab.io/download/), ', 'for `pydotprint` to work.')\n"
     ]
    }
   ],
   "source": [
    "tf.keras.utils.plot_model(model, rankdir=\"LR\", show_shapes=True)"
   ]
  },
  {
   "cell_type": "code",
   "execution_count": 38,
   "id": "460a7273",
   "metadata": {},
   "outputs": [
    {
     "name": "stdout",
     "output_type": "stream",
     "text": [
      "['main_input', 'text_vectorization', 'embedding_7', 'sequential_10', 'sequential_11', 'sequential_12', 'sequential_13', 'concatenate_1', 'dense_15', 'dropout_10', 'dense_16', 'dropout_11', 'batch_normalization_9', 'dense_17']\n"
     ]
    }
   ],
   "source": [
    "print([layer.name for layer in model.layers])"
   ]
  },
  {
   "cell_type": "code",
   "execution_count": 39,
   "id": "1b750929",
   "metadata": {},
   "outputs": [
    {
     "name": "stdout",
     "output_type": "stream",
     "text": [
      "[0.36121595]\n"
     ]
    }
   ],
   "source": [
    "sample_url = ('app.cfe.gob.mx.aplicaciones.pagos.findhere.org/app/miperfil.html?_default.asp?id=nuevo_usuario&amp;prod=2012_pagoenlinea.aspx')\n",
    "predictions = model.predict(np.array([sample_url]))\n",
    "print(predictions[0])"
   ]
  },
  {
   "cell_type": "code",
   "execution_count": 40,
   "id": "f482805c",
   "metadata": {},
   "outputs": [],
   "source": [
    "# model.compile(loss=tf.keras.losses.BinaryCrossentropy(from_logits=True),\n",
    "#               optimizer=tf.keras.optimizers.Adam(1e-4),\n",
    "#               metrics=['accuracy'])"
   ]
  },
  {
   "cell_type": "code",
   "execution_count": 41,
   "id": "7a6f600d",
   "metadata": {},
   "outputs": [
    {
     "name": "stdout",
     "output_type": "stream",
     "text": [
      "Epoch 1/30\n",
      "11531/11531 [==============================] - 416s 36ms/step - loss: 0.1825 - tp: 59649.4736 - fp: 5671.3453 - tn: 289828.5018 - fn: 13906.6642 - accuracy: 0.9314 - precision: 0.8738 - recall: 0.7713 - auc: 0.9514 - prc: 0.8926 - val_loss: 0.0816 - val_tp: 33583.0000 - val_fp: 1865.0000 - val_tn: 145822.0000 - val_fn: 3213.0000 - val_accuracy: 0.9725 - val_precision: 0.9474 - val_recall: 0.9127 - val_auc: 0.9909 - val_prc: 0.9770\n",
      "Epoch 2/30\n",
      "11531/11531 [==============================] - 419s 36ms/step - loss: 0.0879 - tp: 65791.1603 - fp: 3134.5364 - tn: 292359.5867 - fn: 7770.7014 - accuracy: 0.9696 - precision: 0.9528 - recall: 0.8915 - auc: 0.9888 - prc: 0.9722 - val_loss: 0.0607 - val_tp: 33669.0000 - val_fp: 726.0000 - val_tn: 146961.0000 - val_fn: 3127.0000 - val_accuracy: 0.9791 - val_precision: 0.9789 - val_recall: 0.9150 - val_auc: 0.9947 - val_prc: 0.9864\n",
      "Epoch 3/30\n",
      "11531/11531 [==============================] - 409s 35ms/step - loss: 0.0748 - tp: 67151.0787 - fp: 2793.3117 - tn: 292699.4151 - fn: 6412.1794 - accuracy: 0.9747 - precision: 0.9594 - recall: 0.9113 - auc: 0.9914 - prc: 0.9792 - val_loss: 0.0620 - val_tp: 34506.0000 - val_fp: 1075.0000 - val_tn: 146612.0000 - val_fn: 2290.0000 - val_accuracy: 0.9818 - val_precision: 0.9698 - val_recall: 0.9378 - val_auc: 0.9954 - val_prc: 0.9880\n",
      "Epoch 4/30\n",
      "11531/11531 [==============================] - 408s 35ms/step - loss: 0.0685 - tp: 67697.0072 - fp: 2603.5710 - tn: 292891.9534 - fn: 5863.4533 - accuracy: 0.9767 - precision: 0.9623 - recall: 0.9192 - auc: 0.9926 - prc: 0.9821 - val_loss: 0.0507 - val_tp: 34361.0000 - val_fp: 712.0000 - val_tn: 146975.0000 - val_fn: 2435.0000 - val_accuracy: 0.9829 - val_precision: 0.9797 - val_recall: 0.9338 - val_auc: 0.9959 - val_prc: 0.9898\n",
      "Epoch 5/30\n",
      "11531/11531 [==============================] - 407s 35ms/step - loss: 0.0659 - tp: 67850.2041 - fp: 2585.5082 - tn: 292912.2266 - fn: 5708.0460 - accuracy: 0.9771 - precision: 0.9626 - recall: 0.9209 - auc: 0.9934 - prc: 0.9836 - val_loss: 0.0504 - val_tp: 34253.0000 - val_fp: 661.0000 - val_tn: 147026.0000 - val_fn: 2543.0000 - val_accuracy: 0.9826 - val_precision: 0.9811 - val_recall: 0.9309 - val_auc: 0.9959 - val_prc: 0.9901\n",
      "Epoch 6/30\n",
      "11531/11531 [==============================] - 407s 35ms/step - loss: 0.0619 - tp: 68171.9535 - fp: 2483.4234 - tn: 293000.8035 - fn: 5399.8045 - accuracy: 0.9785 - precision: 0.9643 - recall: 0.9263 - auc: 0.9939 - prc: 0.9851 - val_loss: 0.0543 - val_tp: 33551.0000 - val_fp: 348.0000 - val_tn: 147339.0000 - val_fn: 3245.0000 - val_accuracy: 0.9805 - val_precision: 0.9897 - val_recall: 0.9118 - val_auc: 0.9958 - val_prc: 0.9903\n",
      "Epoch 7/30\n",
      "11531/11531 [==============================] - 406s 35ms/step - loss: 0.0608 - tp: 68443.0512 - fp: 2433.7731 - tn: 293068.6977 - fn: 5110.4630 - accuracy: 0.9792 - precision: 0.9648 - recall: 0.9295 - auc: 0.9941 - prc: 0.9855 - val_loss: 0.0484 - val_tp: 34169.0000 - val_fp: 454.0000 - val_tn: 147233.0000 - val_fn: 2627.0000 - val_accuracy: 0.9833 - val_precision: 0.9869 - val_recall: 0.9286 - val_auc: 0.9955 - val_prc: 0.9907\n",
      "Epoch 8/30\n",
      "11531/11531 [==============================] - 407s 35ms/step - loss: 0.0576 - tp: 68651.4992 - fp: 2346.5791 - tn: 293155.8084 - fn: 4902.0982 - accuracy: 0.9802 - precision: 0.9667 - recall: 0.9327 - auc: 0.9947 - prc: 0.9868 - val_loss: 0.0454 - val_tp: 34586.0000 - val_fp: 609.0000 - val_tn: 147078.0000 - val_fn: 2210.0000 - val_accuracy: 0.9847 - val_precision: 0.9827 - val_recall: 0.9399 - val_auc: 0.9963 - val_prc: 0.9914\n",
      "Epoch 9/30\n",
      "11531/11531 [==============================] - 406s 35ms/step - loss: 0.0550 - tp: 68859.3058 - fp: 2249.8619 - tn: 293254.0297 - fn: 4692.7875 - accuracy: 0.9810 - precision: 0.9676 - recall: 0.9359 - auc: 0.9950 - prc: 0.9878 - val_loss: 0.0438 - val_tp: 34819.0000 - val_fp: 734.0000 - val_tn: 146953.0000 - val_fn: 1977.0000 - val_accuracy: 0.9853 - val_precision: 0.9794 - val_recall: 0.9463 - val_auc: 0.9962 - val_prc: 0.9916\n",
      "Epoch 10/30\n",
      "11531/11531 [==============================] - 406s 35ms/step - loss: 0.0542 - tp: 69013.9437 - fp: 2329.0772 - tn: 293171.9925 - fn: 4540.9715 - accuracy: 0.9812 - precision: 0.9666 - recall: 0.9380 - auc: 0.9950 - prc: 0.9880 - val_loss: 0.0416 - val_tp: 34835.0000 - val_fp: 667.0000 - val_tn: 147020.0000 - val_fn: 1961.0000 - val_accuracy: 0.9858 - val_precision: 0.9812 - val_recall: 0.9467 - val_auc: 0.9968 - val_prc: 0.9925\n",
      "Epoch 11/30\n",
      "11531/11531 [==============================] - 405s 35ms/step - loss: 0.0522 - tp: 69248.0667 - fp: 2160.5496 - tn: 293334.7484 - fn: 4312.6202 - accuracy: 0.9823 - precision: 0.9692 - recall: 0.9409 - auc: 0.9954 - prc: 0.9888 - val_loss: 0.0420 - val_tp: 34936.0000 - val_fp: 729.0000 - val_tn: 146958.0000 - val_fn: 1860.0000 - val_accuracy: 0.9860 - val_precision: 0.9796 - val_recall: 0.9495 - val_auc: 0.9966 - val_prc: 0.9921\n",
      "Epoch 12/30\n",
      "11531/11531 [==============================] - 404s 35ms/step - loss: 0.0521 - tp: 69198.0302 - fp: 2145.3899 - tn: 293359.0973 - fn: 4353.4676 - accuracy: 0.9822 - precision: 0.9692 - recall: 0.9402 - auc: 0.9955 - prc: 0.9889 - val_loss: 0.0410 - val_tp: 34889.0000 - val_fp: 609.0000 - val_tn: 147078.0000 - val_fn: 1907.0000 - val_accuracy: 0.9864 - val_precision: 0.9828 - val_recall: 0.9482 - val_auc: 0.9968 - val_prc: 0.9926\n",
      "Epoch 13/30\n",
      "11531/11531 [==============================] - 405s 35ms/step - loss: 0.0504 - tp: 69349.0444 - fp: 2131.8694 - tn: 293368.3046 - fn: 4206.7665 - accuracy: 0.9827 - precision: 0.9698 - recall: 0.9423 - auc: 0.9957 - prc: 0.9894 - val_loss: 0.0407 - val_tp: 35198.0000 - val_fp: 881.0000 - val_tn: 146806.0000 - val_fn: 1598.0000 - val_accuracy: 0.9866 - val_precision: 0.9756 - val_recall: 0.9566 - val_auc: 0.9969 - val_prc: 0.9928\n",
      "Epoch 14/30\n",
      "11531/11531 [==============================] - 407s 35ms/step - loss: 0.0494 - tp: 69411.7666 - fp: 2105.0891 - tn: 293391.3130 - fn: 4147.8163 - accuracy: 0.9829 - precision: 0.9701 - recall: 0.9432 - auc: 0.9960 - prc: 0.9900 - val_loss: 0.0400 - val_tp: 35011.0000 - val_fp: 667.0000 - val_tn: 147020.0000 - val_fn: 1785.0000 - val_accuracy: 0.9867 - val_precision: 0.9813 - val_recall: 0.9515 - val_auc: 0.9971 - val_prc: 0.9931\n",
      "Epoch 15/30\n",
      "11531/11531 [==============================] - 404s 35ms/step - loss: 0.0488 - tp: 69478.4955 - fp: 2090.4766 - tn: 293415.0853 - fn: 4071.9275 - accuracy: 0.9831 - precision: 0.9703 - recall: 0.9439 - auc: 0.9959 - prc: 0.9900 - val_loss: 0.0392 - val_tp: 34891.0000 - val_fp: 536.0000 - val_tn: 147151.0000 - val_fn: 1905.0000 - val_accuracy: 0.9868 - val_precision: 0.9849 - val_recall: 0.9482 - val_auc: 0.9970 - val_prc: 0.9933\n",
      "Epoch 16/30\n",
      "11531/11531 [==============================] - 404s 35ms/step - loss: 0.0477 - tp: 69555.1757 - fp: 2043.4281 - tn: 293459.5924 - fn: 3997.7888 - accuracy: 0.9835 - precision: 0.9711 - recall: 0.9454 - auc: 0.9961 - prc: 0.9905 - val_loss: 0.0383 - val_tp: 35035.0000 - val_fp: 622.0000 - val_tn: 147065.0000 - val_fn: 1761.0000 - val_accuracy: 0.9871 - val_precision: 0.9826 - val_recall: 0.9521 - val_auc: 0.9971 - val_prc: 0.9934\n",
      "Epoch 17/30\n",
      "11531/11531 [==============================] - 404s 35ms/step - loss: 0.0469 - tp: 69667.0924 - fp: 2010.0160 - tn: 293480.1496 - fn: 3898.7270 - accuracy: 0.9838 - precision: 0.9715 - recall: 0.9465 - auc: 0.9961 - prc: 0.9906 - val_loss: 0.0392 - val_tp: 35132.0000 - val_fp: 688.0000 - val_tn: 146999.0000 - val_fn: 1664.0000 - val_accuracy: 0.9873 - val_precision: 0.9808 - val_recall: 0.9548 - val_auc: 0.9969 - val_prc: 0.9931\n",
      "Epoch 18/30\n",
      "11531/11531 [==============================] - 406s 35ms/step - loss: 0.0467 - tp: 69694.7703 - fp: 1975.4206 - tn: 293521.1586 - fn: 3864.6354 - accuracy: 0.9839 - precision: 0.9719 - recall: 0.9468 - auc: 0.9962 - prc: 0.9908 - val_loss: 0.0380 - val_tp: 35106.0000 - val_fp: 615.0000 - val_tn: 147072.0000 - val_fn: 1690.0000 - val_accuracy: 0.9875 - val_precision: 0.9828 - val_recall: 0.9541 - val_auc: 0.9969 - val_prc: 0.9934\n",
      "Epoch 19/30\n"
     ]
    },
    {
     "name": "stdout",
     "output_type": "stream",
     "text": [
      "11531/11531 [==============================] - 402s 35ms/step - loss: 0.0462 - tp: 69689.5995 - fp: 1965.5322 - tn: 293532.7986 - fn: 3868.0546 - accuracy: 0.9841 - precision: 0.9724 - recall: 0.9471 - auc: 0.9962 - prc: 0.9909 - val_loss: 0.0385 - val_tp: 34982.0000 - val_fp: 531.0000 - val_tn: 147156.0000 - val_fn: 1814.0000 - val_accuracy: 0.9873 - val_precision: 0.9850 - val_recall: 0.9507 - val_auc: 0.9969 - val_prc: 0.9934\n",
      "Epoch 20/30\n",
      "11531/11531 [==============================] - 401s 35ms/step - loss: 0.0452 - tp: 69777.0351 - fp: 1910.0168 - tn: 293586.6656 - fn: 3782.2673 - accuracy: 0.9845 - precision: 0.9733 - recall: 0.9483 - auc: 0.9963 - prc: 0.9912 - val_loss: 0.0383 - val_tp: 34945.0000 - val_fp: 554.0000 - val_tn: 147133.0000 - val_fn: 1851.0000 - val_accuracy: 0.9870 - val_precision: 0.9844 - val_recall: 0.9497 - val_auc: 0.9972 - val_prc: 0.9935\n",
      "Epoch 21/30\n",
      "11531/11531 [==============================] - 401s 35ms/step - loss: 0.0461 - tp: 69731.3671 - fp: 1929.8822 - tn: 293577.3455 - fn: 3817.3902 - accuracy: 0.9841 - precision: 0.9727 - recall: 0.9468 - auc: 0.9962 - prc: 0.9909 - val_loss: 0.0374 - val_tp: 35314.0000 - val_fp: 754.0000 - val_tn: 146933.0000 - val_fn: 1482.0000 - val_accuracy: 0.9879 - val_precision: 0.9791 - val_recall: 0.9597 - val_auc: 0.9972 - val_prc: 0.9936\n",
      "Epoch 22/30\n",
      "11531/11531 [==============================] - 403s 35ms/step - loss: 0.0451 - tp: 69872.6309 - fp: 1980.6389 - tn: 293524.0557 - fn: 3678.6594 - accuracy: 0.9845 - precision: 0.9720 - recall: 0.9496 - auc: 0.9964 - prc: 0.9913 - val_loss: 0.0368 - val_tp: 35149.0000 - val_fp: 584.0000 - val_tn: 147103.0000 - val_fn: 1647.0000 - val_accuracy: 0.9879 - val_precision: 0.9837 - val_recall: 0.9552 - val_auc: 0.9970 - val_prc: 0.9937\n",
      "Epoch 23/30\n",
      "11531/11531 [==============================] - 402s 35ms/step - loss: 0.0446 - tp: 69864.4267 - fp: 1932.8828 - tn: 293570.3306 - fn: 3688.3448 - accuracy: 0.9846 - precision: 0.9724 - recall: 0.9496 - auc: 0.9964 - prc: 0.9915 - val_loss: 0.0368 - val_tp: 35152.0000 - val_fp: 591.0000 - val_tn: 147096.0000 - val_fn: 1644.0000 - val_accuracy: 0.9879 - val_precision: 0.9835 - val_recall: 0.9553 - val_auc: 0.9970 - val_prc: 0.9935\n",
      "Epoch 24/30\n",
      "11531/11531 [==============================] - 401s 35ms/step - loss: 0.0438 - tp: 69954.8058 - fp: 1899.1994 - tn: 293603.1342 - fn: 3598.8455 - accuracy: 0.9850 - precision: 0.9728 - recall: 0.9510 - auc: 0.9965 - prc: 0.9916 - val_loss: 0.0364 - val_tp: 35488.0000 - val_fp: 924.0000 - val_tn: 146763.0000 - val_fn: 1308.0000 - val_accuracy: 0.9879 - val_precision: 0.9746 - val_recall: 0.9645 - val_auc: 0.9973 - val_prc: 0.9939\n",
      "Epoch 25/30\n",
      "11531/11531 [==============================] - 401s 35ms/step - loss: 0.0438 - tp: 69908.5541 - fp: 1926.4729 - tn: 293573.2842 - fn: 3647.6737 - accuracy: 0.9848 - precision: 0.9728 - recall: 0.9504 - auc: 0.9965 - prc: 0.9916 - val_loss: 0.0388 - val_tp: 34787.0000 - val_fp: 410.0000 - val_tn: 147277.0000 - val_fn: 2009.0000 - val_accuracy: 0.9869 - val_precision: 0.9884 - val_recall: 0.9454 - val_auc: 0.9968 - val_prc: 0.9934\n",
      "Epoch 26/30\n",
      "11531/11531 [==============================] - 402s 35ms/step - loss: 0.0428 - tp: 69984.8691 - fp: 1825.8169 - tn: 293670.0565 - fn: 3575.2425 - accuracy: 0.9853 - precision: 0.9746 - recall: 0.9507 - auc: 0.9966 - prc: 0.9919 - val_loss: 0.0358 - val_tp: 35264.0000 - val_fp: 621.0000 - val_tn: 147066.0000 - val_fn: 1532.0000 - val_accuracy: 0.9883 - val_precision: 0.9827 - val_recall: 0.9584 - val_auc: 0.9970 - val_prc: 0.9938\n",
      "Epoch 27/30\n",
      "11531/11531 [==============================] - 400s 35ms/step - loss: 0.0429 - tp: 70053.0087 - fp: 1821.9223 - tn: 293670.9560 - fn: 3510.0979 - accuracy: 0.9855 - precision: 0.9743 - recall: 0.9523 - auc: 0.9966 - prc: 0.9917 - val_loss: 0.0377 - val_tp: 34902.0000 - val_fp: 389.0000 - val_tn: 147298.0000 - val_fn: 1894.0000 - val_accuracy: 0.9876 - val_precision: 0.9890 - val_recall: 0.9485 - val_auc: 0.9967 - val_prc: 0.9936\n",
      "Epoch 28/30\n",
      "11531/11531 [==============================] - 400s 35ms/step - loss: 0.0434 - tp: 70018.4664 - fp: 1855.9934 - tn: 293639.5160 - fn: 3542.0091 - accuracy: 0.9852 - precision: 0.9738 - recall: 0.9512 - auc: 0.9965 - prc: 0.9917 - val_loss: 0.0360 - val_tp: 35405.0000 - val_fp: 803.0000 - val_tn: 146884.0000 - val_fn: 1391.0000 - val_accuracy: 0.9881 - val_precision: 0.9778 - val_recall: 0.9622 - val_auc: 0.9971 - val_prc: 0.9938\n",
      "Epoch 29/30\n",
      "11531/11531 [==============================] - 426s 37ms/step - loss: 0.0420 - tp: 70111.3542 - fp: 1817.8331 - tn: 293683.4535 - fn: 3443.3536 - accuracy: 0.9857 - precision: 0.9747 - recall: 0.9531 - auc: 0.9967 - prc: 0.9921 - val_loss: 0.0292 - val_tp: 35437.0000 - val_fp: 318.0000 - val_tn: 147216.0000 - val_fn: 1512.0000 - val_accuracy: 0.9901 - val_precision: 0.9911 - val_recall: 0.9591 - val_auc: 0.9984 - val_prc: 0.9964\n",
      "Epoch 30/30\n",
      "11531/11531 [==============================] - 405s 35ms/step - loss: 0.0426 - tp: 69854.7757 - fp: 1854.4933 - tn: 293760.0370 - fn: 3586.6789 - accuracy: 0.9852 - precision: 0.9740 - recall: 0.9510 - auc: 0.9967 - prc: 0.9921 - val_loss: 0.0307 - val_tp: 35733.0000 - val_fp: 585.0000 - val_tn: 146949.0000 - val_fn: 1216.0000 - val_accuracy: 0.9902 - val_precision: 0.9839 - val_recall: 0.9671 - val_auc: 0.9985 - val_prc: 0.9963\n"
     ]
    }
   ],
   "source": [
    "history = model.fit(train_dataset, epochs=NO_EPOCHS, validation_data=test_dataset)"
   ]
  },
  {
   "cell_type": "code",
   "execution_count": 42,
   "id": "3158d2f4",
   "metadata": {},
   "outputs": [
    {
     "name": "stdout",
     "output_type": "stream",
     "text": [
      "Predicting probability\n"
     ]
    }
   ],
   "source": [
    "print (\"Predicting probability\")\n",
    "y_pred = model.predict(test['url'])\n"
   ]
  },
  {
   "cell_type": "code",
   "execution_count": 43,
   "id": "efe6f93b",
   "metadata": {},
   "outputs": [
    {
     "name": "stdout",
     "output_type": "stream",
     "text": [
      "Precision Avg 0.9687593460083008\n",
      "Recall Avg 0.9377105792363485\n",
      "Accuracy Avg 0.981592845916748\n",
      "Auc Avg 0.9948474109172821\n"
     ]
    }
   ],
   "source": [
    "metrics = ['precision', 'recall', 'accuracy', 'auc']\n",
    "for n, metric in enumerate(metrics):\n",
    "    name = metric.replace(\"_\",\" \").capitalize()\n",
    "    print(name + \" Avg \" + str(np.mean(history.history[metric])))\n",
    "\n",
    "# print(classification_report(test['label'], y_pred))\n"
   ]
  },
  {
   "cell_type": "code",
   "execution_count": 44,
   "id": "fec010ac",
   "metadata": {},
   "outputs": [],
   "source": [
    "mpl.rcParams['figure.figsize'] = (18, 12)\n",
    "colors = plt.rcParams['axes.prop_cycle'].by_key()['color']\n",
    "\n",
    "def plot_metrics(history):\n",
    "    metrics = ['loss', 'prc', 'precision', 'recall', 'accuracy', 'auc']\n",
    "    for n, metric in enumerate(metrics):\n",
    "        name = metric.replace(\"_\",\" \").capitalize()\n",
    "        plt.subplot(2,3,n+1)\n",
    "        plt.plot(history.epoch, history.history[metric], color=colors[0], label='Train')\n",
    "        plt.plot(history.epoch, history.history['val_'+metric],\n",
    "                 color=colors[1], linestyle=\"--\", label='Val')\n",
    "        plt.xlabel('Interation')\n",
    "        plt.ylabel(name)\n",
    "        if metric == 'loss':\n",
    "             plt.ylim([0, plt.ylim()[1]])\n",
    "        else:\n",
    "              plt.ylim([0.8,1])\n",
    "\n",
    "        plt.legend()"
   ]
  },
  {
   "cell_type": "code",
   "execution_count": 45,
   "id": "f5014ac1",
   "metadata": {},
   "outputs": [
    {
     "data": {
      "image/png": "[encoded data removed]",
      "text/plain": [
       "<Figure size 1296x864 with 6 Axes>"
      ]
     },
     "metadata": {
      "needs_background": "light"
     },
     "output_type": "display_data"
    }
   ],
   "source": [
    "plot_metrics(history)"
   ]
  },
  {
   "cell_type": "code",
   "execution_count": 46,
   "id": "d63e3191",
   "metadata": {},
   "outputs": [],
   "source": [
    "def plot_roc(name, labels, predictions, **kwargs):\n",
    "    fp, tp, _ = sklearn.metrics.roc_curve(labels, predictions)\n",
    "\n",
    "    plt.plot(100*fp, 100*tp, label=name, linewidth=2, **kwargs)\n",
    "    plt.xlabel('False positives [%]')\n",
    "    plt.ylabel('True positives [%]')\n",
    "    plt.xlim([-0.5,20])\n",
    "    plt.ylim([80,100.5])\n",
    "    plt.grid(True)\n",
    "    ax = plt.gca()\n",
    "    ax.set_aspect('equal')"
   ]
  },
  {
   "cell_type": "code",
   "execution_count": 47,
   "id": "aa02f166",
   "metadata": {},
   "outputs": [],
   "source": [
    "# plot_roc(\"Train Baseline\", y_train, train_predictions_baseline, color=colors[0])\n",
    "# plot_roc(\"Test Baseline\", y_test, test_predictions_baseline, color=colors[0], linestyle='--')\n",
    "# plt.legend(loc='lower right')"
   ]
  },
  {
   "cell_type": "code",
   "execution_count": 48,
   "id": "4304578f",
   "metadata": {},
   "outputs": [],
   "source": [
    "def convertPredToData(predictions, inputs):\n",
    "    predicted_rows = []\n",
    "    for idx, x in np.ndenumerate(inputs):\n",
    "        label = 0\n",
    "        if (predictions[idx] > 0.7):\n",
    "            label = 1\n",
    "        else:\n",
    "            label = 0\n",
    "        predicted_rows.append([x, label, predictions[idx] ])\n",
    "\n",
    "    data = pd.DataFrame(predicted_rows, columns=[\"url\", \"label\",\"confidence_score\"])\n",
    "    return data"
   ]
  },
  {
   "cell_type": "code",
   "execution_count": 49,
   "id": "039c7604",
   "metadata": {},
   "outputs": [
    {
     "name": "stdout",
     "output_type": "stream",
     "text": [
      "                                                   url  label confidence_score\n",
      "0                       transistics.com/transdc/Adobe/      0     [0.46533495]\n",
      "1                                           ico.co.za/      0     [0.13523218]\n",
      "2                                          clarke.com/      0    [0.020361466]\n",
      "3                     www.ddj.com/architect/184415176/      0    [0.012082268]\n",
      "4    https://www.montrealmosaic.com/article/montrea...      0  [1.0271403e-09]\n",
      "..                                                 ...    ...              ...\n",
      "253  https://www.tmz.com/2007/06/12/real-worlds-fra...      0   [3.658584e-06]\n",
      "254  https://www.lenox.com/kate_spade_new_york/_/N-...      0  [0.00033066934]\n",
      "255           http://spaziodecoraciones.cl/wells/Work/      1     [0.99764985]\n",
      "256  https://www.klosterkaelderen.com/katindex.asp?...      0    [0.000996744]\n",
      "257                      caryplayers.org/mattress.html      0   [0.0017881878]\n",
      "\n",
      "[258 rows x 3 columns]\n"
     ]
    }
   ],
   "source": [
    "# sample testing with 200 Random Records.\n",
    "# get 200 sample records from 1M records.\n",
    "x_test_sample = x_test.sample(frac=0.0014)\n",
    "\n",
    "predictions = model.predict(x_test_sample)\n",
    "df = convertPredToData(predictions, x_test_sample)\n",
    "\n",
    "print(df)"
   ]
  },
  {
   "cell_type": "code",
   "execution_count": 50,
   "id": "f46ca82d",
   "metadata": {},
   "outputs": [
    {
     "name": "stdout",
     "output_type": "stream",
     "text": [
      "WARNING:tensorflow:AutoGraph could not transform <function _trace_save_and_restore_function.<locals>.save_fn at 0x7f6ffc96ca60> and will run it as-is.\n",
      "Please report this to the TensorFlow team. When filing the bug, set the verbosity to 10 (on Linux, `export AUTOGRAPH_VERBOSITY=10`) and attach the full output.\n",
      "Cause: module 'gast' has no attribute 'Index'\n",
      "To silence this warning, decorate the function with @tf.autograph.experimental.do_not_convert\n",
      "WARNING: AutoGraph could not transform <function _trace_save_and_restore_function.<locals>.save_fn at 0x7f6ffc96ca60> and will run it as-is.\n",
      "Please report this to the TensorFlow team. When filing the bug, set the verbosity to 10 (on Linux, `export AUTOGRAPH_VERBOSITY=10`) and attach the full output.\n",
      "Cause: module 'gast' has no attribute 'Index'\n",
      "To silence this warning, decorate the function with @tf.autograph.experimental.do_not_convert\n",
      "WARNING:tensorflow:AutoGraph could not transform <function _trace_save_and_restore_function.<locals>.save_fn at 0x7f6ffc50cf70> and will run it as-is.\n",
      "Please report this to the TensorFlow team. When filing the bug, set the verbosity to 10 (on Linux, `export AUTOGRAPH_VERBOSITY=10`) and attach the full output.\n",
      "Cause: module 'gast' has no attribute 'Index'\n",
      "To silence this warning, decorate the function with @tf.autograph.experimental.do_not_convert\n",
      "WARNING: AutoGraph could not transform <function _trace_save_and_restore_function.<locals>.save_fn at 0x7f6ffc50cf70> and will run it as-is.\n",
      "Please report this to the TensorFlow team. When filing the bug, set the verbosity to 10 (on Linux, `export AUTOGRAPH_VERBOSITY=10`) and attach the full output.\n",
      "Cause: module 'gast' has no attribute 'Index'\n",
      "To silence this warning, decorate the function with @tf.autograph.experimental.do_not_convert\n",
      "INFO:tensorflow:Assets written to: model_output/assets\n",
      "INFO:tensorflow:Using default config.\n",
      "INFO:tensorflow:Using the Keras model provided.\n",
      "INFO:tensorflow:Using config: {'_model_dir': 'model_output', '_tf_random_seed': None, '_save_summary_steps': 100, '_save_checkpoints_steps': None, '_save_checkpoints_secs': 600, '_session_config': allow_soft_placement: true\n",
      "graph_options {\n",
      "  rewrite_options {\n",
      "    meta_optimizer_iterations: ONE\n",
      "  }\n",
      "}\n",
      ", '_keep_checkpoint_max': 5, '_keep_checkpoint_every_n_hours': 10000, '_log_step_count_steps': 100, '_train_distribute': None, '_device_fn': None, '_protocol': None, '_eval_distribute': None, '_experimental_distribute': None, '_experimental_max_worker_delay_secs': None, '_session_creation_timeout_secs': 7200, '_checkpoint_save_graph_def': True, '_service': None, '_cluster_spec': ClusterSpec({}), '_task_type': 'worker', '_task_id': 0, '_global_id_in_cluster': 0, '_master': '', '_evaluation_master': '', '_is_chief': True, '_num_ps_replicas': 0, '_num_worker_replicas': 1}\n"
     ]
    }
   ],
   "source": [
    "#model directory.\n",
    "MODEL_DIR = \"model_output\"\n",
    "model.save(MODEL_DIR)\n",
    "estimator = tf.keras.estimator.model_to_estimator(keras_model=model, model_dir=MODEL_DIR)"
   ]
  },
  {
   "cell_type": "code",
   "execution_count": 51,
   "id": "1b80dc33",
   "metadata": {},
   "outputs": [
    {
     "name": "stdout",
     "output_type": "stream",
     "text": [
      "Model: \"model_2\"\n",
      "__________________________________________________________________________________________________\n",
      "Layer (type)                    Output Shape         Param #     Connected to                     \n",
      "==================================================================================================\n",
      "main_input (InputLayer)         [(None, 1)]          0                                            \n",
      "__________________________________________________________________________________________________\n",
      "text_vectorization (TextVectori (None, 200)          0           main_input[0][0]                 \n",
      "__________________________________________________________________________________________________\n",
      "embedding_7 (Embedding)         (None, 200, 64)      14848       text_vectorization[0][0]         \n",
      "__________________________________________________________________________________________________\n",
      "sequential_10 (Sequential)      (None, 128)          17024       embedding_7[0][0]                \n",
      "__________________________________________________________________________________________________\n",
      "sequential_11 (Sequential)      (None, 128)          25216       embedding_7[0][0]                \n",
      "__________________________________________________________________________________________________\n",
      "sequential_12 (Sequential)      (None, 128)          33408       embedding_7[0][0]                \n",
      "__________________________________________________________________________________________________\n",
      "sequential_13 (Sequential)      (None, 128)          41600       embedding_7[0][0]                \n",
      "__________________________________________________________________________________________________\n",
      "concatenate_1 (Concatenate)     (None, 512)          0           sequential_10[0][0]              \n",
      "                                                                 sequential_11[0][0]              \n",
      "                                                                 sequential_12[0][0]              \n",
      "                                                                 sequential_13[0][0]              \n",
      "__________________________________________________________________________________________________\n",
      "dense_15 (Dense)                (None, 512)          262656      concatenate_1[0][0]              \n",
      "__________________________________________________________________________________________________\n",
      "dropout_10 (Dropout)            (None, 512)          0           dense_15[0][0]                   \n",
      "__________________________________________________________________________________________________\n",
      "dense_16 (Dense)                (None, 512)          262656      dropout_10[0][0]                 \n",
      "__________________________________________________________________________________________________\n",
      "dropout_11 (Dropout)            (None, 512)          0           dense_16[0][0]                   \n",
      "__________________________________________________________________________________________________\n",
      "batch_normalization_9 (BatchNor (None, 512)          2048        dropout_11[0][0]                 \n",
      "__________________________________________________________________________________________________\n",
      "dense_17 (Dense)                (None, 1)            513         batch_normalization_9[0][0]      \n",
      "==================================================================================================\n",
      "Total params: 659,969\n",
      "Trainable params: 657,921\n",
      "Non-trainable params: 2,048\n",
      "__________________________________________________________________________________________________\n"
     ]
    }
   ],
   "source": [
    "saved_model = tf.keras.models.load_model(MODEL_DIR)\n",
    "\n",
    "# Check its architecture\n",
    "saved_model.summary()\n",
    "\n",
    "# fit loaded model\n",
    "# history_loaded = saved_model.fit(train_dataset, epochs=NO_EPOCHS, validation_data=test_dataset)"
   ]
  },
  {
   "cell_type": "code",
   "execution_count": null,
   "id": "4584c69f",
   "metadata": {},
   "outputs": [],
   "source": [
    "import flask\n",
    "from flask import Flask\n",
    "from werkzeug.wrappers import Request, Response\n",
    "# initialize our Flask application and the Keras model\n",
    "app = flask.Flask(__name__)\n",
    "\n",
    "@app.route('/predict', methods=['POST'])\n",
    "def predict():\n",
    "    inputs = np.array(request.json)\n",
    "    prediction = saved_model.predict(inputs)\n",
    "    data_df = convertPredToData(predictions, inputs)\n",
    "    return Response(data_df.to_json(orient=\"records\"), mimetype='application/json')\n",
    "\n",
    "if __name__ == '__main__':\n",
    "    from werkzeug.serving import run_simple\n",
    "    run_simple('localhost', 9000, app)"
   ]
  },
  {
   "cell_type": "code",
   "execution_count": null,
   "id": "d24a1162",
   "metadata": {},
   "outputs": [],
   "source": []
  },
  {
   "cell_type": "code",
   "execution_count": null,
   "id": "b32fd72f",
   "metadata": {},
   "outputs": [],
   "source": [
    "import requests\n",
    "BASE_URL = \"http://127.0.0.1:9000\"\n",
    "payload = [ \"https://www.facebook.com\" , \"hottraveljobs.com/forum/docs/info.php\"]\n",
    "request = requests.post(\"{}/predict\".format(BASE_URL), json = payload)\n",
    "request.raise_for_status()\n",
    "response = request.json()\n",
    "response"
   ]
  },
  {
   "cell_type": "code",
   "execution_count": 58,
   "id": "57a52794",
   "metadata": {},
   "outputs": [
    {
     "name": "stdout",
     "output_type": "stream",
     "text": [
      "WARNING:tensorflow:AutoGraph could not transform <function _trace_save_and_restore_function.<locals>.save_fn at 0x7f6fedce1d30> and will run it as-is.\n",
      "Please report this to the TensorFlow team. When filing the bug, set the verbosity to 10 (on Linux, `export AUTOGRAPH_VERBOSITY=10`) and attach the full output.\n",
      "Cause: module 'gast' has no attribute 'Index'\n",
      "To silence this warning, decorate the function with @tf.autograph.experimental.do_not_convert\n",
      "WARNING: AutoGraph could not transform <function _trace_save_and_restore_function.<locals>.save_fn at 0x7f6fedce1d30> and will run it as-is.\n",
      "Please report this to the TensorFlow team. When filing the bug, set the verbosity to 10 (on Linux, `export AUTOGRAPH_VERBOSITY=10`) and attach the full output.\n",
      "Cause: module 'gast' has no attribute 'Index'\n",
      "To silence this warning, decorate the function with @tf.autograph.experimental.do_not_convert\n",
      "WARNING:tensorflow:AutoGraph could not transform <function _trace_save_and_restore_function.<locals>.save_fn at 0x7f6fecd9e160> and will run it as-is.\n",
      "Please report this to the TensorFlow team. When filing the bug, set the verbosity to 10 (on Linux, `export AUTOGRAPH_VERBOSITY=10`) and attach the full output.\n",
      "Cause: module 'gast' has no attribute 'Index'\n",
      "To silence this warning, decorate the function with @tf.autograph.experimental.do_not_convert\n",
      "WARNING: AutoGraph could not transform <function _trace_save_and_restore_function.<locals>.save_fn at 0x7f6fecd9e160> and will run it as-is.\n",
      "Please report this to the TensorFlow team. When filing the bug, set the verbosity to 10 (on Linux, `export AUTOGRAPH_VERBOSITY=10`) and attach the full output.\n",
      "Cause: module 'gast' has no attribute 'Index'\n",
      "To silence this warning, decorate the function with @tf.autograph.experimental.do_not_convert\n",
      "INFO:tensorflow:Assets written to: saved_model/assets\n",
      "WARNING:tensorflow:9 out of the last 9 calls to <function recreate_function.<locals>.restored_function_body at 0x7f6fedc91700> triggered tf.function retracing. Tracing is expensive and the excessive number of tracings could be due to (1) creating @tf.function repeatedly in a loop, (2) passing tensors with different shapes, (3) passing Python objects instead of tensors. For (1), please define your @tf.function outside of the loop. For (2), @tf.function has experimental_relax_shapes=True option that relaxes argument shapes that can avoid unnecessary retracing. For (3), please refer to https://www.tensorflow.org/guide/function#controlling_retracing and https://www.tensorflow.org/api_docs/python/tf/function for  more details.\n",
      "WARNING:tensorflow:10 out of the last 10 calls to <function recreate_function.<locals>.restored_function_body at 0x7f6feddd7430> triggered tf.function retracing. Tracing is expensive and the excessive number of tracings could be due to (1) creating @tf.function repeatedly in a loop, (2) passing tensors with different shapes, (3) passing Python objects instead of tensors. For (1), please define your @tf.function outside of the loop. For (2), @tf.function has experimental_relax_shapes=True option that relaxes argument shapes that can avoid unnecessary retracing. For (3), please refer to https://www.tensorflow.org/guide/function#controlling_retracing and https://www.tensorflow.org/api_docs/python/tf/function for  more details.\n",
      "WARNING:tensorflow:11 out of the last 11 calls to <function recreate_function.<locals>.restored_function_body at 0x7f6fedfb3700> triggered tf.function retracing. Tracing is expensive and the excessive number of tracings could be due to (1) creating @tf.function repeatedly in a loop, (2) passing tensors with different shapes, (3) passing Python objects instead of tensors. For (1), please define your @tf.function outside of the loop. For (2), @tf.function has experimental_relax_shapes=True option that relaxes argument shapes that can avoid unnecessary retracing. For (3), please refer to https://www.tensorflow.org/guide/function#controlling_retracing and https://www.tensorflow.org/api_docs/python/tf/function for  more details.\n"
     ]
    }
   ],
   "source": [
    "# Convert the model to TFLite format for mobile and other resource constrain devices.\n",
    "SAVED_MODEL_DIR = \"saved_model\"\n",
    "\n",
    "tf.saved_model.save(\n",
    "    model,\n",
    "    SAVED_MODEL_DIR)\n",
    "\n",
    "\n",
    "converter = tf.lite.TFLiteConverter.from_saved_model(SAVED_MODEL_DIR)\n",
    "converter.allow_custom_ops = True\n",
    "tflite_model = converter.convert()\n"
   ]
  },
  {
   "cell_type": "code",
   "execution_count": 59,
   "id": "1a786117",
   "metadata": {},
   "outputs": [
    {
     "name": "stdout",
     "output_type": "stream",
     "text": [
      "The TF Light model size = 2582KBs.\n",
      "The TF Light model size = 2MBs.\n"
     ]
    }
   ],
   "source": [
    "# Show model size in KBs.\n",
    "float_model_size = len(tflite_model) / 1024\n",
    "float_model_size_mb = float_model_size / 1024\n",
    "print('The TF Light model size = %dKBs.' % float_model_size)\n",
    "print('The TF Light model size = %dMBs.' % float_model_size_mb)"
   ]
  },
  {
   "cell_type": "code",
   "execution_count": 60,
   "id": "1af8dcb4",
   "metadata": {},
   "outputs": [
    {
     "name": "stdout",
     "output_type": "stream",
     "text": [
      "WARNING:tensorflow:11 out of the last 11 calls to <function recreate_function.<locals>.restored_function_body at 0x7f6fed6df700> triggered tf.function retracing. Tracing is expensive and the excessive number of tracings could be due to (1) creating @tf.function repeatedly in a loop, (2) passing tensors with different shapes, (3) passing Python objects instead of tensors. For (1), please define your @tf.function outside of the loop. For (2), @tf.function has experimental_relax_shapes=True option that relaxes argument shapes that can avoid unnecessary retracing. For (3), please refer to https://www.tensorflow.org/guide/function#controlling_retracing and https://www.tensorflow.org/api_docs/python/tf/function for  more details.\n",
      "WARNING:tensorflow:11 out of the last 11 calls to <function recreate_function.<locals>.restored_function_body at 0x7f6fed635e50> triggered tf.function retracing. Tracing is expensive and the excessive number of tracings could be due to (1) creating @tf.function repeatedly in a loop, (2) passing tensors with different shapes, (3) passing Python objects instead of tensors. For (1), please define your @tf.function outside of the loop. For (2), @tf.function has experimental_relax_shapes=True option that relaxes argument shapes that can avoid unnecessary retracing. For (3), please refer to https://www.tensorflow.org/guide/function#controlling_retracing and https://www.tensorflow.org/api_docs/python/tf/function for  more details.\n",
      "WARNING:tensorflow:11 out of the last 11 calls to <function recreate_function.<locals>.restored_function_body at 0x7f6fefaa0040> triggered tf.function retracing. Tracing is expensive and the excessive number of tracings could be due to (1) creating @tf.function repeatedly in a loop, (2) passing tensors with different shapes, (3) passing Python objects instead of tensors. For (1), please define your @tf.function outside of the loop. For (2), @tf.function has experimental_relax_shapes=True option that relaxes argument shapes that can avoid unnecessary retracing. For (3), please refer to https://www.tensorflow.org/guide/function#controlling_retracing and https://www.tensorflow.org/api_docs/python/tf/function for  more details.\n"
     ]
    }
   ],
   "source": [
    "converter = tf.lite.TFLiteConverter.from_saved_model(SAVED_MODEL_DIR)\n",
    "converter.allow_custom_ops = True\n",
    "converter.optimizations = [tf.lite.Optimize.DEFAULT]\n",
    "tflite_optimized_model = converter.convert()\n"
   ]
  },
  {
   "cell_type": "code",
   "execution_count": 62,
   "id": "35b70aba",
   "metadata": {},
   "outputs": [
    {
     "name": "stdout",
     "output_type": "stream",
     "text": [
      "The TF Light model size = 678KBs.\n"
     ]
    }
   ],
   "source": [
    "# Show model size in KBs.\n",
    "float_model_size = len(tflite_optimized_model) / 1024\n",
    "float_model_size_mb = float_model_size / 1024\n",
    "print('The TF Light model size = %dKBs.' % float_model_size)"
   ]
  },
  {
   "cell_type": "code",
   "execution_count": 64,
   "id": "e4377de4",
   "metadata": {},
   "outputs": [],
   "source": [
    "interpreter = tf.lite.Interpreter(model_content=tflite_optimized_model)"
   ]
  },
  {
   "cell_type": "code",
   "execution_count": 65,
   "id": "b79b313e",
   "metadata": {},
   "outputs": [
    {
     "ename": "RuntimeError",
     "evalue": "Encountered unresolved custom op: MutableHashTableV2.Node number 0 (MutableHashTableV2) failed to prepare.\n",
     "output_type": "error",
     "traceback": [
      "\u001b[0;31m---------------------------------------------------------------------------\u001b[0m",
      "\u001b[0;31mRuntimeError\u001b[0m                              Traceback (most recent call last)",
      "\u001b[0;32m<ipython-input-65-72d9f1aaa9f5>\u001b[0m in \u001b[0;36m<module>\u001b[0;34m\u001b[0m\n\u001b[0;32m----> 1\u001b[0;31m \u001b[0minterpreter\u001b[0m\u001b[0;34m.\u001b[0m\u001b[0mallocate_tensors\u001b[0m\u001b[0;34m(\u001b[0m\u001b[0;34m)\u001b[0m \u001b[0;31m# memory allocation for input and output tensors\u001b[0m\u001b[0;34m\u001b[0m\u001b[0;34m\u001b[0m\u001b[0m\n\u001b[0m\u001b[1;32m      2\u001b[0m \u001b[0minput_tensor_index\u001b[0m \u001b[0;34m=\u001b[0m \u001b[0minterpreter\u001b[0m\u001b[0;34m.\u001b[0m\u001b[0mget_input_details\u001b[0m\u001b[0;34m(\u001b[0m\u001b[0;34m)\u001b[0m\u001b[0;34m[\u001b[0m\u001b[0;36m0\u001b[0m\u001b[0;34m]\u001b[0m\u001b[0;34m[\u001b[0m\u001b[0;34m\"index\"\u001b[0m\u001b[0;34m]\u001b[0m\u001b[0;34m\u001b[0m\u001b[0;34m\u001b[0m\u001b[0m\n\u001b[1;32m      3\u001b[0m \u001b[0moutput\u001b[0m \u001b[0;34m=\u001b[0m \u001b[0minterpreter\u001b[0m\u001b[0;34m.\u001b[0m\u001b[0mtensor\u001b[0m\u001b[0;34m(\u001b[0m\u001b[0minterpreter\u001b[0m\u001b[0;34m.\u001b[0m\u001b[0mget_output_details\u001b[0m\u001b[0;34m(\u001b[0m\u001b[0;34m)\u001b[0m\u001b[0;34m[\u001b[0m\u001b[0;36m0\u001b[0m\u001b[0;34m]\u001b[0m\u001b[0;34m[\u001b[0m\u001b[0;34m\"index\"\u001b[0m\u001b[0;34m]\u001b[0m\u001b[0;34m)\u001b[0m\u001b[0;34m\u001b[0m\u001b[0;34m\u001b[0m\u001b[0m\n",
      "\u001b[0;32m/mnt/disks/user/anaconda3/envs/cuda101/lib/python3.8/site-packages/tensorflow/lite/python/interpreter.py\u001b[0m in \u001b[0;36mallocate_tensors\u001b[0;34m(self)\u001b[0m\n\u001b[1;32m    257\u001b[0m   \u001b[0;32mdef\u001b[0m \u001b[0mallocate_tensors\u001b[0m\u001b[0;34m(\u001b[0m\u001b[0mself\u001b[0m\u001b[0;34m)\u001b[0m\u001b[0;34m:\u001b[0m\u001b[0;34m\u001b[0m\u001b[0;34m\u001b[0m\u001b[0m\n\u001b[1;32m    258\u001b[0m     \u001b[0mself\u001b[0m\u001b[0;34m.\u001b[0m\u001b[0m_ensure_safe\u001b[0m\u001b[0;34m(\u001b[0m\u001b[0;34m)\u001b[0m\u001b[0;34m\u001b[0m\u001b[0;34m\u001b[0m\u001b[0m\n\u001b[0;32m--> 259\u001b[0;31m     \u001b[0;32mreturn\u001b[0m \u001b[0mself\u001b[0m\u001b[0;34m.\u001b[0m\u001b[0m_interpreter\u001b[0m\u001b[0;34m.\u001b[0m\u001b[0mAllocateTensors\u001b[0m\u001b[0;34m(\u001b[0m\u001b[0;34m)\u001b[0m\u001b[0;34m\u001b[0m\u001b[0;34m\u001b[0m\u001b[0m\n\u001b[0m\u001b[1;32m    260\u001b[0m \u001b[0;34m\u001b[0m\u001b[0m\n\u001b[1;32m    261\u001b[0m   \u001b[0;32mdef\u001b[0m \u001b[0m_safe_to_run\u001b[0m\u001b[0;34m(\u001b[0m\u001b[0mself\u001b[0m\u001b[0;34m)\u001b[0m\u001b[0;34m:\u001b[0m\u001b[0;34m\u001b[0m\u001b[0;34m\u001b[0m\u001b[0m\n",
      "\u001b[0;31mRuntimeError\u001b[0m: Encountered unresolved custom op: MutableHashTableV2.Node number 0 (MutableHashTableV2) failed to prepare.\n"
     ]
    }
   ],
   "source": [
    "interpreter.allocate_tensors() # memory allocation for input and output tensors\n",
    "input_tensor_index = interpreter.get_input_details()[0][\"index\"]\n",
    "output = interpreter.tensor(interpreter.get_output_details()[0][\"index\"])"
   ]
  },
  {
   "cell_type": "code",
   "execution_count": null,
   "id": "e4d3dd03",
   "metadata": {},
   "outputs": [],
   "source": []
  }
 ],
 "metadata": {
  "kernelspec": {
   "display_name": "ML and DL with CUDA 10.2",
   "language": "python",
   "name": "cuda101"
  },
  "language_info": {
   "codemirror_mode": {
    "name": "ipython",
    "version": 3
   },
   "file_extension": ".py",
   "mimetype": "text/x-python",
   "name": "python",
   "nbconvert_exporter": "python",
   "pygments_lexer": "ipython3",
   "version": "3.8.8"
  }
 },
 "nbformat": 4,
 "nbformat_minor": 5
}
