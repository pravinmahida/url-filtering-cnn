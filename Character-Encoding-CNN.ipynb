{
 "cells": [
  {
   "cell_type": "code",
   "execution_count": 1,
   "id": "305e7b97",
   "metadata": {},
   "outputs": [],
   "source": [
    "import pandas as pd\n",
    "import matplotlib as mpl\n",
    "import matplotlib.pyplot as plt\n",
    "import numpy as np\n",
    "from sklearn.model_selection import train_test_split\n",
    "from sklearn.preprocessing  import LabelEncoder\n",
    "\n",
    "import tensorflow_datasets as tfds\n",
    "import tensorflow as tf\n",
    "from tensorflow.python.keras.layers import Dense\n",
    "from tensorflow.python.keras.layers import Dropout\n",
    "from tensorflow.python.keras.layers import Embedding\n",
    "from tensorflow.python.keras.layers import Conv1D\n",
    "from tensorflow.python.keras.layers import MaxPooling1D\n",
    "from tensorflow.python.keras.layers import Lambda\n",
    "from tensorflow.python.keras.layers import GlobalAveragePooling1D\n",
    "from keras.layers import Input, Embedding, LSTM, Dense, Bidirectional\n",
    "from keras.models import Model\n",
    "from keras import backend as K\n",
    "from keras.models import Sequential\n",
    "import sqlite3\n",
    "# metrics import for model evaluation.\n",
    "from sklearn.metrics import confusion_matrix\n",
    "from sklearn.metrics import classification_report\n",
    "from sklearn.metrics import roc_curve\n",
    "from sklearn.metrics import roc_auc_score\n",
    "from sklearn.metrics import precision_recall_curve\n",
    "from sklearn.metrics import auc\n",
    "\n",
    "tfds.disable_progress_bar()"
   ]
  },
  {
   "cell_type": "code",
   "execution_count": 2,
   "id": "a2d8de0f",
   "metadata": {},
   "outputs": [],
   "source": [
    "tf.__version__\n",
    "BUFFER_SIZE = 10000\n",
    "BATCH_SIZE = 64\n",
    "NO_EPOCHS = 30"
   ]
  },
  {
   "cell_type": "code",
   "execution_count": 3,
   "id": "29da76eb",
   "metadata": {},
   "outputs": [],
   "source": [
    "import matplotlib.pyplot as plt\n",
    "\n",
    "\n",
    "def plot_graphs(history, metric):\n",
    "  plt.plot(history.history[metric])\n",
    "  plt.plot(history.history['val_'+metric], '')\n",
    "  plt.xlabel(\"Epochs\")\n",
    "  plt.ylabel(metric)\n",
    "  plt.legend([metric, 'val_'+metric])"
   ]
  },
  {
   "cell_type": "code",
   "execution_count": 4,
   "id": "77574d44",
   "metadata": {},
   "outputs": [
    {
     "name": "stdout",
     "output_type": "stream",
     "text": [
      "<class 'pandas.core.frame.DataFrame'>\n",
      "RangeIndex: 922412 entries, 0 to 922411\n",
      "Data columns (total 3 columns):\n",
      " #   Column      Non-Null Count   Dtype \n",
      "---  ------      --------------   ----- \n",
      " 0   Unnamed: 0  922412 non-null  int64 \n",
      " 1   url         922412 non-null  object\n",
      " 2   label       922412 non-null  object\n",
      "dtypes: int64(1), object(2)\n",
      "memory usage: 21.1+ MB\n"
     ]
    }
   ],
   "source": [
    "# load Dataset1.\n",
    "url_data = pd.read_csv('combined_data.csv')\n",
    "url_data.info()"
   ]
  },
  {
   "cell_type": "code",
   "execution_count": 5,
   "id": "16976830",
   "metadata": {},
   "outputs": [],
   "source": [
    "# connect to urlDB.db sqlLite database.\n",
    "# con = sqlite3.connect(\"./sqllite/urlDB.db\")\n",
    "# cur = con.cursor()\n",
    "# # Drop URLS Table if already exist.\n",
    "# cur.execute(\"DROP TABLE URLS;\")\n",
    "# # CREATE new URLS Table.\n",
    "# cur.execute(\"CREATE TABLE URLS ( URL_ID INT PRIMARY KEY NOT NULL, URL TEXT NOT NULL, LABEL TEXT NOT NULL, CONF_SCORE REAL);\")\n",
    "# # Loop thru url_data row and generate insert values.\n",
    "# to_db = [(i+1, url_data.loc[i, \"url\"], url_data.loc[i, \"label\"]) for i in range(len(url_data))]\n",
    "# # insert current csv data into database.\n",
    "# cur.executemany(\"INSERT INTO URLS (URL_ID, URL, LABEL) VALUES (?, ?, ?);\", to_db)\n",
    "# # Commit changes.\n",
    "# con.commit()\n",
    "# # Close connect for now will reconnect after prediction.\n",
    "# con.close()\n"
   ]
  },
  {
   "cell_type": "code",
   "execution_count": 6,
   "id": "a59ee565",
   "metadata": {},
   "outputs": [
    {
     "data": {
      "text/html": [
       "<div>\n",
       "<style scoped>\n",
       "    .dataframe tbody tr th:only-of-type {\n",
       "        vertical-align: middle;\n",
       "    }\n",
       "\n",
       "    .dataframe tbody tr th {\n",
       "        vertical-align: top;\n",
       "    }\n",
       "\n",
       "    .dataframe thead th {\n",
       "        text-align: right;\n",
       "    }\n",
       "</style>\n",
       "<table border=\"1\" class=\"dataframe\">\n",
       "  <thead>\n",
       "    <tr style=\"text-align: right;\">\n",
       "      <th></th>\n",
       "      <th>Unnamed: 0</th>\n",
       "      <th>url</th>\n",
       "      <th>label</th>\n",
       "    </tr>\n",
       "  </thead>\n",
       "  <tbody>\n",
       "    <tr>\n",
       "      <th>0</th>\n",
       "      <td>0</td>\n",
       "      <td>https://www.google.com</td>\n",
       "      <td>benign</td>\n",
       "    </tr>\n",
       "    <tr>\n",
       "      <th>1</th>\n",
       "      <td>1</td>\n",
       "      <td>https://www.youtube.com</td>\n",
       "      <td>benign</td>\n",
       "    </tr>\n",
       "    <tr>\n",
       "      <th>2</th>\n",
       "      <td>2</td>\n",
       "      <td>https://www.facebook.com</td>\n",
       "      <td>benign</td>\n",
       "    </tr>\n",
       "    <tr>\n",
       "      <th>3</th>\n",
       "      <td>3</td>\n",
       "      <td>https://www.baidu.com</td>\n",
       "      <td>benign</td>\n",
       "    </tr>\n",
       "    <tr>\n",
       "      <th>4</th>\n",
       "      <td>4</td>\n",
       "      <td>https://www.wikipedia.org</td>\n",
       "      <td>benign</td>\n",
       "    </tr>\n",
       "  </tbody>\n",
       "</table>\n",
       "</div>"
      ],
      "text/plain": [
       "   Unnamed: 0                        url   label\n",
       "0           0     https://www.google.com  benign\n",
       "1           1    https://www.youtube.com  benign\n",
       "2           2   https://www.facebook.com  benign\n",
       "3           3      https://www.baidu.com  benign\n",
       "4           4  https://www.wikipedia.org  benign"
      ]
     },
     "execution_count": 6,
     "metadata": {},
     "output_type": "execute_result"
    }
   ],
   "source": [
    "url_data.head()"
   ]
  },
  {
   "cell_type": "code",
   "execution_count": 7,
   "id": "526b3e55",
   "metadata": {},
   "outputs": [
    {
     "name": "stdout",
     "output_type": "stream",
     "text": [
      "<class 'pandas.core.frame.DataFrame'>\n",
      "RangeIndex: 922412 entries, 0 to 922411\n",
      "Data columns (total 3 columns):\n",
      " #   Column      Non-Null Count   Dtype \n",
      "---  ------      --------------   ----- \n",
      " 0   Unnamed: 0  922412 non-null  int64 \n",
      " 1   url         922412 non-null  object\n",
      " 2   label       922412 non-null  int64 \n",
      "dtypes: int64(2), object(1)\n",
      "memory usage: 21.1+ MB\n"
     ]
    }
   ],
   "source": [
    "number = LabelEncoder()\n",
    "url_data['label'] = number.fit_transform(url_data['label'].astype(str))\n",
    "url_data.info()"
   ]
  },
  {
   "cell_type": "code",
   "execution_count": 8,
   "id": "70618d9e",
   "metadata": {},
   "outputs": [
    {
     "name": "stdout",
     "output_type": "stream",
     "text": [
      "Shape of x_train:  (737929, 3)\n",
      "Shape of x_valid:  (184483, 3)\n"
     ]
    }
   ],
   "source": [
    "# Data Partioning \n",
    "\n",
    "train, test = train_test_split(url_data, test_size=0.2)\n",
    "x_train, x_test = train_test_split(url_data['url'], test_size=0.2)\n",
    "y_train, y_test = train_test_split(url_data['label'], test_size=0.2)\n",
    "\n",
    "train.to_csv('train.csv', header=False)\n",
    "test.to_csv('test.csv', header=False)\n",
    "\n",
    "print(\"Shape of x_train: \", train.shape)\n",
    "print(\"Shape of x_valid: \", test.shape)"
   ]
  },
  {
   "cell_type": "code",
   "execution_count": 9,
   "id": "7fe9f969",
   "metadata": {},
   "outputs": [
    {
     "data": {
      "text/plain": [
       "True"
      ]
     },
     "execution_count": 9,
     "metadata": {},
     "output_type": "execute_result"
    }
   ],
   "source": [
    "\n",
    "types  = [tf.string, tf.int64]\n",
    "record_defaults = ['XXXX', 999] # Only provide defaults for the selected columns\n",
    "tf.executing_eagerly()\n"
   ]
  },
  {
   "cell_type": "code",
   "execution_count": 10,
   "id": "b84d9991",
   "metadata": {},
   "outputs": [
    {
     "data": {
      "text/plain": [
       "(TensorSpec(shape=(), dtype=tf.string, name=None),\n",
       " TensorSpec(shape=(), dtype=tf.int32, name=None))"
      ]
     },
     "execution_count": 10,
     "metadata": {},
     "output_type": "execute_result"
    }
   ],
   "source": [
    "train_dataset = tf.data.experimental.CsvDataset(\"train.csv\", record_defaults, select_cols=[2, 3])\n",
    "train_dataset.element_spec"
   ]
  },
  {
   "cell_type": "code",
   "execution_count": 11,
   "id": "1cc553f5",
   "metadata": {},
   "outputs": [
    {
     "data": {
      "text/plain": [
       "(TensorSpec(shape=(), dtype=tf.string, name=None),\n",
       " TensorSpec(shape=(), dtype=tf.int32, name=None))"
      ]
     },
     "execution_count": 11,
     "metadata": {},
     "output_type": "execute_result"
    }
   ],
   "source": [
    "test_dataset = tf.data.experimental.CsvDataset(\"test.csv\", record_defaults, select_cols=[2, 3])\n",
    "test_dataset.element_spec\n"
   ]
  },
  {
   "cell_type": "code",
   "execution_count": 12,
   "id": "3bfde4b1",
   "metadata": {},
   "outputs": [
    {
     "data": {
      "text/plain": [
       "<PrefetchDataset shapes: ((None,), (None,)), types: (tf.string, tf.int32)>"
      ]
     },
     "execution_count": 12,
     "metadata": {},
     "output_type": "execute_result"
    }
   ],
   "source": [
    "train_dataset = train_dataset.shuffle(BUFFER_SIZE).batch(BATCH_SIZE).prefetch(tf.data.AUTOTUNE)\n",
    "test_dataset = test_dataset.batch(BATCH_SIZE).prefetch(tf.data.AUTOTUNE)\n",
    "train_dataset"
   ]
  },
  {
   "cell_type": "code",
   "execution_count": 13,
   "id": "c93c9a16",
   "metadata": {},
   "outputs": [],
   "source": [
    "def char_split(input_data):\n",
    "    return tf.strings.unicode_split(input_data, 'UTF-8')\n",
    "\n",
    "# URL will always be single word so we need to split with '/' to get word from url.\n",
    "def word_split(input_data):\n",
    "    return tf.strings.split(input_data, sep='/')"
   ]
  },
  {
   "cell_type": "code",
   "execution_count": 14,
   "id": "c7f5d906",
   "metadata": {},
   "outputs": [
    {
     "name": "stdout",
     "output_type": "stream",
     "text": [
      "urls:  [b'https://www.lighthousefriends.com/light.asp?ID=1468'\n",
      " b'www.perl.com/pub/a/1998/11/xml.html'\n",
      " b'https://www.mcgillremembers.mcgill.ca/ww1/ww1_main.html']\n",
      "\n",
      "labels:  [0 0 0]\n"
     ]
    }
   ],
   "source": [
    "for url, label in train_dataset.take(1):\n",
    "  print('urls: ', url.numpy()[:3])\n",
    "  print()\n",
    "  print('labels: ', label.numpy()[:3])"
   ]
  },
  {
   "cell_type": "code",
   "execution_count": 15,
   "id": "5d4ebed4",
   "metadata": {},
   "outputs": [
    {
     "data": {
      "text/plain": [
       "(TensorSpec(shape=(None,), dtype=tf.string, name=None),\n",
       " TensorSpec(shape=(None,), dtype=tf.int32, name=None))"
      ]
     },
     "execution_count": 15,
     "metadata": {},
     "output_type": "execute_result"
    }
   ],
   "source": [
    "train_dataset.element_spec"
   ]
  },
  {
   "cell_type": "code",
   "execution_count": 16,
   "id": "96d5f218",
   "metadata": {},
   "outputs": [],
   "source": [
    "VOCAB_SIZE = 1000\n",
    "sequence_length = 200\n",
    "\n",
    "encoder = tf.keras.layers.experimental.preprocessing.TextVectorization(\n",
    "    max_tokens=VOCAB_SIZE,\n",
    "    split=char_split, # word_split or char_split\n",
    "    output_mode=\"int\",\n",
    "    pad_to_max_tokens=True,\n",
    "    output_sequence_length=sequence_length,\n",
    ")\n",
    "\n",
    "encoder.adapt(train_dataset.map(lambda url, label: url))\n"
   ]
  },
  {
   "cell_type": "code",
   "execution_count": 17,
   "id": "d83d81ed",
   "metadata": {},
   "outputs": [
    {
     "data": {
      "text/plain": [
       "233"
      ]
     },
     "execution_count": 17,
     "metadata": {},
     "output_type": "execute_result"
    }
   ],
   "source": [
    "vocab = np.array(encoder.get_vocabulary())\n",
    "len(vocab)"
   ]
  },
  {
   "cell_type": "code",
   "execution_count": 18,
   "id": "3b146b02",
   "metadata": {},
   "outputs": [],
   "source": [
    "def vectorize_text(text):\n",
    "    text = tf.expand_dims(text, -1)\n",
    "    return tf.squeeze(encoder(text))"
   ]
  },
  {
   "cell_type": "code",
   "execution_count": 19,
   "id": "e562a5d1",
   "metadata": {},
   "outputs": [
    {
     "data": {
      "text/plain": [
       "<tf.Tensor: shape=(200,), dtype=int64, numpy=\n",
       "array([15,  3,  3, 14,  6, 12, 12, 12,  2, 34,  5, 11, 14, 13,  2,  8,  4,\n",
       "       11,  0,  0,  0,  0,  0,  0,  0,  0,  0,  0,  0,  0,  0,  0,  0,  0,\n",
       "        0,  0,  0,  0,  0,  0,  0,  0,  0,  0,  0,  0,  0,  0,  0,  0,  0,\n",
       "        0,  0,  0,  0,  0,  0,  0,  0,  0,  0,  0,  0,  0,  0,  0,  0,  0,\n",
       "        0,  0,  0,  0,  0,  0,  0,  0,  0,  0,  0,  0,  0,  0,  0,  0,  0,\n",
       "        0,  0,  0,  0,  0,  0,  0,  0,  0,  0,  0,  0,  0,  0,  0,  0,  0,\n",
       "        0,  0,  0,  0,  0,  0,  0,  0,  0,  0,  0,  0,  0,  0,  0,  0,  0,\n",
       "        0,  0,  0,  0,  0,  0,  0,  0,  0,  0,  0,  0,  0,  0,  0,  0,  0,\n",
       "        0,  0,  0,  0,  0,  0,  0,  0,  0,  0,  0,  0,  0,  0,  0,  0,  0,\n",
       "        0,  0,  0,  0,  0,  0,  0,  0,  0,  0,  0,  0,  0,  0,  0,  0,  0,\n",
       "        0,  0,  0,  0,  0,  0,  0,  0,  0,  0,  0,  0,  0,  0,  0,  0,  0,\n",
       "        0,  0,  0,  0,  0,  0,  0,  0,  0,  0,  0,  0,  0])>"
      ]
     },
     "execution_count": 19,
     "metadata": {},
     "output_type": "execute_result"
    }
   ],
   "source": [
    "vectorize_text(\"https://www.example.com\")"
   ]
  },
  {
   "cell_type": "code",
   "execution_count": 20,
   "id": "77a78787",
   "metadata": {},
   "outputs": [],
   "source": [
    "def getconvmodel(filter_length,nb_filter):\n",
    "    model = Sequential()\n",
    "    model.add(Conv1D(filters=nb_filter,\n",
    "                        input_shape=(200, 64),\n",
    "                        kernel_size=filter_length,\n",
    "                        padding='same',\n",
    "                        activation='relu'))\n",
    "    model.add(Lambda(sum_1d, output_shape=(nb_filter,)))\n",
    "    model.add(Dropout(0.5))\n",
    "    return model"
   ]
  },
  {
   "cell_type": "code",
   "execution_count": 21,
   "id": "0a7077d0",
   "metadata": {},
   "outputs": [],
   "source": [
    "def sum_1d(X):\n",
    "    return K.sum(X, axis=1)\n"
   ]
  },
  {
   "cell_type": "code",
   "execution_count": 22,
   "id": "e401e736",
   "metadata": {},
   "outputs": [],
   "source": [
    "# set different metrics on model.\n",
    "metrics = [\n",
    "      tf.keras.metrics.TruePositives(name='tp'),\n",
    "      tf.keras.metrics.FalsePositives(name='fp'),\n",
    "      tf.keras.metrics.TrueNegatives(name='tn'),\n",
    "      tf.keras.metrics.FalseNegatives(name='fn'), \n",
    "      tf.keras.metrics.BinaryAccuracy(name='accuracy'),\n",
    "      tf.keras.metrics.Precision(name='precision'),\n",
    "      tf.keras.metrics.Recall(name='recall'),\n",
    "      tf.keras.metrics.AUC(name='auc'),\n",
    "      tf.keras.metrics.AUC(name='prc', curve='PR'), # precision-recall curve\n",
    "]"
   ]
  },
  {
   "cell_type": "code",
   "execution_count": 23,
   "id": "b3e23903",
   "metadata": {},
   "outputs": [],
   "source": [
    "input_shape=(len(vocab),)"
   ]
  },
  {
   "cell_type": "code",
   "execution_count": 24,
   "id": "c4cc790d",
   "metadata": {},
   "outputs": [],
   "source": [
    "# LSTM Model with 1 Layer.\n",
    "\n",
    "# main_input = Input(shape=(1,), dtype='string', name='main_input')\n",
    "# x = encoder(main_input)\n",
    "# embedding_layer =  tf.keras.layers.Embedding(\n",
    "#                     output_dim=64,\n",
    "#                     input_dim=len(vocab),\n",
    "#                     mask_zero=True);\n",
    "# x = embedding_layer(x)\n",
    "\n",
    "# x = tf.keras.layers.Bidirectional(tf.keras.layers.CuDNNLSTM(64, return_sequences=True, return_state=True)) (x)\n",
    "\n",
    "# x = tf.keras.layers.Dense(64, activation='relu') (x)\n",
    "\n",
    "# output = Dense(1,activation='sigmoid')(x)\n",
    "\n",
    "# lstm1_model = Model(inputs=main_input,outputs=output)\n",
    "# lstm1_model.summary()\n",
    "\n",
    "# lstm1_model.compile(loss=tf.keras.losses.BinaryCrossentropy(from_logits=True),\n",
    "#               optimizer=tf.keras.optimizers.Adam(1e-4),\n",
    "#               metrics=metrics)\n",
    "\n",
    "\n",
    "# history = lstm1_model.fit(train_dataset, epochs=1, validation_data=test_dataset)"
   ]
  },
  {
   "cell_type": "code",
   "execution_count": 25,
   "id": "0afe18ea",
   "metadata": {},
   "outputs": [],
   "source": [
    "# LSTM Model with 2 Layers.\n",
    "\n",
    "# lstm2_model = tf.keras.Sequential([\n",
    "#     encoder,\n",
    "#     tf.keras.layers.Embedding(len(encoder.get_vocabulary()), 64, mask_zero=True),\n",
    "#     tf.keras.layers.Bidirectional(tf.keras.layers.LSTM(64,  return_sequences=True)),\n",
    "#     tf.keras.layers.Bidirectional(tf.keras.layers.LSTM(32)),\n",
    "#     tf.keras.layers.Dense(64, activation='relu'),\n",
    "#     tf.keras.layers.Dropout(0.5),\n",
    "#     tf.keras.layers.Dense(1)\n",
    "# ])\n",
    "\n",
    "# lstm2_model.compile(loss=tf.keras.losses.BinaryCrossentropy(from_logits=True),\n",
    "#               optimizer=tf.keras.optimizers.Adam(1e-4),\n",
    "#               metrics=metrics)\n",
    "\n",
    "\n",
    "# history = lstm2_model.fit(train_dataset, epochs=1, validation_data=test_dataset)\n"
   ]
  },
  {
   "cell_type": "code",
   "execution_count": 26,
   "id": "cf61b8ee",
   "metadata": {},
   "outputs": [],
   "source": [
    "# model = tf.keras.Sequential()\n",
    "# model.add(tf.keras.layers.Embedding(input_dim=1000, output_dim=64))\n",
    "\n",
    "# # The output of GRU will be a 3D tensor of shape (batch_size, timesteps, 256)\n",
    "# model.add(tf.keras.layers.GRU(256, return_sequences=True))\n",
    "\n",
    "# # The output of SimpleRNN will be a 2D tensor of shape (batch_size, 128)\n",
    "# model.add(tf.keras.layers.SimpleRNN(128))\n",
    "\n",
    "# model.add(tf.keras.layers.Dense(10))\n",
    "\n",
    "# model.summary()"
   ]
  },
  {
   "cell_type": "code",
   "execution_count": 27,
   "id": "2f48617b",
   "metadata": {},
   "outputs": [],
   "source": [
    "# CNN Model.\n",
    "main_input = Input(shape=(1,), dtype='string', name='main_input')\n",
    "x = encoder(main_input)\n",
    "embedding_layer =  tf.keras.layers.Embedding(\n",
    "                    output_dim=64,\n",
    "                    input_dim=len(vocab),\n",
    "                    mask_zero=True);\n",
    "embedded = embedding_layer(x)\n",
    "conv1 = getconvmodel(2,256) (embedded)\n",
    "conv2 = getconvmodel(3,256) (embedded)\n",
    "conv3 = getconvmodel(4,256) (embedded)\n",
    "conv4 = getconvmodel(5,256) (embedded)\n",
    "\n",
    "concatted = tf.keras.layers.Concatenate()([conv1, conv2, conv3, conv4])\n",
    "\n",
    "middle = Dense(1024,activation='relu')(concatted)\n",
    "middle = Dropout(0.5)(middle)\n",
    "\n",
    "middle = Dense(1024,activation='relu')(middle)\n",
    "middle = Dropout(0.5)(middle)\n",
    "\n",
    "# middle = tf.keras.layers.GRU(1024)(embedded) # Not working fine.\n",
    "# normalize = tf.keras.layers.BatchNormalization()(middle)\n",
    "\n",
    "output = Dense(1,activation='sigmoid')(middle)\n",
    "\n",
    "cnn_model = Model(inputs=main_input,outputs=output)"
   ]
  },
  {
   "cell_type": "code",
   "execution_count": 28,
   "id": "e62ea6fe",
   "metadata": {},
   "outputs": [
    {
     "name": "stdout",
     "output_type": "stream",
     "text": [
      "Model: \"model\"\n",
      "__________________________________________________________________________________________________\n",
      "Layer (type)                    Output Shape         Param #     Connected to                     \n",
      "==================================================================================================\n",
      "main_input (InputLayer)         [(None, 1)]          0                                            \n",
      "__________________________________________________________________________________________________\n",
      "text_vectorization (TextVectori (None, 200)          0           main_input[0][0]                 \n",
      "__________________________________________________________________________________________________\n",
      "embedding (Embedding)           (None, 200, 64)      14912       text_vectorization[0][0]         \n",
      "__________________________________________________________________________________________________\n",
      "sequential (Sequential)         (None, 128)          16512       embedding[0][0]                  \n",
      "__________________________________________________________________________________________________\n",
      "sequential_1 (Sequential)       (None, 128)          24704       embedding[0][0]                  \n",
      "__________________________________________________________________________________________________\n",
      "sequential_2 (Sequential)       (None, 128)          32896       embedding[0][0]                  \n",
      "__________________________________________________________________________________________________\n",
      "sequential_3 (Sequential)       (None, 128)          41088       embedding[0][0]                  \n",
      "__________________________________________________________________________________________________\n",
      "concatenate (Concatenate)       (None, 512)          0           sequential[0][0]                 \n",
      "                                                                 sequential_1[0][0]               \n",
      "                                                                 sequential_2[0][0]               \n",
      "                                                                 sequential_3[0][0]               \n",
      "__________________________________________________________________________________________________\n",
      "dense (Dense)                   (None, 512)          262656      concatenate[0][0]                \n",
      "__________________________________________________________________________________________________\n",
      "dropout_4 (Dropout)             (None, 512)          0           dense[0][0]                      \n",
      "__________________________________________________________________________________________________\n",
      "dense_1 (Dense)                 (None, 512)          262656      dropout_4[0][0]                  \n",
      "__________________________________________________________________________________________________\n",
      "dropout_5 (Dropout)             (None, 512)          0           dense_1[0][0]                    \n",
      "__________________________________________________________________________________________________\n",
      "dense_2 (Dense)                 (None, 1)            513         dropout_5[0][0]                  \n",
      "==================================================================================================\n",
      "Total params: 655,937\n",
      "Trainable params: 655,937\n",
      "Non-trainable params: 0\n",
      "__________________________________________________________________________________________________\n"
     ]
    }
   ],
   "source": [
    "model = cnn_model\n",
    "\n",
    "model.compile(loss=tf.keras.losses.BinaryCrossentropy(from_logits=True),\n",
    "              optimizer=tf.keras.optimizers.Adam(learning_rate=0.001),\n",
    "              metrics=metrics)\n",
    "model.summary()"
   ]
  },
  {
   "cell_type": "code",
   "execution_count": 29,
   "id": "ec1a76c9",
   "metadata": {},
   "outputs": [],
   "source": [
    "# Working model.\n",
    "\n",
    "# main_input = Input(shape=(200,), dtype='int32', name='main_input')\n",
    "# input_shape=(1000,1)\n",
    "\n",
    "# model = tf.keras.Sequential([\n",
    "#     encoder,\n",
    "#     tf.keras.layers.Embedding(\n",
    "#                     output_dim=200,\n",
    "#                     input_dim=1000,\n",
    "#                     mask_zero=True),\n",
    "#     tf.keras.layers.Conv1D(filters=256,\n",
    "#                           kernel_size=4,\n",
    "#                           input_shape=(1000,),\n",
    "#                           activation='relu',\n",
    "#                           bias_initializer='random_uniform',\n",
    "#                           padding='same'),\n",
    "#     tf.keras.layers.Lambda(sum_1d, output_shape=(nb_filter,)),\n",
    "#     tf.keras.layers.Dropout(0.5),\n",
    "#     tf.keras.layers.Dense(32, activation='relu'),\n",
    "#     tf.keras.layers.Dense(1)\n",
    "# ])\n",
    "\n",
    "# Working model -2\n",
    "\n",
    "# input_shape=(len(vocab),)\n",
    "\n",
    "# main_input = Input(shape=(1,), dtype='string', name='main_input')\n",
    "# x = encoder(main_input)\n",
    "# embedding_layer =  tf.keras.layers.Embedding(\n",
    "#                     output_dim=200,\n",
    "#                     input_dim=1000,\n",
    "#                     mask_zero=True);\n",
    "# x = embedding_layer(x)\n",
    "# conv1 = getconvmodel(2,256) (x)\n",
    "# conv2 = getconvmodel(3,256) (x)\n",
    "# conv3 = getconvmodel(4,256) (x)\n",
    "# conv4 = getconvmodel(5,256) (x)\n",
    "\n",
    "# concatted = tf.keras.layers.Concatenate()([conv1, conv2, conv3, conv4])\n",
    "\n",
    "# middle = Dense(1024,activation='relu')(concatted)\n",
    "# middle = Dropout(0.5)(middle)\n",
    "\n",
    "# middle = Dense(1024,activation='relu')(middle)\n",
    "# middle = Dropout(0.5)(middle)\n",
    "\n",
    "# output = Dense(1,activation='sigmoid')(middle)\n",
    "\n",
    "# model = Model(inputs=main_input,outputs=output)\n",
    "# model.summary()"
   ]
  },
  {
   "cell_type": "code",
   "execution_count": null,
   "id": "00f9f9b3",
   "metadata": {},
   "outputs": [],
   "source": []
  },
  {
   "cell_type": "code",
   "execution_count": 30,
   "id": "e75253e5",
   "metadata": {},
   "outputs": [
    {
     "name": "stdout",
     "output_type": "stream",
     "text": [
      "('Failed to import pydot. You must `pip install pydot` and install graphviz (https://graphviz.gitlab.io/download/), ', 'for `pydotprint` to work.')\n"
     ]
    }
   ],
   "source": [
    "tf.keras.utils.plot_model(model, rankdir=\"LR\", show_shapes=True)"
   ]
  },
  {
   "cell_type": "code",
   "execution_count": 31,
   "id": "460a7273",
   "metadata": {},
   "outputs": [
    {
     "name": "stdout",
     "output_type": "stream",
     "text": [
      "['main_input', 'text_vectorization', 'embedding', 'sequential', 'sequential_1', 'sequential_2', 'sequential_3', 'concatenate', 'dense', 'dropout_4', 'dense_1', 'dropout_5', 'dense_2']\n"
     ]
    }
   ],
   "source": [
    "print([layer.name for layer in model.layers])"
   ]
  },
  {
   "cell_type": "code",
   "execution_count": 32,
   "id": "1b750929",
   "metadata": {},
   "outputs": [
    {
     "name": "stdout",
     "output_type": "stream",
     "text": [
      "[0.8655153]\n"
     ]
    }
   ],
   "source": [
    "sample_url = ('app.cfe.gob.mx.aplicaciones.pagos.findhere.org/app/miperfil.html?_default.asp?id=nuevo_usuario&amp;prod=2012_pagoenlinea.aspx')\n",
    "predictions = model.predict(np.array([sample_url]))\n",
    "print(predictions[0])"
   ]
  },
  {
   "cell_type": "code",
   "execution_count": 33,
   "id": "f482805c",
   "metadata": {},
   "outputs": [],
   "source": [
    "# model.compile(loss=tf.keras.losses.BinaryCrossentropy(from_logits=True),\n",
    "#               optimizer=tf.keras.optimizers.Adam(1e-4),\n",
    "#               metrics=['accuracy'])"
   ]
  },
  {
   "cell_type": "code",
   "execution_count": 34,
   "id": "7a6f600d",
   "metadata": {},
   "outputs": [
    {
     "name": "stdout",
     "output_type": "stream",
     "text": [
      "Epoch 1/30\n",
      "11531/11531 [==============================] - 338s 28ms/step - loss: 0.1798 - tp: 60440.9353 - fp: 4310.3196 - tn: 291214.8201 - fn: 13089.9099 - accuracy: 0.9394 - precision: 0.9044 - recall: 0.7721 - auc: 0.9525 - prc: 0.8999 - val_loss: 0.0707 - val_tp: 32990.0000 - val_fp: 750.0000 - val_tn: 147021.0000 - val_fn: 3722.0000 - val_accuracy: 0.9758 - val_precision: 0.9778 - val_recall: 0.8986 - val_auc: 0.9928 - val_prc: 0.9824\n",
      "Epoch 2/30\n",
      "11531/11531 [==============================] - 337s 29ms/step - loss: 0.0827 - tp: 66184.4981 - fp: 2735.2414 - tn: 292790.5092 - fn: 7345.7362 - accuracy: 0.9722 - precision: 0.9591 - recall: 0.8993 - auc: 0.9896 - prc: 0.9749 - val_loss: 0.0630 - val_tp: 33650.0000 - val_fp: 761.0000 - val_tn: 147010.0000 - val_fn: 3062.0000 - val_accuracy: 0.9793 - val_precision: 0.9779 - val_recall: 0.9166 - val_auc: 0.9946 - val_prc: 0.9859\n",
      "Epoch 3/30\n",
      "11531/11531 [==============================] - 332s 29ms/step - loss: 0.0766 - tp: 66582.1994 - fp: 2377.5745 - tn: 293145.0706 - fn: 6951.1404 - accuracy: 0.9746 - precision: 0.9655 - recall: 0.9048 - auc: 0.9909 - prc: 0.9780 - val_loss: 0.0586 - val_tp: 33374.0000 - val_fp: 488.0000 - val_tn: 147283.0000 - val_fn: 3338.0000 - val_accuracy: 0.9793 - val_precision: 0.9856 - val_recall: 0.9091 - val_auc: 0.9951 - val_prc: 0.9877\n",
      "Epoch 4/30\n",
      "11531/11531 [==============================] - 328s 28ms/step - loss: 0.0741 - tp: 66726.6909 - fp: 2323.2703 - tn: 293202.1652 - fn: 6803.8585 - accuracy: 0.9753 - precision: 0.9666 - recall: 0.9072 - auc: 0.9914 - prc: 0.9793 - val_loss: 0.0573 - val_tp: 33848.0000 - val_fp: 613.0000 - val_tn: 147158.0000 - val_fn: 2864.0000 - val_accuracy: 0.9812 - val_precision: 0.9822 - val_recall: 0.9220 - val_auc: 0.9954 - val_prc: 0.9878\n",
      "Epoch 5/30\n",
      "11531/11531 [==============================] - 327s 28ms/step - loss: 0.0728 - tp: 66841.4498 - fp: 2250.1039 - tn: 293273.5375 - fn: 6690.8938 - accuracy: 0.9758 - precision: 0.9677 - recall: 0.9089 - auc: 0.9917 - prc: 0.9800 - val_loss: 0.0558 - val_tp: 33706.0000 - val_fp: 494.0000 - val_tn: 147277.0000 - val_fn: 3006.0000 - val_accuracy: 0.9810 - val_precision: 0.9856 - val_recall: 0.9181 - val_auc: 0.9956 - val_prc: 0.9887\n",
      "Epoch 6/30\n",
      "11531/11531 [==============================] - 328s 28ms/step - loss: 0.0714 - tp: 67007.5747 - fp: 2209.0469 - tn: 293322.9246 - fn: 6516.4387 - accuracy: 0.9764 - precision: 0.9681 - recall: 0.9118 - auc: 0.9920 - prc: 0.9804 - val_loss: 0.0597 - val_tp: 33027.0000 - val_fp: 291.0000 - val_tn: 147480.0000 - val_fn: 3685.0000 - val_accuracy: 0.9784 - val_precision: 0.9913 - val_recall: 0.8996 - val_auc: 0.9956 - val_prc: 0.9888\n",
      "Epoch 7/30\n",
      "11531/11531 [==============================] - 329s 29ms/step - loss: 0.0718 - tp: 66976.7368 - fp: 2207.2318 - tn: 293318.9446 - fn: 6553.0717 - accuracy: 0.9764 - precision: 0.9681 - recall: 0.9114 - auc: 0.9917 - prc: 0.9803 - val_loss: 0.0551 - val_tp: 34230.0000 - val_fp: 761.0000 - val_tn: 147010.0000 - val_fn: 2482.0000 - val_accuracy: 0.9824 - val_precision: 0.9783 - val_recall: 0.9324 - val_auc: 0.9960 - val_prc: 0.9887\n",
      "Epoch 8/30\n",
      "11531/11531 [==============================] - 329s 29ms/step - loss: 0.0711 - tp: 66909.8293 - fp: 2188.8228 - tn: 293336.8736 - fn: 6620.4592 - accuracy: 0.9762 - precision: 0.9683 - recall: 0.9105 - auc: 0.9920 - prc: 0.9806 - val_loss: 0.0614 - val_tp: 33482.0000 - val_fp: 412.0000 - val_tn: 147359.0000 - val_fn: 3230.0000 - val_accuracy: 0.9803 - val_precision: 0.9878 - val_recall: 0.9120 - val_auc: 0.9953 - val_prc: 0.9888\n",
      "Epoch 9/30\n",
      "11531/11531 [==============================] - 326s 28ms/step - loss: 0.0709 - tp: 67056.6617 - fp: 2215.2882 - tn: 293322.7545 - fn: 6461.2804 - accuracy: 0.9765 - precision: 0.9679 - recall: 0.9122 - auc: 0.9922 - prc: 0.9809 - val_loss: 0.0586 - val_tp: 34136.0000 - val_fp: 734.0000 - val_tn: 147037.0000 - val_fn: 2576.0000 - val_accuracy: 0.9821 - val_precision: 0.9790 - val_recall: 0.9298 - val_auc: 0.9959 - val_prc: 0.9888\n",
      "Epoch 10/30\n",
      "11531/11531 [==============================] - 327s 28ms/step - loss: 0.0714 - tp: 66977.4931 - fp: 2223.6944 - tn: 293300.5006 - fn: 6554.2967 - accuracy: 0.9764 - precision: 0.9681 - recall: 0.9115 - auc: 0.9921 - prc: 0.9808 - val_loss: 0.0671 - val_tp: 32751.0000 - val_fp: 237.0000 - val_tn: 147534.0000 - val_fn: 3961.0000 - val_accuracy: 0.9772 - val_precision: 0.9928 - val_recall: 0.8921 - val_auc: 0.9954 - val_prc: 0.9887\n",
      "Epoch 11/30\n",
      "11531/11531 [==============================] - 322s 28ms/step - loss: 0.0730 - tp: 66867.8926 - fp: 2174.8258 - tn: 293356.9095 - fn: 6656.3570 - accuracy: 0.9761 - precision: 0.9682 - recall: 0.9101 - auc: 0.9918 - prc: 0.9801 - val_loss: 0.0656 - val_tp: 33037.0000 - val_fp: 271.0000 - val_tn: 147500.0000 - val_fn: 3675.0000 - val_accuracy: 0.9786 - val_precision: 0.9919 - val_recall: 0.8999 - val_auc: 0.9952 - val_prc: 0.9885\n",
      "Epoch 12/30\n",
      "11531/11531 [==============================] - 321s 28ms/step - loss: 0.0737 - tp: 66734.7415 - fp: 2213.8280 - tn: 293321.9427 - fn: 6785.4728 - accuracy: 0.9757 - precision: 0.9682 - recall: 0.9079 - auc: 0.9919 - prc: 0.9798 - val_loss: 0.0712 - val_tp: 33613.0000 - val_fp: 536.0000 - val_tn: 147235.0000 - val_fn: 3099.0000 - val_accuracy: 0.9803 - val_precision: 0.9843 - val_recall: 0.9156 - val_auc: 0.9958 - val_prc: 0.9884\n",
      "Epoch 13/30\n",
      "11531/11531 [==============================] - 323s 28ms/step - loss: 0.0741 - tp: 66790.1163 - fp: 2210.6909 - tn: 293327.6008 - fn: 6727.5770 - accuracy: 0.9758 - precision: 0.9681 - recall: 0.9087 - auc: 0.9917 - prc: 0.9796 - val_loss: 0.0663 - val_tp: 32668.0000 - val_fp: 188.0000 - val_tn: 147583.0000 - val_fn: 4044.0000 - val_accuracy: 0.9771 - val_precision: 0.9943 - val_recall: 0.8898 - val_auc: 0.9960 - val_prc: 0.9895\n",
      "Epoch 14/30\n",
      "11531/11531 [==============================] - 330s 29ms/step - loss: 0.0738 - tp: 66781.2877 - fp: 2222.5640 - tn: 293298.8561 - fn: 6753.2771 - accuracy: 0.9757 - precision: 0.9680 - recall: 0.9083 - auc: 0.9917 - prc: 0.9798 - val_loss: 0.0743 - val_tp: 33056.0000 - val_fp: 296.0000 - val_tn: 147475.0000 - val_fn: 3656.0000 - val_accuracy: 0.9786 - val_precision: 0.9911 - val_recall: 0.9004 - val_auc: 0.9956 - val_prc: 0.9887\n",
      "Epoch 15/30\n",
      "11531/11531 [==============================] - 328s 28ms/step - loss: 0.0757 - tp: 66640.7460 - fp: 2197.1199 - tn: 293333.5323 - fn: 6884.5867 - accuracy: 0.9755 - precision: 0.9683 - recall: 0.9070 - auc: 0.9912 - prc: 0.9790 - val_loss: 0.0722 - val_tp: 33172.0000 - val_fp: 347.0000 - val_tn: 147424.0000 - val_fn: 3540.0000 - val_accuracy: 0.9789 - val_precision: 0.9896 - val_recall: 0.9036 - val_auc: 0.9956 - val_prc: 0.9882\n",
      "Epoch 16/30\n",
      "11531/11531 [==============================] - 323s 28ms/step - loss: 0.0747 - tp: 66629.8269 - fp: 2212.1788 - tn: 293324.2255 - fn: 6889.7536 - accuracy: 0.9754 - precision: 0.9680 - recall: 0.9067 - auc: 0.9914 - prc: 0.9793 - val_loss: 0.0730 - val_tp: 32589.0000 - val_fp: 271.0000 - val_tn: 147500.0000 - val_fn: 4123.0000 - val_accuracy: 0.9762 - val_precision: 0.9918 - val_recall: 0.8877 - val_auc: 0.9951 - val_prc: 0.9875\n",
      "Epoch 17/30\n",
      "11531/11531 [==============================] - 324s 28ms/step - loss: 0.0762 - tp: 66560.3992 - fp: 2285.4768 - tn: 293246.3690 - fn: 6963.7400 - accuracy: 0.9749 - precision: 0.9665 - recall: 0.9055 - auc: 0.9912 - prc: 0.9787 - val_loss: 0.0722 - val_tp: 33480.0000 - val_fp: 486.0000 - val_tn: 147285.0000 - val_fn: 3232.0000 - val_accuracy: 0.9798 - val_precision: 0.9857 - val_recall: 0.9120 - val_auc: 0.9952 - val_prc: 0.9876\n",
      "Epoch 18/30\n",
      "11531/11531 [==============================] - 324s 28ms/step - loss: 0.0772 - tp: 66482.5343 - fp: 2297.3302 - tn: 293225.8640 - fn: 7050.2564 - accuracy: 0.9747 - precision: 0.9662 - recall: 0.9048 - auc: 0.9907 - prc: 0.9781 - val_loss: 0.0790 - val_tp: 33219.0000 - val_fp: 361.0000 - val_tn: 147410.0000 - val_fn: 3493.0000 - val_accuracy: 0.9791 - val_precision: 0.9892 - val_recall: 0.9049 - val_auc: 0.9954 - val_prc: 0.9881\n",
      "Epoch 19/30\n"
     ]
    },
    {
     "name": "stdout",
     "output_type": "stream",
     "text": [
      "11531/11531 [==============================] - 318s 28ms/step - loss: 0.0877 - tp: 66399.4353 - fp: 2305.8796 - tn: 293222.0654 - fn: 7128.6047 - accuracy: 0.9746 - precision: 0.9664 - recall: 0.9039 - auc: 0.9907 - prc: 0.9772 - val_loss: 0.0808 - val_tp: 33000.0000 - val_fp: 335.0000 - val_tn: 147436.0000 - val_fn: 3712.0000 - val_accuracy: 0.9781 - val_precision: 0.9900 - val_recall: 0.8989 - val_auc: 0.9952 - val_prc: 0.9874\n",
      "Epoch 20/30\n",
      "11531/11531 [==============================] - 319s 28ms/step - loss: 0.0793 - tp: 66176.7623 - fp: 2306.7423 - tn: 293227.5831 - fn: 7344.8972 - accuracy: 0.9739 - precision: 0.9662 - recall: 0.9003 - auc: 0.9907 - prc: 0.9774 - val_loss: 0.0975 - val_tp: 31557.0000 - val_fp: 130.0000 - val_tn: 147641.0000 - val_fn: 5155.0000 - val_accuracy: 0.9714 - val_precision: 0.9959 - val_recall: 0.8596 - val_auc: 0.9949 - val_prc: 0.9872\n",
      "Epoch 21/30\n",
      "11531/11531 [==============================] - 321s 28ms/step - loss: 0.0792 - tp: 66327.6991 - fp: 2332.3433 - tn: 293199.5694 - fn: 7196.3731 - accuracy: 0.9743 - precision: 0.9659 - recall: 0.9031 - auc: 0.9908 - prc: 0.9776 - val_loss: 0.1020 - val_tp: 33670.0000 - val_fp: 626.0000 - val_tn: 147145.0000 - val_fn: 3042.0000 - val_accuracy: 0.9801 - val_precision: 0.9817 - val_recall: 0.9171 - val_auc: 0.9950 - val_prc: 0.9862\n",
      "Epoch 22/30\n",
      "11531/11531 [==============================] - 326s 28ms/step - loss: 0.0817 - tp: 66067.6426 - fp: 2376.0536 - tn: 293153.0531 - fn: 7459.2356 - accuracy: 0.9734 - precision: 0.9654 - recall: 0.8987 - auc: 0.9901 - prc: 0.9761 - val_loss: 0.0817 - val_tp: 33697.0000 - val_fp: 589.0000 - val_tn: 147182.0000 - val_fn: 3015.0000 - val_accuracy: 0.9805 - val_precision: 0.9828 - val_recall: 0.9179 - val_auc: 0.9953 - val_prc: 0.9869\n",
      "Epoch 23/30\n",
      "11531/11531 [==============================] - 320s 28ms/step - loss: 0.0803 - tp: 66045.2625 - fp: 2273.5965 - tn: 293257.8814 - fn: 7479.2445 - accuracy: 0.9736 - precision: 0.9668 - recall: 0.8983 - auc: 0.9905 - prc: 0.9768 - val_loss: 0.1226 - val_tp: 31722.0000 - val_fp: 142.0000 - val_tn: 147629.0000 - val_fn: 4990.0000 - val_accuracy: 0.9722 - val_precision: 0.9955 - val_recall: 0.8641 - val_auc: 0.9945 - val_prc: 0.9871\n",
      "Epoch 24/30\n",
      "11531/11531 [==============================] - 326s 28ms/step - loss: 0.0820 - tp: 66084.8779 - fp: 2353.8638 - tn: 293173.4162 - fn: 7443.8270 - accuracy: 0.9733 - precision: 0.9656 - recall: 0.8981 - auc: 0.9901 - prc: 0.9762 - val_loss: 0.0947 - val_tp: 31694.0000 - val_fp: 159.0000 - val_tn: 147612.0000 - val_fn: 5018.0000 - val_accuracy: 0.9719 - val_precision: 0.9950 - val_recall: 0.8633 - val_auc: 0.9954 - val_prc: 0.9876\n",
      "Epoch 25/30\n",
      "11531/11531 [==============================] - 322s 28ms/step - loss: 0.0806 - tp: 66198.5083 - fp: 2361.8757 - tn: 293157.1492 - fn: 7338.4518 - accuracy: 0.9737 - precision: 0.9651 - recall: 0.9008 - auc: 0.9902 - prc: 0.9767 - val_loss: 0.0822 - val_tp: 33506.0000 - val_fp: 592.0000 - val_tn: 147179.0000 - val_fn: 3206.0000 - val_accuracy: 0.9794 - val_precision: 0.9826 - val_recall: 0.9127 - val_auc: 0.9949 - val_prc: 0.9862\n",
      "Epoch 26/30\n",
      "11531/11531 [==============================] - 331s 29ms/step - loss: 0.0827 - tp: 66082.2801 - fp: 2361.6916 - tn: 293165.1746 - fn: 7446.8386 - accuracy: 0.9733 - precision: 0.9655 - recall: 0.8983 - auc: 0.9901 - prc: 0.9764 - val_loss: 0.1033 - val_tp: 32493.0000 - val_fp: 219.0000 - val_tn: 147552.0000 - val_fn: 4219.0000 - val_accuracy: 0.9759 - val_precision: 0.9933 - val_recall: 0.8851 - val_auc: 0.9953 - val_prc: 0.9873\n",
      "Epoch 27/30\n",
      "11531/11531 [==============================] - 323s 28ms/step - loss: 0.0830 - tp: 65943.8944 - fp: 2341.0472 - tn: 293187.3264 - fn: 7583.7170 - accuracy: 0.9731 - precision: 0.9659 - recall: 0.8967 - auc: 0.9899 - prc: 0.9756 - val_loss: 0.1073 - val_tp: 33317.0000 - val_fp: 446.0000 - val_tn: 147325.0000 - val_fn: 3395.0000 - val_accuracy: 0.9792 - val_precision: 0.9868 - val_recall: 0.9075 - val_auc: 0.9949 - val_prc: 0.9868\n",
      "Epoch 28/30\n",
      "11531/11531 [==============================] - 324s 28ms/step - loss: 0.0852 - tp: 65900.9371 - fp: 2408.9795 - tn: 293118.2187 - fn: 7627.8495 - accuracy: 0.9727 - precision: 0.9643 - recall: 0.8963 - auc: 0.9896 - prc: 0.9748 - val_loss: 0.0972 - val_tp: 33359.0000 - val_fp: 487.0000 - val_tn: 147284.0000 - val_fn: 3353.0000 - val_accuracy: 0.9792 - val_precision: 0.9856 - val_recall: 0.9087 - val_auc: 0.9952 - val_prc: 0.9868\n",
      "Epoch 29/30\n",
      "11531/11531 [==============================] - 321s 28ms/step - loss: 0.0825 - tp: 66011.8135 - fp: 2313.0758 - tn: 293216.7350 - fn: 7514.3606 - accuracy: 0.9735 - precision: 0.9661 - recall: 0.8983 - auc: 0.9900 - prc: 0.9759 - val_loss: 0.0951 - val_tp: 33556.0000 - val_fp: 516.0000 - val_tn: 147255.0000 - val_fn: 3156.0000 - val_accuracy: 0.9801 - val_precision: 0.9849 - val_recall: 0.9140 - val_auc: 0.9954 - val_prc: 0.9873\n",
      "Epoch 30/30\n",
      "11531/11531 [==============================] - 329s 29ms/step - loss: 0.0835 - tp: 65981.3828 - fp: 2343.5682 - tn: 293182.9588 - fn: 7548.0750 - accuracy: 0.9732 - precision: 0.9655 - recall: 0.8976 - auc: 0.9898 - prc: 0.9755 - val_loss: 0.1199 - val_tp: 32751.0000 - val_fp: 288.0000 - val_tn: 147483.0000 - val_fn: 3961.0000 - val_accuracy: 0.9770 - val_precision: 0.9913 - val_recall: 0.8921 - val_auc: 0.9955 - val_prc: 0.9876\n"
     ]
    }
   ],
   "source": [
    "history = model.fit(train_dataset, epochs=NO_EPOCHS, validation_data=test_dataset)"
   ]
  },
  {
   "cell_type": "code",
   "execution_count": 45,
   "id": "3158d2f4",
   "metadata": {},
   "outputs": [
    {
     "name": "stdout",
     "output_type": "stream",
     "text": [
      "Predicting probability\n"
     ]
    }
   ],
   "source": [
    "print (\"Predicting probability\")\n",
    "y_pred = model.predict(test['url'])"
   ]
  },
  {
   "cell_type": "code",
   "execution_count": 46,
   "id": "efe6f93b",
   "metadata": {},
   "outputs": [
    {
     "name": "stdout",
     "output_type": "stream",
     "text": [
      "Precision Avg 0.9657573401927948\n",
      "Recall Avg 0.9027046581109365\n",
      "Accuracy Avg 0.9742317140102387\n",
      "Auc Avg 0.9906242489814758\n"
     ]
    }
   ],
   "source": [
    "metrics = ['precision', 'recall', 'accuracy', 'auc']\n",
    "for n, metric in enumerate(metrics):\n",
    "    name = metric.replace(\"_\",\" \").capitalize()\n",
    "    print(name + \" Avg \" + str(np.mean(history.history[metric])))\n",
    "\n",
    "# print(classification_report(y_test, y_pred))"
   ]
  },
  {
   "cell_type": "code",
   "execution_count": 47,
   "id": "fec010ac",
   "metadata": {},
   "outputs": [],
   "source": [
    "mpl.rcParams['figure.figsize'] = (18, 12)\n",
    "colors = plt.rcParams['axes.prop_cycle'].by_key()['color']\n",
    "\n",
    "def plot_metrics(history):\n",
    "    metrics = ['loss', 'prc', 'precision', 'recall', 'accuracy', 'auc']\n",
    "    for n, metric in enumerate(metrics):\n",
    "        name = metric.replace(\"_\",\" \").capitalize()\n",
    "        plt.subplot(2,3,n+1)\n",
    "        plt.plot(history.epoch, history.history[metric], color=colors[0], label='Train')\n",
    "        plt.plot(history.epoch, history.history['val_'+metric],\n",
    "                 color=colors[1], linestyle=\"--\", label='Val')\n",
    "        plt.xlabel('Interation')\n",
    "        plt.ylabel(name)\n",
    "        if metric == 'loss':\n",
    "             plt.ylim([0, plt.ylim()[1]])\n",
    "        else:\n",
    "              plt.ylim([0.8,1])\n",
    "\n",
    "        plt.legend()"
   ]
  },
  {
   "cell_type": "code",
   "execution_count": 48,
   "id": "f5014ac1",
   "metadata": {},
   "outputs": [
    {
     "data": {
      "image/png": "[encoded data removed]",
      "text/plain": [
       "<Figure size 1296x864 with 6 Axes>"
      ]
     },
     "metadata": {
      "needs_background": "light"
     },
     "output_type": "display_data"
    }
   ],
   "source": [
    "plot_metrics(history)"
   ]
  },
  {
   "cell_type": "code",
   "execution_count": 39,
   "id": "d63e3191",
   "metadata": {},
   "outputs": [],
   "source": [
    "def plot_roc(name, labels, predictions, **kwargs):\n",
    "    fp, tp, _ = sklearn.metrics.roc_curve(labels, predictions)\n",
    "\n",
    "    plt.plot(100*fp, 100*tp, label=name, linewidth=2, **kwargs)\n",
    "    plt.xlabel('False positives [%]')\n",
    "    plt.ylabel('True positives [%]')\n",
    "    plt.xlim([-0.5,20])\n",
    "    plt.ylim([80,100.5])\n",
    "    plt.grid(True)\n",
    "    ax = plt.gca()\n",
    "    ax.set_aspect('equal')"
   ]
  },
  {
   "cell_type": "code",
   "execution_count": 40,
   "id": "aa02f166",
   "metadata": {},
   "outputs": [],
   "source": [
    "# plot_roc(\"Train Baseline\", y_train, train_predictions_baseline, color=colors[0])\n",
    "# plot_roc(\"Test Baseline\", y_test, test_predictions_baseline, color=colors[0], linestyle='--')\n",
    "# plt.legend(loc='lower right')"
   ]
  },
  {
   "cell_type": "code",
   "execution_count": 41,
   "id": "039c7604",
   "metadata": {},
   "outputs": [
    {
     "name": "stdout",
     "output_type": "stream",
     "text": [
      "                                                   url      label\n",
      "0    yellowpage-quebec.com/list.html?page=1&ipp=All...     Benign\n",
      "1    https://www.iagora.com/studies/uni/%C9cole_Pol...     Benign\n",
      "2    https://www.mylife.com/high-schools/qc/deux_mo...     Benign\n",
      "3    lakenewsonline.com/news/x13260620/Today-in-the...     Benign\n",
      "4                                 churchbooktable.org/     Benign\n",
      "..                                                 ...        ...\n",
      "253                    youtube.com/watch?v=eXPnRkPKzkI     Benign\n",
      "254  http://url.snd35.ch/url-677041563-2830495-2201...  Malicious\n",
      "255              http://pne.cut.org.br/includes/safety  Malicious\n",
      "256  nativebookshawaii.com/shop/index.php?main_page...     Benign\n",
      "257                      remax-realestate-stalbert.ca/     Benign\n",
      "\n",
      "[258 rows x 2 columns]\n"
     ]
    }
   ],
   "source": [
    "# sample testing with 200 Random Records.\n",
    "# get 200 sample records from 1M records.\n",
    "x_test_sample = x_test.sample(frac=0.0014)\n",
    "\n",
    "predictions = model.predict(x_test_sample)\n",
    "\n",
    "predicted_rows = []\n",
    "for idx, x in np.ndenumerate(x_test_sample):\n",
    "    label = 'Benign'\n",
    "    if (predictions[idx] > 0.5):\n",
    "        label = 'Malicious'\n",
    "    else:\n",
    "        label = 'Benign'\n",
    "    predicted_rows.append([x, label])\n",
    "\n",
    "df = pd.DataFrame(predicted_rows, columns=[\"url\", \"label\"])\n",
    "print(df)"
   ]
  },
  {
   "cell_type": "code",
   "execution_count": 42,
   "id": "b76b497d",
   "metadata": {},
   "outputs": [],
   "source": [
    "# Change this to True if you want to test the flow rapidly.\n",
    "# Train with a small dataset and only 1 epoch. The model will work poorly\n",
    "# but this provides a fast way to test if the conversion works end to end.\n",
    "\n",
    "# _FAST_TRAINING = False\n",
    "# _EPOCHS = 5\n",
    "\n",
    "# x_train_ds = tf.convert_to_tensor(pd.DataFrame(x_train))\n",
    "# y_train_ds = tf.convert_to_tensor(pd.DataFrame(y_train))\n",
    "# x_test_ds = tf.convert_to_tensor(pd.DataFrame(x_test))\n",
    "# y_test_ds = tf.convert_to_tensor(pd.DataFrame(y_test))\n",
    "    \n",
    "# if _FAST_TRAINING:\n",
    "#     _EPOCHS = 1\n",
    "#     _TRAINING_DATA_COUNT = 1000\n",
    "#     # Get split to small Dataset.\n",
    "#     x_train_ds = x_train[:_TRAINING_DATA_COUNT]\n",
    "#     y_train_ds = y_train[:_TRAINING_DATA_COUNT]\n",
    "#     x_test_ds = x_test[:_TRAINING_DATA_COUNT]\n",
    "#     y_test_ds = y_test[:_TRAINING_DATA_COUNT]\n",
    "#     # Convert to Tensors.\n",
    "#     x_train_ds = tf.convert_to_tensor(pd.DataFrame(x_train_ds))\n",
    "#     y_train_ds = tf.convert_to_tensor(pd.DataFrame(y_train_ds))\n",
    "#     x_test_ds = tf.convert_to_tensor(pd.DataFrame(x_test_ds))\n",
    "#     y_test_ds = tf.convert_to_tensor(pd.DataFrame(y_test_ds))\n",
    "\n",
    "# model.fit(x_train_ds, y_train_ds, epochs=_EPOCHS)\n",
    "# model.evaluate(x_test_ds, y_test_ds, verbose=0)"
   ]
  },
  {
   "cell_type": "code",
   "execution_count": 43,
   "id": "7599f1ac",
   "metadata": {},
   "outputs": [],
   "source": [
    "# run_model = tf.function(lambda x: model(x))\n",
    "# # This is important, let's fix the input size.\n",
    "# INPUT_SIZE = 200\n",
    "# concrete_func = run_model.get_concrete_function(\n",
    "#     tf.TensorSpec([INPUT_SIZE]))"
   ]
  },
  {
   "cell_type": "code",
   "execution_count": null,
   "id": "7c1cfbeb",
   "metadata": {},
   "outputs": [],
   "source": []
  },
  {
   "cell_type": "code",
   "execution_count": 44,
   "id": "f46ca82d",
   "metadata": {},
   "outputs": [
    {
     "name": "stdout",
     "output_type": "stream",
     "text": [
      "WARNING:tensorflow:AutoGraph could not transform <function _trace_save_and_restore_function.<locals>.save_fn at 0x7fe82831d670> and will run it as-is.\n",
      "Please report this to the TensorFlow team. When filing the bug, set the verbosity to 10 (on Linux, `export AUTOGRAPH_VERBOSITY=10`) and attach the full output.\n",
      "Cause: module 'gast' has no attribute 'Index'\n",
      "To silence this warning, decorate the function with @tf.autograph.experimental.do_not_convert\n",
      "WARNING: AutoGraph could not transform <function _trace_save_and_restore_function.<locals>.save_fn at 0x7fe82831d670> and will run it as-is.\n",
      "Please report this to the TensorFlow team. When filing the bug, set the verbosity to 10 (on Linux, `export AUTOGRAPH_VERBOSITY=10`) and attach the full output.\n",
      "Cause: module 'gast' has no attribute 'Index'\n",
      "To silence this warning, decorate the function with @tf.autograph.experimental.do_not_convert\n",
      "WARNING:tensorflow:AutoGraph could not transform <function _trace_save_and_restore_function.<locals>.save_fn at 0x7fe831112d30> and will run it as-is.\n",
      "Please report this to the TensorFlow team. When filing the bug, set the verbosity to 10 (on Linux, `export AUTOGRAPH_VERBOSITY=10`) and attach the full output.\n",
      "Cause: module 'gast' has no attribute 'Index'\n",
      "To silence this warning, decorate the function with @tf.autograph.experimental.do_not_convert\n",
      "WARNING: AutoGraph could not transform <function _trace_save_and_restore_function.<locals>.save_fn at 0x7fe831112d30> and will run it as-is.\n",
      "Please report this to the TensorFlow team. When filing the bug, set the verbosity to 10 (on Linux, `export AUTOGRAPH_VERBOSITY=10`) and attach the full output.\n",
      "Cause: module 'gast' has no attribute 'Index'\n",
      "To silence this warning, decorate the function with @tf.autograph.experimental.do_not_convert\n",
      "INFO:tensorflow:Assets written to: keras_cnn_model/assets\n"
     ]
    },
    {
     "ename": "NameError",
     "evalue": "name 'model_dir' is not defined",
     "output_type": "error",
     "traceback": [
      "\u001b[0;31m---------------------------------------------------------------------------\u001b[0m",
      "\u001b[0;31mNameError\u001b[0m                                 Traceback (most recent call last)",
      "\u001b[0;32m<ipython-input-44-38a4a4810c3a>\u001b[0m in \u001b[0;36m<module>\u001b[0;34m\u001b[0m\n\u001b[1;32m      2\u001b[0m \u001b[0mMODEL_DIR\u001b[0m \u001b[0;34m=\u001b[0m \u001b[0;34m\"keras_cnn_model\"\u001b[0m\u001b[0;34m\u001b[0m\u001b[0;34m\u001b[0m\u001b[0m\n\u001b[1;32m      3\u001b[0m \u001b[0mmodel\u001b[0m\u001b[0;34m.\u001b[0m\u001b[0msave\u001b[0m\u001b[0;34m(\u001b[0m\u001b[0mMODEL_DIR\u001b[0m\u001b[0;34m)\u001b[0m\u001b[0;34m\u001b[0m\u001b[0;34m\u001b[0m\u001b[0m\n\u001b[0;32m----> 4\u001b[0;31m \u001b[0mestimator\u001b[0m \u001b[0;34m=\u001b[0m \u001b[0mtf\u001b[0m\u001b[0;34m.\u001b[0m\u001b[0mkeras\u001b[0m\u001b[0;34m.\u001b[0m\u001b[0mestimator\u001b[0m\u001b[0;34m.\u001b[0m\u001b[0mmodel_to_estimator\u001b[0m\u001b[0;34m(\u001b[0m\u001b[0mkeras_model\u001b[0m\u001b[0;34m=\u001b[0m\u001b[0mmodel\u001b[0m\u001b[0;34m,\u001b[0m \u001b[0mmodel_dir\u001b[0m\u001b[0;34m=\u001b[0m\u001b[0mmodel_dir\u001b[0m\u001b[0;34m)\u001b[0m\u001b[0;34m\u001b[0m\u001b[0;34m\u001b[0m\u001b[0m\n\u001b[0m",
      "\u001b[0;31mNameError\u001b[0m: name 'model_dir' is not defined"
     ]
    }
   ],
   "source": [
    "#model directory.\n",
    "MODEL_DIR = \"keras_cnn_model\"\n",
    "model.save(MODEL_DIR)\n",
    "estimator = tf.keras.estimator.model_to_estimator(keras_model=model, model_dir=model_dir)"
   ]
  },
  {
   "cell_type": "code",
   "execution_count": null,
   "id": "1b80dc33",
   "metadata": {},
   "outputs": [],
   "source": [
    "load_model = tf.keras.models.load_model(MODEL_DIR)\n",
    "\n",
    "# Check its architecture\n",
    "load_model.summary()"
   ]
  },
  {
   "cell_type": "code",
   "execution_count": null,
   "id": "4584c69f",
   "metadata": {},
   "outputs": [],
   "source": []
  }
 ],
 "metadata": {
  "kernelspec": {
   "display_name": "ML and DL with CUDA 10.2",
   "language": "python",
   "name": "cuda101"
  },
  "language_info": {
   "codemirror_mode": {
    "name": "ipython",
    "version": 3
   },
   "file_extension": ".py",
   "mimetype": "text/x-python",
   "name": "python",
   "nbconvert_exporter": "python",
   "pygments_lexer": "ipython3",
   "version": "3.8.8"
  }
 },
 "nbformat": 4,
 "nbformat_minor": 5
}
